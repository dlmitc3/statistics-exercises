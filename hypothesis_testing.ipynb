{
 "cells": [
  {
   "cell_type": "code",
   "execution_count": 1,
   "id": "8b4b1e04",
   "metadata": {},
   "outputs": [],
   "source": [
    "import matplotlib.pyplot as plt\n",
    "import numpy as np\n",
    "import pandas as pd\n",
    "from scipy import stats\n",
    "from scipy.stats import norm, binom\n",
    "from scipy.stats import poisson\n",
    "import seaborn as sns\n",
    "import env\n",
    "np.random.seed(123)\n"
   ]
  },
  {
   "cell_type": "raw",
   "id": "830406d0",
   "metadata": {},
   "source": [
    "Exercises\n",
    "\n",
    "Do your work for this exercise in a jupyter notebook named hypothesis_testing.ipynb.\n",
    "\n",
    "For each of the following questions, formulate a null and alternative hypothesis (be as specific as you can be), then give an example of what a true positive, true negative, type I and type II errors would look like. \n",
    "\n",
    "Note that some of the questions are intentionally phrased in a vague way. It is your job to reword these as more precise questions that could be tested.\n",
    "\n",
    "- Has the network latency gone up since we switched internet service providers?\n",
    "\n",
    "Ho: The latency difference from service provider (A) to service providers (B) has not changed or decreased.\n",
    "\n",
    "Ha: Latency difference from service providers (A) to service providers (B) has changed and can impact gaming proformance.\n",
    "\n",
    "-True positive:\n",
    "\n",
    "-True negative:\n",
    "\n",
    "-Type I: Latency difference provided from Providers (A ) to      Provider (B) can impact gaming performance and determine winners and losers\n",
    "\n",
    "-Type II: Latency difference provided from Providers (A ) to Provider (B) can impact gaming performance and determine winners and losers\n",
    "\n",
    "\n",
    "\n",
    "\n",
    "- Is the website redesign any good?\n",
    "\n",
    "- Is our television ad driving more sales?"
   ]
  },
  {
   "cell_type": "raw",
   "id": "567f0213",
   "metadata": {},
   "source": [
    "Is the website redesign any good?\n",
    "\n",
    "Ho: There has been no daily increase in website visites since deploying the redesigned website\n",
    "\n",
    "Ha: There has been an increase in daily website visites since deploying the redesigned website\n",
    "\n",
    "-True positive:I determined that the number of daily website visits has increased\n",
    "\n",
    "-True negative: I determined that the number of daily website visits has decreased\n",
    "\n",
    "-Type I: I determined that the number of daily website visits has increased when it has actually decreased\n",
    "\n",
    "-Type II: I determined that the number of daily website visits has decreased when it has actually increased"
   ]
  },
  {
   "cell_type": "raw",
   "id": "a143db5d",
   "metadata": {},
   "source": [
    "Is our television ad driving more sales?\n",
    "\n",
    "Ho: Sales volume is not greater with new ad\n",
    "\n",
    "Ha: Sales volume is greater with new ad\n",
    "\n",
    "-True positive: I have determined that the sales value has increase sales\n",
    "\n",
    "-True negative: I have determined that sales value has decreased or stayed the same\n",
    "\n",
    "-Type I: I determined that the ad has increase sales when it has decreased or stayed the same\n",
    "\n",
    "-Type II: I have determined that the ad decreased sales when it has increase or stayed the same."
   ]
  },
  {
   "cell_type": "code",
   "execution_count": null,
   "id": "d5d86cbd",
   "metadata": {},
   "outputs": [],
   "source": []
  },
  {
   "cell_type": "code",
   "execution_count": null,
   "id": "e701fe8a",
   "metadata": {},
   "outputs": [],
   "source": []
  },
  {
   "cell_type": "code",
   "execution_count": null,
   "id": "7c667bb5",
   "metadata": {},
   "outputs": [],
   "source": []
  },
  {
   "cell_type": "code",
   "execution_count": null,
   "id": "07e06b19",
   "metadata": {},
   "outputs": [],
   "source": []
  },
  {
   "cell_type": "raw",
   "id": "0ac68f0a",
   "metadata": {},
   "source": [
    "Ace Realty wants to determine whether the average time it takes to sell homes is different for its two offices. \n",
    "\n",
    "- A sample of 40 sales from office #1 revealed a mean of 90 days and a standard deviation of 15 days. \n",
    "\n",
    "- A sample of 50 sales from office #2 revealed a mean of 100 days and a standard deviation of 20 days. \n",
    "\n",
    "- Use a .05 level of significance."
   ]
  },
  {
   "cell_type": "raw",
   "id": "9be4d619",
   "metadata": {},
   "source": [
    "scipy.stats.ttest_ind(a, b, axis=0, equal_var=True, nan_policy='propagate', permutations=None, random_state=None, alternative='two-sided', trim=0)"
   ]
  },
  {
   "cell_type": "raw",
   "id": "ed729275",
   "metadata": {},
   "source": [
    "we can use scipy.stats.ttest_ind_from _stats"
   ]
  },
  {
   "cell_type": "code",
   "execution_count": 74,
   "id": "6a107d6c",
   "metadata": {},
   "outputs": [],
   "source": [
    "import scipy"
   ]
  },
  {
   "cell_type": "code",
   "execution_count": 75,
   "id": "0bcca2de",
   "metadata": {},
   "outputs": [],
   "source": [
    "alpha = 0.05"
   ]
  },
  {
   "cell_type": "code",
   "execution_count": 76,
   "id": "617ab8b6",
   "metadata": {},
   "outputs": [
    {
     "ename": "AttributeError",
     "evalue": "'Line2D' object has no property 'lable'",
     "output_type": "error",
     "traceback": [
      "\u001b[0;31m---------------------------------------------------------------------------\u001b[0m",
      "\u001b[0;31mAttributeError\u001b[0m                            Traceback (most recent call last)",
      "\u001b[0;32m/var/folders/vb/2f5pphz943qdprdg5zvhqsbm0000gp/T/ipykernel_53329/3071823563.py\u001b[0m in \u001b[0;36m<module>\u001b[0;34m\u001b[0m\n\u001b[1;32m      5\u001b[0m \u001b[0;34m\u001b[0m\u001b[0m\n\u001b[1;32m      6\u001b[0m \u001b[0;34m\u001b[0m\u001b[0m\n\u001b[0;32m----> 7\u001b[0;31m \u001b[0mplt\u001b[0m\u001b[0;34m.\u001b[0m\u001b[0mplot\u001b[0m\u001b[0;34m(\u001b[0m\u001b[0mx\u001b[0m\u001b[0;34m,\u001b[0m \u001b[0my1\u001b[0m\u001b[0;34m,\u001b[0m \u001b[0mlable\u001b[0m \u001b[0;34m=\u001b[0m \u001b[0;34m\"office 1\"\u001b[0m\u001b[0;34m)\u001b[0m\u001b[0;34m\u001b[0m\u001b[0;34m\u001b[0m\u001b[0m\n\u001b[0m\u001b[1;32m      8\u001b[0m \u001b[0mplt\u001b[0m\u001b[0;34m.\u001b[0m\u001b[0mplot\u001b[0m\u001b[0;34m(\u001b[0m\u001b[0mx\u001b[0m\u001b[0;34m,\u001b[0m \u001b[0my2\u001b[0m\u001b[0;34m,\u001b[0m \u001b[0mlable\u001b[0m \u001b[0;34m=\u001b[0m \u001b[0;34m\"office 2\"\u001b[0m\u001b[0;34m)\u001b[0m\u001b[0;34m\u001b[0m\u001b[0;34m\u001b[0m\u001b[0m\n\u001b[1;32m      9\u001b[0m \u001b[0;34m\u001b[0m\u001b[0m\n",
      "\u001b[0;32m/opt/homebrew/anaconda3/lib/python3.9/site-packages/matplotlib/pyplot.py\u001b[0m in \u001b[0;36mplot\u001b[0;34m(scalex, scaley, data, *args, **kwargs)\u001b[0m\n\u001b[1;32m   3017\u001b[0m \u001b[0;34m@\u001b[0m\u001b[0m_copy_docstring_and_deprecators\u001b[0m\u001b[0;34m(\u001b[0m\u001b[0mAxes\u001b[0m\u001b[0;34m.\u001b[0m\u001b[0mplot\u001b[0m\u001b[0;34m)\u001b[0m\u001b[0;34m\u001b[0m\u001b[0;34m\u001b[0m\u001b[0m\n\u001b[1;32m   3018\u001b[0m \u001b[0;32mdef\u001b[0m \u001b[0mplot\u001b[0m\u001b[0;34m(\u001b[0m\u001b[0;34m*\u001b[0m\u001b[0margs\u001b[0m\u001b[0;34m,\u001b[0m \u001b[0mscalex\u001b[0m\u001b[0;34m=\u001b[0m\u001b[0;32mTrue\u001b[0m\u001b[0;34m,\u001b[0m \u001b[0mscaley\u001b[0m\u001b[0;34m=\u001b[0m\u001b[0;32mTrue\u001b[0m\u001b[0;34m,\u001b[0m \u001b[0mdata\u001b[0m\u001b[0;34m=\u001b[0m\u001b[0;32mNone\u001b[0m\u001b[0;34m,\u001b[0m \u001b[0;34m**\u001b[0m\u001b[0mkwargs\u001b[0m\u001b[0;34m)\u001b[0m\u001b[0;34m:\u001b[0m\u001b[0;34m\u001b[0m\u001b[0;34m\u001b[0m\u001b[0m\n\u001b[0;32m-> 3019\u001b[0;31m     return gca().plot(\n\u001b[0m\u001b[1;32m   3020\u001b[0m         \u001b[0;34m*\u001b[0m\u001b[0margs\u001b[0m\u001b[0;34m,\u001b[0m \u001b[0mscalex\u001b[0m\u001b[0;34m=\u001b[0m\u001b[0mscalex\u001b[0m\u001b[0;34m,\u001b[0m \u001b[0mscaley\u001b[0m\u001b[0;34m=\u001b[0m\u001b[0mscaley\u001b[0m\u001b[0;34m,\u001b[0m\u001b[0;34m\u001b[0m\u001b[0;34m\u001b[0m\u001b[0m\n\u001b[1;32m   3021\u001b[0m         **({\"data\": data} if data is not None else {}), **kwargs)\n",
      "\u001b[0;32m/opt/homebrew/anaconda3/lib/python3.9/site-packages/matplotlib/axes/_axes.py\u001b[0m in \u001b[0;36mplot\u001b[0;34m(self, scalex, scaley, data, *args, **kwargs)\u001b[0m\n\u001b[1;32m   1603\u001b[0m         \"\"\"\n\u001b[1;32m   1604\u001b[0m         \u001b[0mkwargs\u001b[0m \u001b[0;34m=\u001b[0m \u001b[0mcbook\u001b[0m\u001b[0;34m.\u001b[0m\u001b[0mnormalize_kwargs\u001b[0m\u001b[0;34m(\u001b[0m\u001b[0mkwargs\u001b[0m\u001b[0;34m,\u001b[0m \u001b[0mmlines\u001b[0m\u001b[0;34m.\u001b[0m\u001b[0mLine2D\u001b[0m\u001b[0;34m)\u001b[0m\u001b[0;34m\u001b[0m\u001b[0;34m\u001b[0m\u001b[0m\n\u001b[0;32m-> 1605\u001b[0;31m         \u001b[0mlines\u001b[0m \u001b[0;34m=\u001b[0m \u001b[0;34m[\u001b[0m\u001b[0;34m*\u001b[0m\u001b[0mself\u001b[0m\u001b[0;34m.\u001b[0m\u001b[0m_get_lines\u001b[0m\u001b[0;34m(\u001b[0m\u001b[0;34m*\u001b[0m\u001b[0margs\u001b[0m\u001b[0;34m,\u001b[0m \u001b[0mdata\u001b[0m\u001b[0;34m=\u001b[0m\u001b[0mdata\u001b[0m\u001b[0;34m,\u001b[0m \u001b[0;34m**\u001b[0m\u001b[0mkwargs\u001b[0m\u001b[0;34m)\u001b[0m\u001b[0;34m]\u001b[0m\u001b[0;34m\u001b[0m\u001b[0;34m\u001b[0m\u001b[0m\n\u001b[0m\u001b[1;32m   1606\u001b[0m         \u001b[0;32mfor\u001b[0m \u001b[0mline\u001b[0m \u001b[0;32min\u001b[0m \u001b[0mlines\u001b[0m\u001b[0;34m:\u001b[0m\u001b[0;34m\u001b[0m\u001b[0;34m\u001b[0m\u001b[0m\n\u001b[1;32m   1607\u001b[0m             \u001b[0mself\u001b[0m\u001b[0;34m.\u001b[0m\u001b[0madd_line\u001b[0m\u001b[0;34m(\u001b[0m\u001b[0mline\u001b[0m\u001b[0;34m)\u001b[0m\u001b[0;34m\u001b[0m\u001b[0;34m\u001b[0m\u001b[0m\n",
      "\u001b[0;32m/opt/homebrew/anaconda3/lib/python3.9/site-packages/matplotlib/axes/_base.py\u001b[0m in \u001b[0;36m__call__\u001b[0;34m(self, data, *args, **kwargs)\u001b[0m\n\u001b[1;32m    313\u001b[0m                 \u001b[0mthis\u001b[0m \u001b[0;34m+=\u001b[0m \u001b[0margs\u001b[0m\u001b[0;34m[\u001b[0m\u001b[0;36m0\u001b[0m\u001b[0;34m]\u001b[0m\u001b[0;34m,\u001b[0m\u001b[0;34m\u001b[0m\u001b[0;34m\u001b[0m\u001b[0m\n\u001b[1;32m    314\u001b[0m                 \u001b[0margs\u001b[0m \u001b[0;34m=\u001b[0m \u001b[0margs\u001b[0m\u001b[0;34m[\u001b[0m\u001b[0;36m1\u001b[0m\u001b[0;34m:\u001b[0m\u001b[0;34m]\u001b[0m\u001b[0;34m\u001b[0m\u001b[0;34m\u001b[0m\u001b[0m\n\u001b[0;32m--> 315\u001b[0;31m             \u001b[0;32myield\u001b[0m \u001b[0;32mfrom\u001b[0m \u001b[0mself\u001b[0m\u001b[0;34m.\u001b[0m\u001b[0m_plot_args\u001b[0m\u001b[0;34m(\u001b[0m\u001b[0mthis\u001b[0m\u001b[0;34m,\u001b[0m \u001b[0mkwargs\u001b[0m\u001b[0;34m)\u001b[0m\u001b[0;34m\u001b[0m\u001b[0;34m\u001b[0m\u001b[0m\n\u001b[0m\u001b[1;32m    316\u001b[0m \u001b[0;34m\u001b[0m\u001b[0m\n\u001b[1;32m    317\u001b[0m     \u001b[0;32mdef\u001b[0m \u001b[0mget_next_color\u001b[0m\u001b[0;34m(\u001b[0m\u001b[0mself\u001b[0m\u001b[0;34m)\u001b[0m\u001b[0;34m:\u001b[0m\u001b[0;34m\u001b[0m\u001b[0;34m\u001b[0m\u001b[0m\n",
      "\u001b[0;32m/opt/homebrew/anaconda3/lib/python3.9/site-packages/matplotlib/axes/_base.py\u001b[0m in \u001b[0;36m_plot_args\u001b[0;34m(self, tup, kwargs, return_kwargs)\u001b[0m\n\u001b[1;32m    537\u001b[0m             \u001b[0;32mreturn\u001b[0m \u001b[0mlist\u001b[0m\u001b[0;34m(\u001b[0m\u001b[0mresult\u001b[0m\u001b[0;34m)\u001b[0m\u001b[0;34m\u001b[0m\u001b[0;34m\u001b[0m\u001b[0m\n\u001b[1;32m    538\u001b[0m         \u001b[0;32melse\u001b[0m\u001b[0;34m:\u001b[0m\u001b[0;34m\u001b[0m\u001b[0;34m\u001b[0m\u001b[0m\n\u001b[0;32m--> 539\u001b[0;31m             \u001b[0;32mreturn\u001b[0m \u001b[0;34m[\u001b[0m\u001b[0ml\u001b[0m\u001b[0;34m[\u001b[0m\u001b[0;36m0\u001b[0m\u001b[0;34m]\u001b[0m \u001b[0;32mfor\u001b[0m \u001b[0ml\u001b[0m \u001b[0;32min\u001b[0m \u001b[0mresult\u001b[0m\u001b[0;34m]\u001b[0m\u001b[0;34m\u001b[0m\u001b[0;34m\u001b[0m\u001b[0m\n\u001b[0m\u001b[1;32m    540\u001b[0m \u001b[0;34m\u001b[0m\u001b[0m\n\u001b[1;32m    541\u001b[0m \u001b[0;34m\u001b[0m\u001b[0m\n",
      "\u001b[0;32m/opt/homebrew/anaconda3/lib/python3.9/site-packages/matplotlib/axes/_base.py\u001b[0m in \u001b[0;36m<listcomp>\u001b[0;34m(.0)\u001b[0m\n\u001b[1;32m    537\u001b[0m             \u001b[0;32mreturn\u001b[0m \u001b[0mlist\u001b[0m\u001b[0;34m(\u001b[0m\u001b[0mresult\u001b[0m\u001b[0;34m)\u001b[0m\u001b[0;34m\u001b[0m\u001b[0;34m\u001b[0m\u001b[0m\n\u001b[1;32m    538\u001b[0m         \u001b[0;32melse\u001b[0m\u001b[0;34m:\u001b[0m\u001b[0;34m\u001b[0m\u001b[0;34m\u001b[0m\u001b[0m\n\u001b[0;32m--> 539\u001b[0;31m             \u001b[0;32mreturn\u001b[0m \u001b[0;34m[\u001b[0m\u001b[0ml\u001b[0m\u001b[0;34m[\u001b[0m\u001b[0;36m0\u001b[0m\u001b[0;34m]\u001b[0m \u001b[0;32mfor\u001b[0m \u001b[0ml\u001b[0m \u001b[0;32min\u001b[0m \u001b[0mresult\u001b[0m\u001b[0;34m]\u001b[0m\u001b[0;34m\u001b[0m\u001b[0;34m\u001b[0m\u001b[0m\n\u001b[0m\u001b[1;32m    540\u001b[0m \u001b[0;34m\u001b[0m\u001b[0m\n\u001b[1;32m    541\u001b[0m \u001b[0;34m\u001b[0m\u001b[0m\n",
      "\u001b[0;32m/opt/homebrew/anaconda3/lib/python3.9/site-packages/matplotlib/axes/_base.py\u001b[0m in \u001b[0;36m<genexpr>\u001b[0;34m(.0)\u001b[0m\n\u001b[1;32m    530\u001b[0m             \u001b[0mlabels\u001b[0m \u001b[0;34m=\u001b[0m \u001b[0;34m[\u001b[0m\u001b[0mlabel\u001b[0m\u001b[0;34m]\u001b[0m \u001b[0;34m*\u001b[0m \u001b[0mn_datasets\u001b[0m\u001b[0;34m\u001b[0m\u001b[0;34m\u001b[0m\u001b[0m\n\u001b[1;32m    531\u001b[0m \u001b[0;34m\u001b[0m\u001b[0m\n\u001b[0;32m--> 532\u001b[0;31m         result = (make_artist(x[:, j % ncx], y[:, j % ncy], kw,\n\u001b[0m\u001b[1;32m    533\u001b[0m                               {**kwargs, 'label': label})\n\u001b[1;32m    534\u001b[0m                   for j, label in enumerate(labels))\n",
      "\u001b[0;32m/opt/homebrew/anaconda3/lib/python3.9/site-packages/matplotlib/axes/_base.py\u001b[0m in \u001b[0;36m_makeline\u001b[0;34m(self, x, y, kw, kwargs)\u001b[0m\n\u001b[1;32m    352\u001b[0m         \u001b[0mdefault_dict\u001b[0m \u001b[0;34m=\u001b[0m \u001b[0mself\u001b[0m\u001b[0;34m.\u001b[0m\u001b[0m_getdefaults\u001b[0m\u001b[0;34m(\u001b[0m\u001b[0mset\u001b[0m\u001b[0;34m(\u001b[0m\u001b[0;34m)\u001b[0m\u001b[0;34m,\u001b[0m \u001b[0mkw\u001b[0m\u001b[0;34m)\u001b[0m\u001b[0;34m\u001b[0m\u001b[0;34m\u001b[0m\u001b[0m\n\u001b[1;32m    353\u001b[0m         \u001b[0mself\u001b[0m\u001b[0;34m.\u001b[0m\u001b[0m_setdefaults\u001b[0m\u001b[0;34m(\u001b[0m\u001b[0mdefault_dict\u001b[0m\u001b[0;34m,\u001b[0m \u001b[0mkw\u001b[0m\u001b[0;34m)\u001b[0m\u001b[0;34m\u001b[0m\u001b[0;34m\u001b[0m\u001b[0m\n\u001b[0;32m--> 354\u001b[0;31m         \u001b[0mseg\u001b[0m \u001b[0;34m=\u001b[0m \u001b[0mmlines\u001b[0m\u001b[0;34m.\u001b[0m\u001b[0mLine2D\u001b[0m\u001b[0;34m(\u001b[0m\u001b[0mx\u001b[0m\u001b[0;34m,\u001b[0m \u001b[0my\u001b[0m\u001b[0;34m,\u001b[0m \u001b[0;34m**\u001b[0m\u001b[0mkw\u001b[0m\u001b[0;34m)\u001b[0m\u001b[0;34m\u001b[0m\u001b[0;34m\u001b[0m\u001b[0m\n\u001b[0m\u001b[1;32m    355\u001b[0m         \u001b[0;32mreturn\u001b[0m \u001b[0mseg\u001b[0m\u001b[0;34m,\u001b[0m \u001b[0mkw\u001b[0m\u001b[0;34m\u001b[0m\u001b[0;34m\u001b[0m\u001b[0m\n\u001b[1;32m    356\u001b[0m \u001b[0;34m\u001b[0m\u001b[0m\n",
      "\u001b[0;32m/opt/homebrew/anaconda3/lib/python3.9/site-packages/matplotlib/lines.py\u001b[0m in \u001b[0;36m__init__\u001b[0;34m(self, xdata, ydata, linewidth, linestyle, color, marker, markersize, markeredgewidth, markeredgecolor, markerfacecolor, markerfacecoloralt, fillstyle, antialiased, dash_capstyle, solid_capstyle, dash_joinstyle, solid_joinstyle, pickradius, drawstyle, markevery, **kwargs)\u001b[0m\n\u001b[1;32m    395\u001b[0m         \u001b[0;31m# update kwargs before updating data to give the caller a\u001b[0m\u001b[0;34m\u001b[0m\u001b[0;34m\u001b[0m\u001b[0m\n\u001b[1;32m    396\u001b[0m         \u001b[0;31m# chance to init axes (and hence unit support)\u001b[0m\u001b[0;34m\u001b[0m\u001b[0;34m\u001b[0m\u001b[0m\n\u001b[0;32m--> 397\u001b[0;31m         \u001b[0mself\u001b[0m\u001b[0;34m.\u001b[0m\u001b[0mupdate\u001b[0m\u001b[0;34m(\u001b[0m\u001b[0mkwargs\u001b[0m\u001b[0;34m)\u001b[0m\u001b[0;34m\u001b[0m\u001b[0;34m\u001b[0m\u001b[0m\n\u001b[0m\u001b[1;32m    398\u001b[0m         \u001b[0mself\u001b[0m\u001b[0;34m.\u001b[0m\u001b[0mpickradius\u001b[0m \u001b[0;34m=\u001b[0m \u001b[0mpickradius\u001b[0m\u001b[0;34m\u001b[0m\u001b[0;34m\u001b[0m\u001b[0m\n\u001b[1;32m    399\u001b[0m         \u001b[0mself\u001b[0m\u001b[0;34m.\u001b[0m\u001b[0mind_offset\u001b[0m \u001b[0;34m=\u001b[0m \u001b[0;36m0\u001b[0m\u001b[0;34m\u001b[0m\u001b[0;34m\u001b[0m\u001b[0m\n",
      "\u001b[0;32m/opt/homebrew/anaconda3/lib/python3.9/site-packages/matplotlib/artist.py\u001b[0m in \u001b[0;36mupdate\u001b[0;34m(self, props)\u001b[0m\n\u001b[1;32m   1060\u001b[0m                     \u001b[0mfunc\u001b[0m \u001b[0;34m=\u001b[0m \u001b[0mgetattr\u001b[0m\u001b[0;34m(\u001b[0m\u001b[0mself\u001b[0m\u001b[0;34m,\u001b[0m \u001b[0;34mf\"set_{k}\"\u001b[0m\u001b[0;34m,\u001b[0m \u001b[0;32mNone\u001b[0m\u001b[0;34m)\u001b[0m\u001b[0;34m\u001b[0m\u001b[0;34m\u001b[0m\u001b[0m\n\u001b[1;32m   1061\u001b[0m                     \u001b[0;32mif\u001b[0m \u001b[0;32mnot\u001b[0m \u001b[0mcallable\u001b[0m\u001b[0;34m(\u001b[0m\u001b[0mfunc\u001b[0m\u001b[0;34m)\u001b[0m\u001b[0;34m:\u001b[0m\u001b[0;34m\u001b[0m\u001b[0;34m\u001b[0m\u001b[0m\n\u001b[0;32m-> 1062\u001b[0;31m                         raise AttributeError(f\"{type(self).__name__!r} object \"\n\u001b[0m\u001b[1;32m   1063\u001b[0m                                              f\"has no property {k!r}\")\n\u001b[1;32m   1064\u001b[0m                     \u001b[0mret\u001b[0m\u001b[0;34m.\u001b[0m\u001b[0mappend\u001b[0m\u001b[0;34m(\u001b[0m\u001b[0mfunc\u001b[0m\u001b[0;34m(\u001b[0m\u001b[0mv\u001b[0m\u001b[0;34m)\u001b[0m\u001b[0;34m)\u001b[0m\u001b[0;34m\u001b[0m\u001b[0;34m\u001b[0m\u001b[0m\n",
      "\u001b[0;31mAttributeError\u001b[0m: 'Line2D' object has no property 'lable'"
     ]
    },
    {
     "data": {
      "image/png": "[encoded data removed]",
      "text/plain": [
       "<Figure size 432x288 with 1 Axes>"
      ]
     },
     "metadata": {
      "needs_background": "light"
     },
     "output_type": "display_data"
    }
   ],
   "source": [
    "x = np.arange(50, 150)\n",
    "\n",
    "y1 = stats.norm(90,15).pdf(x)\n",
    "y2 = stats.norm(100, 20).pdf(x)\n",
    "\n",
    "\n",
    "plt.plot(x, y1, lable = \"office 1\")\n",
    "plt.plot(x, y2, lable = \"office 2\")\n",
    "\n",
    "plt.legend()"
   ]
  },
  {
   "cell_type": "code",
   "execution_count": null,
   "id": "e75d485d",
   "metadata": {},
   "outputs": [],
   "source": [
    "# sample 1\n",
    "mean1 = 45\n",
    "sdev1 = 1.9\n",
    "ssize1 = 1115\n",
    "\n",
    "#sample 2\n",
    "mean2 = 49\n",
    "sdev2 = 1.9\n",
    "ssize2 = 1005"
   ]
  },
  {
   "cell_type": "code",
   "execution_count": null,
   "id": "3d1a046f",
   "metadata": {},
   "outputs": [],
   "source": [
    "t, p = scipy.stats.ttest_ind_from_stats(mean1, sdev1, ssize1, mean2, sdev2, ssize2, equal_var=True )"
   ]
  },
  {
   "cell_type": "code",
   "execution_count": null,
   "id": "b882ffb8",
   "metadata": {},
   "outputs": [],
   "source": [
    "t, p "
   ]
  },
  {
   "cell_type": "code",
   "execution_count": null,
   "id": "8ce68bcb",
   "metadata": {},
   "outputs": [],
   "source": [
    "# sample 1\n",
    "mean1n = 90\n",
    "sdev1n = 15\n",
    "ssize1n = 40\n",
    "\n",
    "#sample 2\n",
    "mean2n = 100\n",
    "sdev2n = 20\n",
    "ssize2n = 50"
   ]
  },
  {
   "cell_type": "code",
   "execution_count": null,
   "id": "7117f65f",
   "metadata": {},
   "outputs": [],
   "source": [
    "t, p = scipy.stats.ttest_ind_from_stats(mean1n, sdev1n, ssize1n, mean2n, sdev2n, ssize2n, equal_var=False )\n",
    "\n"
   ]
  },
  {
   "cell_type": "code",
   "execution_count": null,
   "id": "6f3385ab",
   "metadata": {},
   "outputs": [],
   "source": [
    "t"
   ]
  },
  {
   "cell_type": "code",
   "execution_count": null,
   "id": "f9ff751a",
   "metadata": {},
   "outputs": [],
   "source": [
    "p"
   ]
  },
  {
   "cell_type": "raw",
   "id": "d6aca3ba",
   "metadata": {},
   "source": [
    "#Load the mpg dataset and use it to answer the following questions:\n",
    "\n",
    "-Is there a difference in fuel-efficiency in cars from 2008 vs 1999?\n",
    "-Are compact cars more fuel-efficient than the average car?\n",
    "-Do manual cars get better gas mileage than automatic cars?"
   ]
  },
  {
   "cell_type": "code",
   "execution_count": null,
   "id": "b37e0ff0",
   "metadata": {},
   "outputs": [],
   "source": [
    "from pydataset import data\n",
    "mpg = data('mpg')"
   ]
  },
  {
   "cell_type": "code",
   "execution_count": null,
   "id": "442c0d2c",
   "metadata": {},
   "outputs": [],
   "source": [
    "# Is there a difference in fuel-efficiency in cars from 2008 vs 1999?\n",
    "\n",
    "mpg.year.unique()\n"
   ]
  },
  {
   "cell_type": "code",
   "execution_count": null,
   "id": "23b837be",
   "metadata": {
    "scrolled": true
   },
   "outputs": [],
   "source": [
    "mpg.year.hist()\n"
   ]
  },
  {
   "cell_type": "code",
   "execution_count": null,
   "id": "88cae18f",
   "metadata": {},
   "outputs": [],
   "source": [
    "mpg"
   ]
  },
  {
   "cell_type": "code",
   "execution_count": null,
   "id": "8b4918fd",
   "metadata": {},
   "outputs": [],
   "source": [
    "mpg = mpg.rename(columns={'cty': 'city'})\n",
    "\n",
    "mpg = mpg.rename(columns={'hwy': 'highway'})\n",
    "\n",
    "mpg = mpg.rename(columns={'cyl': 'cylinder'})"
   ]
  },
  {
   "cell_type": "code",
   "execution_count": null,
   "id": "7710baed",
   "metadata": {},
   "outputs": [],
   "source": [
    "mpg"
   ]
  },
  {
   "cell_type": "code",
   "execution_count": null,
   "id": "a29f70ea",
   "metadata": {},
   "outputs": [],
   "source": [
    "mpg['mileage_difference'] = mpg.city - mpg.highway\n",
    "\n",
    "mpg"
   ]
  },
  {
   "cell_type": "code",
   "execution_count": null,
   "id": "c7f85afb",
   "metadata": {
    "scrolled": true
   },
   "outputs": [],
   "source": [
    "mpg.sort_values('mileage_difference')"
   ]
  },
  {
   "cell_type": "code",
   "execution_count": null,
   "id": "34c9eb52",
   "metadata": {},
   "outputs": [],
   "source": [
    "mpg['average_mileage'] = (mpg['highway'] + mpg['city'])/2"
   ]
  },
  {
   "cell_type": "code",
   "execution_count": null,
   "id": "e80e40f6",
   "metadata": {},
   "outputs": [],
   "source": [
    "mpg = mpg[~mpg['mileage_difference'].isna()]\n"
   ]
  },
  {
   "cell_type": "code",
   "execution_count": null,
   "id": "baed8026",
   "metadata": {},
   "outputs": [],
   "source": [
    "mpg"
   ]
  },
  {
   "cell_type": "code",
   "execution_count": null,
   "id": "16db071c",
   "metadata": {},
   "outputs": [],
   "source": [
    "mpg.average_mileage.mean()"
   ]
  },
  {
   "cell_type": "code",
   "execution_count": null,
   "id": "d6846037",
   "metadata": {},
   "outputs": [],
   "source": [
    "mpg.info()"
   ]
  },
  {
   "cell_type": "code",
   "execution_count": null,
   "id": "e965ce52",
   "metadata": {},
   "outputs": [],
   "source": [
    "mpg.value_counts('year')"
   ]
  },
  {
   "cell_type": "code",
   "execution_count": null,
   "id": "b5fc52a1",
   "metadata": {},
   "outputs": [],
   "source": [
    "fuel_2008 = mpg[mpg.year == 2008].average_mileage"
   ]
  },
  {
   "cell_type": "code",
   "execution_count": null,
   "id": "7b7edefc",
   "metadata": {},
   "outputs": [],
   "source": [
    "fuel_1999 = mpg[mpg.year == 1999].average_mileage"
   ]
  },
  {
   "cell_type": "code",
   "execution_count": null,
   "id": "688cbe56",
   "metadata": {},
   "outputs": [],
   "source": [
    "fuel_2008.var()"
   ]
  },
  {
   "cell_type": "code",
   "execution_count": null,
   "id": "54819b4a",
   "metadata": {},
   "outputs": [],
   "source": [
    "fuel_2008.hist()"
   ]
  },
  {
   "cell_type": "code",
   "execution_count": null,
   "id": "acce3760",
   "metadata": {},
   "outputs": [],
   "source": [
    "fuel_1999.var(), fuel_2008.var()"
   ]
  },
  {
   "cell_type": "code",
   "execution_count": null,
   "id": "95846be7",
   "metadata": {},
   "outputs": [],
   "source": [
    "fuel_1999.hist()"
   ]
  },
  {
   "cell_type": "code",
   "execution_count": null,
   "id": "2144455b",
   "metadata": {},
   "outputs": [],
   "source": [
    "stat, pval = stats.levene(fuel_2008, fuel_1999)"
   ]
  },
  {
   "cell_type": "code",
   "execution_count": null,
   "id": "8e7a93ac",
   "metadata": {},
   "outputs": [],
   "source": [
    "if pval < 0.05:\n",
    "    print('we can reject the H0 that the two samples have equal variance')\n",
    "else:\n",
    "    print('failed to reject null')"
   ]
  },
  {
   "cell_type": "code",
   "execution_count": null,
   "id": "ef2f9b72",
   "metadata": {},
   "outputs": [],
   "source": [
    "pval"
   ]
  },
  {
   "cell_type": "code",
   "execution_count": null,
   "id": "3867f91a",
   "metadata": {},
   "outputs": [],
   "source": [
    "alpha = 0.05"
   ]
  },
  {
   "cell_type": "code",
   "execution_count": null,
   "id": "2815b34d",
   "metadata": {},
   "outputs": [],
   "source": [
    "t, p = stats.ttest_ind(fuel_2008, fuel_1999, equal_var=True)\n",
    "\n",
    "t, p, alpha\n",
    "\n"
   ]
  },
  {
   "cell_type": "code",
   "execution_count": null,
   "id": "ef4ae404",
   "metadata": {},
   "outputs": [],
   "source": [
    "fuel_2008.mean(), fuel_1999.mean()"
   ]
  },
  {
   "cell_type": "code",
   "execution_count": null,
   "id": "fa49a95c",
   "metadata": {},
   "outputs": [],
   "source": [
    "plt.hist[fuel_2008, fuel_1999], lable[]"
   ]
  },
  {
   "cell_type": "code",
   "execution_count": null,
   "id": "8b72b078",
   "metadata": {},
   "outputs": [],
   "source": [
    "# Are compact cars more fuel-efficient than the average car?\n",
    "\n",
    "mpg.value_counts('class')"
   ]
  },
  {
   "cell_type": "code",
   "execution_count": null,
   "id": "bf64b071",
   "metadata": {},
   "outputs": [],
   "source": [
    "# Are compact cars more fuel-efficient than the average car?\n",
    "\n",
    "mpg.groupby('class').average_mileage.mean().sort_values(ascending = False)\n",
    "\n",
    "\n"
   ]
  },
  {
   "cell_type": "code",
   "execution_count": null,
   "id": "9a4a69f6",
   "metadata": {},
   "outputs": [],
   "source": [
    "\n",
    "mpg.groupby('class').average_mileage.mean().sort_values(ascending = False).hist()"
   ]
  },
  {
   "cell_type": "code",
   "execution_count": null,
   "id": "963123f6",
   "metadata": {},
   "outputs": [],
   "source": [
    "fe_compact = mpg[mpg['class'] == 'compact'].average_mileage\n",
    "\n",
    "pop_mean = mpg.average_mileage.mean()"
   ]
  },
  {
   "cell_type": "code",
   "execution_count": null,
   "id": "a8268952",
   "metadata": {},
   "outputs": [],
   "source": [
    "fe_compact.hist()"
   ]
  },
  {
   "cell_type": "code",
   "execution_count": null,
   "id": "88db0dc2",
   "metadata": {},
   "outputs": [],
   "source": [
    "t, p = stats.ttest_1samp(fe_compact, pop_mean)\n",
    "\n",
    "t, p, alpha"
   ]
  },
  {
   "cell_type": "code",
   "execution_count": null,
   "id": "3972dc5b",
   "metadata": {},
   "outputs": [],
   "source": [
    "if (p/2 < alpha) and t > 0:\n",
    "   print('reject')"
   ]
  },
  {
   "cell_type": "code",
   "execution_count": null,
   "id": "4dd3734b",
   "metadata": {},
   "outputs": [],
   "source": [
    "# Do manual cars get better gas mileage than automatic cars?\n",
    "\n",
    "mpg.trans.value_counts()"
   ]
  },
  {
   "cell_type": "code",
   "execution_count": null,
   "id": "35fd6b61",
   "metadata": {},
   "outputs": [],
   "source": [
    "fe_auto = mpg[mpg.trans.str.contains('auto')].average_mileage\n",
    "fe_manual = mpg[mpg.trans.str.contains('manual')].average_mileage"
   ]
  },
  {
   "cell_type": "code",
   "execution_count": null,
   "id": "70fdfaa5",
   "metadata": {},
   "outputs": [],
   "source": [
    "stats.levene(fe_auto,fe_manual )"
   ]
  },
  {
   "cell_type": "code",
   "execution_count": null,
   "id": "d2903169",
   "metadata": {},
   "outputs": [],
   "source": [
    "fe_auto.var(), fe_manual.var()"
   ]
  },
  {
   "cell_type": "code",
   "execution_count": null,
   "id": "13bd1432",
   "metadata": {},
   "outputs": [],
   "source": [
    "t, p = stats.ttest_ind(fe_manual, fe_auto, equal_var = True)\n",
    "\n",
    "t, p/2, alpha"
   ]
  },
  {
   "cell_type": "code",
   "execution_count": null,
   "id": "102ff08b",
   "metadata": {},
   "outputs": [],
   "source": [
    "fe_auto.mean(), fe_manual.mean()"
   ]
  },
  {
   "cell_type": "markdown",
   "id": "b5f8bafa",
   "metadata": {},
   "source": [
    "## Exercises\n",
    "\n",
    "- Continue working in your hypothesis_testing notebook.\n"
   ]
  },
  {
   "cell_type": "code",
   "execution_count": null,
   "id": "2677f487",
   "metadata": {},
   "outputs": [],
   "source": []
  },
  {
   "cell_type": "code",
   "execution_count": null,
   "id": "43d6fa5b",
   "metadata": {},
   "outputs": [],
   "source": [
    "#1) Use the telco_churn data. \n",
    "# -Does tenure correlate with monthly charges? \n",
    "# -Total charges? \n",
    "# -What happens if you control for phone and internet service?"
   ]
  },
  {
   "cell_type": "code",
   "execution_count": 77,
   "id": "8d0f1044",
   "metadata": {},
   "outputs": [],
   "source": [
    "from env import get_db_url\n",
    "import pandas as pd\n",
    "import numpy as np\n"
   ]
  },
  {
   "cell_type": "code",
   "execution_count": 78,
   "id": "97056475",
   "metadata": {},
   "outputs": [
    {
     "data": {
      "text/html": [
       "<div>\n",
       "<style scoped>\n",
       "    .dataframe tbody tr th:only-of-type {\n",
       "        vertical-align: middle;\n",
       "    }\n",
       "\n",
       "    .dataframe tbody tr th {\n",
       "        vertical-align: top;\n",
       "    }\n",
       "\n",
       "    .dataframe thead th {\n",
       "        text-align: right;\n",
       "    }\n",
       "</style>\n",
       "<table border=\"1\" class=\"dataframe\">\n",
       "  <thead>\n",
       "    <tr style=\"text-align: right;\">\n",
       "      <th></th>\n",
       "      <th>customer_id</th>\n",
       "      <th>gender</th>\n",
       "      <th>senior_citizen</th>\n",
       "      <th>partner</th>\n",
       "      <th>dependents</th>\n",
       "      <th>tenure</th>\n",
       "      <th>phone_service</th>\n",
       "      <th>multiple_lines</th>\n",
       "      <th>internet_service_type_id</th>\n",
       "      <th>online_security</th>\n",
       "      <th>...</th>\n",
       "      <th>device_protection</th>\n",
       "      <th>tech_support</th>\n",
       "      <th>streaming_tv</th>\n",
       "      <th>streaming_movies</th>\n",
       "      <th>contract_type_id</th>\n",
       "      <th>paperless_billing</th>\n",
       "      <th>payment_type_id</th>\n",
       "      <th>monthly_charges</th>\n",
       "      <th>total_charges</th>\n",
       "      <th>churn</th>\n",
       "    </tr>\n",
       "  </thead>\n",
       "  <tbody>\n",
       "    <tr>\n",
       "      <th>0</th>\n",
       "      <td>0002-ORFBO</td>\n",
       "      <td>Female</td>\n",
       "      <td>0</td>\n",
       "      <td>Yes</td>\n",
       "      <td>Yes</td>\n",
       "      <td>9</td>\n",
       "      <td>Yes</td>\n",
       "      <td>No</td>\n",
       "      <td>1</td>\n",
       "      <td>No</td>\n",
       "      <td>...</td>\n",
       "      <td>No</td>\n",
       "      <td>Yes</td>\n",
       "      <td>Yes</td>\n",
       "      <td>No</td>\n",
       "      <td>2</td>\n",
       "      <td>Yes</td>\n",
       "      <td>2</td>\n",
       "      <td>65.6</td>\n",
       "      <td>593.3</td>\n",
       "      <td>No</td>\n",
       "    </tr>\n",
       "    <tr>\n",
       "      <th>1</th>\n",
       "      <td>0003-MKNFE</td>\n",
       "      <td>Male</td>\n",
       "      <td>0</td>\n",
       "      <td>No</td>\n",
       "      <td>No</td>\n",
       "      <td>9</td>\n",
       "      <td>Yes</td>\n",
       "      <td>Yes</td>\n",
       "      <td>1</td>\n",
       "      <td>No</td>\n",
       "      <td>...</td>\n",
       "      <td>No</td>\n",
       "      <td>No</td>\n",
       "      <td>No</td>\n",
       "      <td>Yes</td>\n",
       "      <td>1</td>\n",
       "      <td>No</td>\n",
       "      <td>2</td>\n",
       "      <td>59.9</td>\n",
       "      <td>542.4</td>\n",
       "      <td>No</td>\n",
       "    </tr>\n",
       "    <tr>\n",
       "      <th>2</th>\n",
       "      <td>0004-TLHLJ</td>\n",
       "      <td>Male</td>\n",
       "      <td>0</td>\n",
       "      <td>No</td>\n",
       "      <td>No</td>\n",
       "      <td>4</td>\n",
       "      <td>Yes</td>\n",
       "      <td>No</td>\n",
       "      <td>2</td>\n",
       "      <td>No</td>\n",
       "      <td>...</td>\n",
       "      <td>Yes</td>\n",
       "      <td>No</td>\n",
       "      <td>No</td>\n",
       "      <td>No</td>\n",
       "      <td>1</td>\n",
       "      <td>Yes</td>\n",
       "      <td>1</td>\n",
       "      <td>73.9</td>\n",
       "      <td>280.85</td>\n",
       "      <td>Yes</td>\n",
       "    </tr>\n",
       "    <tr>\n",
       "      <th>3</th>\n",
       "      <td>0011-IGKFF</td>\n",
       "      <td>Male</td>\n",
       "      <td>1</td>\n",
       "      <td>Yes</td>\n",
       "      <td>No</td>\n",
       "      <td>13</td>\n",
       "      <td>Yes</td>\n",
       "      <td>No</td>\n",
       "      <td>2</td>\n",
       "      <td>No</td>\n",
       "      <td>...</td>\n",
       "      <td>Yes</td>\n",
       "      <td>No</td>\n",
       "      <td>Yes</td>\n",
       "      <td>Yes</td>\n",
       "      <td>1</td>\n",
       "      <td>Yes</td>\n",
       "      <td>1</td>\n",
       "      <td>98.0</td>\n",
       "      <td>1237.85</td>\n",
       "      <td>Yes</td>\n",
       "    </tr>\n",
       "    <tr>\n",
       "      <th>4</th>\n",
       "      <td>0013-EXCHZ</td>\n",
       "      <td>Female</td>\n",
       "      <td>1</td>\n",
       "      <td>Yes</td>\n",
       "      <td>No</td>\n",
       "      <td>3</td>\n",
       "      <td>Yes</td>\n",
       "      <td>No</td>\n",
       "      <td>2</td>\n",
       "      <td>No</td>\n",
       "      <td>...</td>\n",
       "      <td>No</td>\n",
       "      <td>Yes</td>\n",
       "      <td>Yes</td>\n",
       "      <td>No</td>\n",
       "      <td>1</td>\n",
       "      <td>Yes</td>\n",
       "      <td>2</td>\n",
       "      <td>83.9</td>\n",
       "      <td>267.4</td>\n",
       "      <td>Yes</td>\n",
       "    </tr>\n",
       "  </tbody>\n",
       "</table>\n",
       "<p>5 rows × 21 columns</p>\n",
       "</div>"
      ],
      "text/plain": [
       "  customer_id  gender  senior_citizen partner dependents  tenure  \\\n",
       "0  0002-ORFBO  Female               0     Yes        Yes       9   \n",
       "1  0003-MKNFE    Male               0      No         No       9   \n",
       "2  0004-TLHLJ    Male               0      No         No       4   \n",
       "3  0011-IGKFF    Male               1     Yes         No      13   \n",
       "4  0013-EXCHZ  Female               1     Yes         No       3   \n",
       "\n",
       "  phone_service multiple_lines  internet_service_type_id online_security  ...  \\\n",
       "0           Yes             No                         1              No  ...   \n",
       "1           Yes            Yes                         1              No  ...   \n",
       "2           Yes             No                         2              No  ...   \n",
       "3           Yes             No                         2              No  ...   \n",
       "4           Yes             No                         2              No  ...   \n",
       "\n",
       "  device_protection tech_support streaming_tv streaming_movies  \\\n",
       "0                No          Yes          Yes               No   \n",
       "1                No           No           No              Yes   \n",
       "2               Yes           No           No               No   \n",
       "3               Yes           No          Yes              Yes   \n",
       "4                No          Yes          Yes               No   \n",
       "\n",
       "  contract_type_id  paperless_billing payment_type_id  monthly_charges  \\\n",
       "0                2                Yes               2             65.6   \n",
       "1                1                 No               2             59.9   \n",
       "2                1                Yes               1             73.9   \n",
       "3                1                Yes               1             98.0   \n",
       "4                1                Yes               2             83.9   \n",
       "\n",
       "   total_charges churn  \n",
       "0          593.3    No  \n",
       "1          542.4    No  \n",
       "2         280.85   Yes  \n",
       "3        1237.85   Yes  \n",
       "4          267.4   Yes  \n",
       "\n",
       "[5 rows x 21 columns]"
      ]
     },
     "execution_count": 78,
     "metadata": {},
     "output_type": "execute_result"
    }
   ],
   "source": [
    "url = get_db_url(\"telco_churn\")\n",
    "sql = \"\"\"\n",
    "SELECT * FROM customers\n",
    "\"\"\"\n",
    "\n",
    "df = pd.read_sql(sql, url)\n",
    "df.head()"
   ]
  },
  {
   "cell_type": "code",
   "execution_count": 79,
   "id": "9474e65a",
   "metadata": {},
   "outputs": [
    {
     "data": {
      "text/plain": [
       "Index(['customer_id', 'gender', 'senior_citizen', 'partner', 'dependents',\n",
       "       'tenure', 'phone_service', 'multiple_lines', 'internet_service_type_id',\n",
       "       'online_security', 'online_backup', 'device_protection', 'tech_support',\n",
       "       'streaming_tv', 'streaming_movies', 'contract_type_id',\n",
       "       'paperless_billing', 'payment_type_id', 'monthly_charges',\n",
       "       'total_charges', 'churn'],\n",
       "      dtype='object')"
      ]
     },
     "execution_count": 79,
     "metadata": {},
     "output_type": "execute_result"
    }
   ],
   "source": [
    "df.columns"
   ]
  },
  {
   "cell_type": "code",
   "execution_count": 80,
   "id": "41673fd0",
   "metadata": {},
   "outputs": [
    {
     "data": {
      "text/plain": [
       "(0.24789985628615263, 4.0940449914811555e-99)"
      ]
     },
     "execution_count": 80,
     "metadata": {},
     "output_type": "execute_result"
    }
   ],
   "source": [
    "tenure = df.tenure\n",
    "monthly_charges = df.monthly_charges\n",
    "\n",
    "r, p = stats.pearsonr(tenure, monthly_charges)\n",
    "\n",
    "r, p "
   ]
  },
  {
   "cell_type": "code",
   "execution_count": 81,
   "id": "c9fc25a5",
   "metadata": {},
   "outputs": [],
   "source": [
    "α = .05"
   ]
  },
  {
   "cell_type": "code",
   "execution_count": 82,
   "id": "c3c1bc9a",
   "metadata": {},
   "outputs": [
    {
     "data": {
      "text/plain": [
       "True"
      ]
     },
     "execution_count": 82,
     "metadata": {},
     "output_type": "execute_result"
    }
   ],
   "source": [
    "# Does tenure correlate with monthly charges?\n",
    "p < α"
   ]
  },
  {
   "cell_type": "code",
   "execution_count": 102,
   "id": "f78ee11e",
   "metadata": {},
   "outputs": [],
   "source": [
    "from env import host, user, password\n",
    "database = \"telco_churn\"\n",
    "\n",
    "def get_db_url(user,host,password,database):\n",
    "\n",
    "    url = f'mysql+pymysql://{user}:{password}@{host}/{database}'\n",
    "    \n",
    "    return url\n",
    "\n",
    "url = get_db_url(user,host,password,database)\n",
    "\n",
    "database_name = \"telco_churn\"\n",
    "query = \"\"\" \n",
    "            SELECT total_charges, tenure \n",
    "            FROM customers as c\n",
    "            WHERE c.phone_service = 'yes' and c.total_charges > 0\n",
    "            \n",
    "        \"\"\"\n"
   ]
  },
  {
   "cell_type": "code",
   "execution_count": 103,
   "id": "239bbe06",
   "metadata": {},
   "outputs": [
    {
     "ename": "AttributeError",
     "evalue": "'DataFrame' object has no attribute 'total_charges'",
     "output_type": "error",
     "traceback": [
      "\u001b[0;31m---------------------------------------------------------------------------\u001b[0m",
      "\u001b[0;31mAttributeError\u001b[0m                            Traceback (most recent call last)",
      "\u001b[0;32m/var/folders/vb/2f5pphz943qdprdg5zvhqsbm0000gp/T/ipykernel_53329/3476787882.py\u001b[0m in \u001b[0;36m<module>\u001b[0;34m\u001b[0m\n\u001b[1;32m      1\u001b[0m \u001b[0mtenure\u001b[0m \u001b[0;34m=\u001b[0m \u001b[0mdf\u001b[0m\u001b[0;34m.\u001b[0m\u001b[0mtenure\u001b[0m\u001b[0;34m\u001b[0m\u001b[0;34m\u001b[0m\u001b[0m\n\u001b[1;32m      2\u001b[0m \u001b[0;34m\u001b[0m\u001b[0m\n\u001b[0;32m----> 3\u001b[0;31m \u001b[0mtotal_charges\u001b[0m \u001b[0;34m=\u001b[0m \u001b[0mdf\u001b[0m\u001b[0;34m.\u001b[0m\u001b[0mtotal_charges\u001b[0m\u001b[0;34m\u001b[0m\u001b[0;34m\u001b[0m\u001b[0m\n\u001b[0m\u001b[1;32m      4\u001b[0m \u001b[0;34m\u001b[0m\u001b[0m\n\u001b[1;32m      5\u001b[0m \u001b[0;34m\u001b[0m\u001b[0m\n",
      "\u001b[0;32m/opt/homebrew/anaconda3/lib/python3.9/site-packages/pandas/core/generic.py\u001b[0m in \u001b[0;36m__getattr__\u001b[0;34m(self, name)\u001b[0m\n\u001b[1;32m   5485\u001b[0m         ):\n\u001b[1;32m   5486\u001b[0m             \u001b[0;32mreturn\u001b[0m \u001b[0mself\u001b[0m\u001b[0;34m[\u001b[0m\u001b[0mname\u001b[0m\u001b[0;34m]\u001b[0m\u001b[0;34m\u001b[0m\u001b[0;34m\u001b[0m\u001b[0m\n\u001b[0;32m-> 5487\u001b[0;31m         \u001b[0;32mreturn\u001b[0m \u001b[0mobject\u001b[0m\u001b[0;34m.\u001b[0m\u001b[0m__getattribute__\u001b[0m\u001b[0;34m(\u001b[0m\u001b[0mself\u001b[0m\u001b[0;34m,\u001b[0m \u001b[0mname\u001b[0m\u001b[0;34m)\u001b[0m\u001b[0;34m\u001b[0m\u001b[0;34m\u001b[0m\u001b[0m\n\u001b[0m\u001b[1;32m   5488\u001b[0m \u001b[0;34m\u001b[0m\u001b[0m\n\u001b[1;32m   5489\u001b[0m     \u001b[0;32mdef\u001b[0m \u001b[0m__setattr__\u001b[0m\u001b[0;34m(\u001b[0m\u001b[0mself\u001b[0m\u001b[0;34m,\u001b[0m \u001b[0mname\u001b[0m\u001b[0;34m:\u001b[0m \u001b[0mstr\u001b[0m\u001b[0;34m,\u001b[0m \u001b[0mvalue\u001b[0m\u001b[0;34m)\u001b[0m \u001b[0;34m->\u001b[0m \u001b[0;32mNone\u001b[0m\u001b[0;34m:\u001b[0m\u001b[0;34m\u001b[0m\u001b[0;34m\u001b[0m\u001b[0m\n",
      "\u001b[0;31mAttributeError\u001b[0m: 'DataFrame' object has no attribute 'total_charges'"
     ]
    }
   ],
   "source": [
    "tenure = df.tenure\n",
    "\n",
    "total_charges = df.total_charges\n",
    "\n",
    "\n",
    "p = stats.pearsonr(total_charges, tenure)\n",
    "\n",
    "p"
   ]
  },
  {
   "cell_type": "code",
   "execution_count": null,
   "id": "3d47f02e",
   "metadata": {
    "scrolled": true
   },
   "outputs": [],
   "source": [
    "stats.pearsonr(df.tenure, df.total_charges)\n"
   ]
  },
  {
   "cell_type": "code",
   "execution_count": 24,
   "id": "443e150a",
   "metadata": {},
   "outputs": [],
   "source": [
    "# -What happens if you control for phone and internet service?\n",
    "\n"
   ]
  },
  {
   "cell_type": "code",
   "execution_count": 86,
   "id": "54482793",
   "metadata": {},
   "outputs": [
    {
     "data": {
      "text/plain": [
       "(0.8298393210699475, 0.0)"
      ]
     },
     "execution_count": 86,
     "metadata": {},
     "output_type": "execute_result"
    }
   ],
   "source": [
    "from env import host, user, password\n",
    "database = \"telco_churn\"\n",
    "\n",
    "def get_db_url(user,host,password,database):\n",
    "\n",
    "    url = f'mysql+pymysql://{user}:{password}@{host}/{database}'\n",
    "    \n",
    "    return url\n",
    "\n",
    "url = get_db_url(user,host,password,database)\n",
    "\n",
    "database_name = \"telco_churn\"\n",
    "query = \"\"\" \n",
    "            SELECT total_charges, tenure \n",
    "            FROM customers as c\n",
    "            WHERE c.phone_service = 'yes' and c.total_charges > 0\n",
    "            \n",
    "        \"\"\"\n",
    "\n",
    "dfphone = pd.read_sql(query, url)\n",
    "\n",
    "dfphone = dfphone.astype(float)\n",
    "\n",
    "\n",
    "stats.pearsonr(dfphone.total_charges, dfphone.tenure)\n"
   ]
  },
  {
   "cell_type": "code",
   "execution_count": 87,
   "id": "506dc070",
   "metadata": {},
   "outputs": [
    {
     "data": {
      "text/plain": [
       "(0.9319346187418136, 0.0)"
      ]
     },
     "execution_count": 87,
     "metadata": {},
     "output_type": "execute_result"
    }
   ],
   "source": [
    "from env import host, user, password\n",
    "database = \"telco_churn\"\n",
    "\n",
    "def get_db_url(user,host,password,database):\n",
    "\n",
    "    url = f'mysql+pymysql://{user}:{password}@{host}/{database}'\n",
    "    \n",
    "    return url\n",
    "\n",
    "url = get_db_url(user,host,password,database)\n",
    "\n",
    "database_name = \"telco_churn\"\n",
    "query = \"\"\" \n",
    "            SELECT total_charges, tenure \n",
    "            FROM customers as c\n",
    "            WHERE c.internet_service_type_id < 3 and c.total_charges > 0\n",
    "            \n",
    "        \"\"\"\n",
    "\n",
    "dfinternet = pd.read_sql(query, url)\n",
    "\n",
    "dfinternet = dfinternet.astype(float)\n",
    "\n",
    "\n",
    "stats.pearsonr(dfinternet.total_charges, dfinternet.tenure)\n"
   ]
  },
  {
   "cell_type": "code",
   "execution_count": 88,
   "id": "81b3d62a",
   "metadata": {},
   "outputs": [],
   "source": [
    "# 2) Use the employees database.\n"
   ]
  },
  {
   "cell_type": "code",
   "execution_count": 89,
   "id": "a90f5908",
   "metadata": {},
   "outputs": [
    {
     "data": {
      "text/html": [
       "<div>\n",
       "<style scoped>\n",
       "    .dataframe tbody tr th:only-of-type {\n",
       "        vertical-align: middle;\n",
       "    }\n",
       "\n",
       "    .dataframe tbody tr th {\n",
       "        vertical-align: top;\n",
       "    }\n",
       "\n",
       "    .dataframe thead th {\n",
       "        text-align: right;\n",
       "    }\n",
       "</style>\n",
       "<table border=\"1\" class=\"dataframe\">\n",
       "  <thead>\n",
       "    <tr style=\"text-align: right;\">\n",
       "      <th></th>\n",
       "      <th>emp_no</th>\n",
       "      <th>birth_date</th>\n",
       "      <th>first_name</th>\n",
       "      <th>last_name</th>\n",
       "      <th>gender</th>\n",
       "      <th>hire_date</th>\n",
       "      <th>tenure</th>\n",
       "      <th>title</th>\n",
       "      <th>title_from</th>\n",
       "      <th>t_tenure</th>\n",
       "      <th>titles</th>\n",
       "      <th>salary</th>\n",
       "      <th>salary_from</th>\n",
       "      <th>s_tenure</th>\n",
       "      <th>salaries</th>\n",
       "    </tr>\n",
       "  </thead>\n",
       "  <tbody>\n",
       "    <tr>\n",
       "      <th>0</th>\n",
       "      <td>10001</td>\n",
       "      <td>1953-09-02</td>\n",
       "      <td>Georgi</td>\n",
       "      <td>Facello</td>\n",
       "      <td>M</td>\n",
       "      <td>1986-06-26</td>\n",
       "      <td>5940</td>\n",
       "      <td>Senior Engineer</td>\n",
       "      <td>1986-06-26</td>\n",
       "      <td>5940</td>\n",
       "      <td>1</td>\n",
       "      <td>88958</td>\n",
       "      <td>2002-06-22</td>\n",
       "      <td>100</td>\n",
       "      <td>17</td>\n",
       "    </tr>\n",
       "    <tr>\n",
       "      <th>1</th>\n",
       "      <td>10002</td>\n",
       "      <td>1964-06-02</td>\n",
       "      <td>Bezalel</td>\n",
       "      <td>Simmel</td>\n",
       "      <td>F</td>\n",
       "      <td>1985-11-21</td>\n",
       "      <td>6157</td>\n",
       "      <td>Staff</td>\n",
       "      <td>1996-08-03</td>\n",
       "      <td>2249</td>\n",
       "      <td>1</td>\n",
       "      <td>72527</td>\n",
       "      <td>2001-08-02</td>\n",
       "      <td>424</td>\n",
       "      <td>6</td>\n",
       "    </tr>\n",
       "    <tr>\n",
       "      <th>2</th>\n",
       "      <td>10003</td>\n",
       "      <td>1959-12-03</td>\n",
       "      <td>Parto</td>\n",
       "      <td>Bamford</td>\n",
       "      <td>M</td>\n",
       "      <td>1986-08-28</td>\n",
       "      <td>5877</td>\n",
       "      <td>Senior Engineer</td>\n",
       "      <td>1995-12-03</td>\n",
       "      <td>2493</td>\n",
       "      <td>1</td>\n",
       "      <td>43311</td>\n",
       "      <td>2001-12-01</td>\n",
       "      <td>303</td>\n",
       "      <td>7</td>\n",
       "    </tr>\n",
       "    <tr>\n",
       "      <th>3</th>\n",
       "      <td>10004</td>\n",
       "      <td>1954-05-01</td>\n",
       "      <td>Chirstian</td>\n",
       "      <td>Koblick</td>\n",
       "      <td>M</td>\n",
       "      <td>1986-12-01</td>\n",
       "      <td>5782</td>\n",
       "      <td>Senior Engineer</td>\n",
       "      <td>1995-12-01</td>\n",
       "      <td>2495</td>\n",
       "      <td>2</td>\n",
       "      <td>74057</td>\n",
       "      <td>2001-11-27</td>\n",
       "      <td>307</td>\n",
       "      <td>16</td>\n",
       "    </tr>\n",
       "    <tr>\n",
       "      <th>4</th>\n",
       "      <td>10005</td>\n",
       "      <td>1955-01-21</td>\n",
       "      <td>Kyoichi</td>\n",
       "      <td>Maliniak</td>\n",
       "      <td>M</td>\n",
       "      <td>1989-09-12</td>\n",
       "      <td>4766</td>\n",
       "      <td>Senior Staff</td>\n",
       "      <td>1996-09-12</td>\n",
       "      <td>2209</td>\n",
       "      <td>2</td>\n",
       "      <td>94692</td>\n",
       "      <td>2001-09-09</td>\n",
       "      <td>386</td>\n",
       "      <td>13</td>\n",
       "    </tr>\n",
       "  </tbody>\n",
       "</table>\n",
       "</div>"
      ],
      "text/plain": [
       "   emp_no  birth_date first_name last_name gender   hire_date  tenure  \\\n",
       "0   10001  1953-09-02     Georgi   Facello      M  1986-06-26    5940   \n",
       "1   10002  1964-06-02    Bezalel    Simmel      F  1985-11-21    6157   \n",
       "2   10003  1959-12-03      Parto   Bamford      M  1986-08-28    5877   \n",
       "3   10004  1954-05-01  Chirstian   Koblick      M  1986-12-01    5782   \n",
       "4   10005  1955-01-21    Kyoichi  Maliniak      M  1989-09-12    4766   \n",
       "\n",
       "             title  title_from  t_tenure  titles  salary salary_from  \\\n",
       "0  Senior Engineer  1986-06-26      5940       1   88958  2002-06-22   \n",
       "1            Staff  1996-08-03      2249       1   72527  2001-08-02   \n",
       "2  Senior Engineer  1995-12-03      2493       1   43311  2001-12-01   \n",
       "3  Senior Engineer  1995-12-01      2495       2   74057  2001-11-27   \n",
       "4     Senior Staff  1996-09-12      2209       2   94692  2001-09-09   \n",
       "\n",
       "   s_tenure  salaries  \n",
       "0       100        17  \n",
       "1       424         6  \n",
       "2       303         7  \n",
       "3       307        16  \n",
       "4       386        13  "
      ]
     },
     "execution_count": 89,
     "metadata": {},
     "output_type": "execute_result"
    }
   ],
   "source": [
    "\n",
    "from env import host, user, password\n",
    "database = \"employees\"\n",
    "\n",
    "def get_db_url(user,host,password,database):\n",
    "\n",
    "    url = f'mysql+pymysql://{user}:{password}@{host}/{database}'\n",
    "    \n",
    "    return url\n",
    "\n",
    "url = get_db_url(user,host,password,database)\n",
    "\n",
    "database_name = \"employees\"\n",
    "query = \"\"\" \n",
    "            SELECT\n",
    "    e.*,\n",
    "    datediff('2002-09-30', e.hire_date) tenure,\n",
    "    t.title,\n",
    "    t.from_date title_from,\n",
    "    datediff('2002-09-30', t.from_date) t_tenure,\n",
    "    et.titles,\n",
    "    s.salary,\n",
    "    s.from_date salary_from,\n",
    "    datediff('2002-09-30', s.from_date) s_tenure,\n",
    "    es.salaries\n",
    "FROM\n",
    "    employees e\n",
    "JOIN \n",
    "    titles t \n",
    "    USING(emp_no)\n",
    "JOIN \n",
    "    salaries s \n",
    "    USING(emp_no)\n",
    "JOIN\n",
    "    (SELECT \n",
    "        emp_no,\n",
    "        count(*) titles\n",
    "    FROM\n",
    "        titles\n",
    "    GROUP BY\n",
    "        emp_no) et\n",
    "    USING(emp_no)\n",
    "JOIN\n",
    "    (SELECT \n",
    "        emp_no,\n",
    "        count(*) salaries\n",
    "    FROM\n",
    "        salaries\n",
    "    GROUP BY\n",
    "        emp_no) es\n",
    "    USING(emp_no)\n",
    "WHERE\n",
    "    s.to_date > '2002-09-30'\n",
    "    AND t.to_date > '2002-09-30';   \n",
    "    \"\"\"\n",
    "            \n",
    "df = pd.read_sql(query, url)\n",
    "\n",
    "df.head()"
   ]
  },
  {
   "cell_type": "code",
   "execution_count": null,
   "id": "2259ebb7",
   "metadata": {},
   "outputs": [],
   "source": []
  },
  {
   "cell_type": "code",
   "execution_count": 29,
   "id": "c86544dd",
   "metadata": {},
   "outputs": [],
   "source": [
    "# - Is there a relationship between how long an employee has been \n",
    "# with the company and their salary?\n"
   ]
  },
  {
   "cell_type": "code",
   "execution_count": 58,
   "id": "7dff616a",
   "metadata": {},
   "outputs": [
    {
     "data": {
      "text/plain": [
       "0    88958\n",
       "1    72527\n",
       "2    43311\n",
       "3    74057\n",
       "4    94692\n",
       "Name: salary, dtype: int64"
      ]
     },
     "execution_count": 58,
     "metadata": {},
     "output_type": "execute_result"
    }
   ],
   "source": [
    "df.salary.head()"
   ]
  },
  {
   "cell_type": "code",
   "execution_count": null,
   "id": "07bde8d5",
   "metadata": {},
   "outputs": [],
   "source": []
  },
  {
   "cell_type": "code",
   "execution_count": 31,
   "id": "c8bc521c",
   "metadata": {},
   "outputs": [
    {
     "data": {
      "text/plain": [
       "(0.30646256131860894, 0.0)"
      ]
     },
     "execution_count": 31,
     "metadata": {},
     "output_type": "execute_result"
    }
   ],
   "source": [
    "salary = df.tenure\n",
    "tenure = df.tenure\n",
    "\n",
    "stats.pearsonr(df.tenure, df.salary)\n"
   ]
  },
  {
   "cell_type": "code",
   "execution_count": 32,
   "id": "57be6d24",
   "metadata": {},
   "outputs": [],
   "source": [
    "\n",
    "# - Is there a relationship between how long an employee has been \n",
    "# with the company and the number of titles they have had?"
   ]
  },
  {
   "cell_type": "code",
   "execution_count": 59,
   "id": "5fb0e477",
   "metadata": {},
   "outputs": [
    {
     "data": {
      "text/plain": [
       "(0.2871267889699541, 0.0)"
      ]
     },
     "execution_count": 59,
     "metadata": {},
     "output_type": "execute_result"
    }
   ],
   "source": [
    "stats.pearsonr(df.tenure, df.titles)\n"
   ]
  },
  {
   "cell_type": "code",
   "execution_count": 34,
   "id": "6552d300",
   "metadata": {},
   "outputs": [],
   "source": [
    "# 3) Use the sleepstudy data. Is there a relationship between days and reaction time?\n",
    "\n"
   ]
  },
  {
   "cell_type": "code",
   "execution_count": 70,
   "id": "f16c50b6",
   "metadata": {},
   "outputs": [],
   "source": [
    "import pydataset\n",
    "sleep = pydataset.data('sleepstudy', show_doc=True)"
   ]
  },
  {
   "cell_type": "code",
   "execution_count": 72,
   "id": "656fb904",
   "metadata": {},
   "outputs": [
    {
     "data": {
      "text/plain": [
       "(0.5352302262650253, 9.894096322214812e-15)"
      ]
     },
     "execution_count": 72,
     "metadata": {},
     "output_type": "execute_result"
    }
   ],
   "source": [
    "df = pydataset.data('sleepstudy')\n",
    "\n",
    "stats.pearsonr(df.Days, df.Reaction)\n"
   ]
  },
  {
   "cell_type": "markdown",
   "id": "95a7d4b1",
   "metadata": {},
   "source": [
    "# Exercises\n",
    "\n",
    "Continue working in your hypothesis_testing notebook.\n",
    "\n",
    "\n",
    "\n",
    " \tCodeup Student\tNot Codeup Student\n",
    "Uses a Macbook\t49\t20\n",
    "Doesn't Use A Macbook\t1\t30\n",
    "Choose another 2 categorical variables from the mpg dataset and perform a \n",
    "c\n",
    "h\n",
    "i\n",
    "2\n",
    " contingency table test with them. Be sure to state your null and alternative hypotheses.\n",
    "\n",
    "Use the data from the employees database to answer these questions:\n",
    "\n",
    "Is an employee's gender independent of whether an employee works in sales or marketing? (only look at current employees)\n",
    "Is an employee's gender independent of whether or not they are or have been a manager?#Exercises\n",
    "\n",
    "Continue working in your hypothesis_testing notebook.\n",
    "\n",
    "Use the following contingency table to help answer the question of whether using a macbook and being a codeup student are independent of each other.\n",
    "\n",
    " \tCodeup Student\tNot Codeup Student\n",
    "Uses a Macbook\t49\t20\n",
    "Doesn't Use A Macbook\t1\t30\n"
   ]
  },
  {
   "cell_type": "code",
   "execution_count": null,
   "id": "1706c8a1",
   "metadata": {},
   "outputs": [],
   "source": [
    "# Use the following contingency table to help answer the question of\n",
    "# whether using a macbook and being a codeup student are independent\n",
    "# of each other.\n",
    "\n"
   ]
  },
  {
   "cell_type": "code",
   "execution_count": 19,
   "id": "7c9aa163",
   "metadata": {},
   "outputs": [],
   "source": [
    "index = ['Uses a Mac Book', 'Uses Other']\n",
    "columns = ['Codeup Student', 'Not a student']\n",
    "\n",
    "observed = pd.DataFrame([[49, 20], [1, 30]], index=index, columns=columns)\n",
    "n = observed.values.sum()"
   ]
  },
  {
   "cell_type": "code",
   "execution_count": 20,
   "id": "0bef35c0",
   "metadata": {},
   "outputs": [],
   "source": [
    "expected = pd.DataFrame([[.345, .345], [.155, .155]], index=index, columns=columns) * n\n",
    "\n"
   ]
  },
  {
   "cell_type": "code",
   "execution_count": 21,
   "id": "092599c1",
   "metadata": {},
   "outputs": [
    {
     "name": "stdout",
     "output_type": "stream",
     "text": [
      "Observed\n",
      "                 Codeup Student  Not a student\n",
      "Uses a Mac Book              49             20\n",
      "Uses Other                    1             30\n",
      "---\n",
      "Expected\n",
      "                 Codeup Student  Not a student\n",
      "Uses a Mac Book            34.5           34.5\n",
      "Uses Other                 15.5           15.5\n",
      "---\n",
      "\n",
      "chi^2 = 39.3174\n",
      "p     = 0.0000\n"
     ]
    }
   ],
   "source": [
    "chi2 = ((observed - expected)**2 / expected).values.sum()\n",
    "\n",
    "nrows, ncols = observed.shape\n",
    "\n",
    "degrees_of_freedom = (nrows - 1) * (ncols - 1)\n",
    "\n",
    "p = stats.chi2(degrees_of_freedom).sf(chi2)\n",
    "\n",
    "print('Observed')\n",
    "print(observed)\n",
    "print('---\\nExpected')\n",
    "print(expected)\n",
    "print('---\\n')\n",
    "print(f'chi^2 = {chi2:.4f}')\n",
    "print(f'p     = {p:.4f}')"
   ]
  },
  {
   "cell_type": "code",
   "execution_count": 23,
   "id": "fb845d44",
   "metadata": {},
   "outputs": [
    {
     "name": "stdout",
     "output_type": "stream",
     "text": [
      "Observed\n",
      "\n",
      "[[49 20]\n",
      " [ 1 30]]\n",
      "---\n",
      "Expected\n",
      "\n",
      "[[34.5 34.5]\n",
      " [15.5 15.5]]\n",
      "---\n",
      "\n",
      "chi^2 = 36.6526\n",
      "p     = 0.0000\n"
     ]
    }
   ],
   "source": [
    "chi2, p, degf, expected = stats.chi2_contingency(observed)\n",
    "\n",
    "print('Observed\\n')\n",
    "print(observed.values)\n",
    "print('---\\nExpected\\n')\n",
    "print(expected)\n",
    "print('---\\n')\n",
    "print(f'chi^2 = {chi2:.4f}')\n",
    "print(f'p     = {p:.4f}')\n"
   ]
  },
  {
   "cell_type": "code",
   "execution_count": 25,
   "id": "28cbdc52",
   "metadata": {},
   "outputs": [],
   "source": [
    "a = 0.05"
   ]
  },
  {
   "cell_type": "code",
   "execution_count": 26,
   "id": "7be31e59",
   "metadata": {},
   "outputs": [
    {
     "name": "stdout",
     "output_type": "stream",
     "text": [
      "reject the null\n"
     ]
    }
   ],
   "source": [
    "# if p < a then we reject the null\n",
    "if p < a:\n",
    "    print(\"reject the null\")\n",
    "else:\n",
    "    print(\"Fail to eject the null\")"
   ]
  },
  {
   "cell_type": "code",
   "execution_count": 56,
   "id": "e93a8999",
   "metadata": {},
   "outputs": [],
   "source": [
    "# Choose another 2 categorical variables from the mpg dataset and \n",
    "\n",
    "# perform a chi2 contingency table test with them. \n",
    "\n",
    "# - Be sure to state your null and alternative hypotheses.\n",
    "\n"
   ]
  },
  {
   "cell_type": "raw",
   "id": "9e8cc589",
   "metadata": {},
   "source": [
    "H0: Cylinder sizes is equal in cars made in 1999 and 2008.\n",
    "\n",
    "Ha: Cylinder sizes is not equal in cars made in 1999 and 2008."
   ]
  },
  {
   "cell_type": "code",
   "execution_count": 57,
   "id": "2df0aff4",
   "metadata": {},
   "outputs": [],
   "source": [
    "import pandas as pd\n",
    "from scipy import stats\n",
    "from pydataset import data\n"
   ]
  },
  {
   "cell_type": "code",
   "execution_count": 58,
   "id": "3b5959c3",
   "metadata": {},
   "outputs": [
    {
     "data": {
      "text/html": [
       "<div>\n",
       "<style scoped>\n",
       "    .dataframe tbody tr th:only-of-type {\n",
       "        vertical-align: middle;\n",
       "    }\n",
       "\n",
       "    .dataframe tbody tr th {\n",
       "        vertical-align: top;\n",
       "    }\n",
       "\n",
       "    .dataframe thead th {\n",
       "        text-align: right;\n",
       "    }\n",
       "</style>\n",
       "<table border=\"1\" class=\"dataframe\">\n",
       "  <thead>\n",
       "    <tr style=\"text-align: right;\">\n",
       "      <th></th>\n",
       "      <th>manufacturer</th>\n",
       "      <th>model</th>\n",
       "      <th>displ</th>\n",
       "      <th>year</th>\n",
       "      <th>cyl</th>\n",
       "      <th>trans</th>\n",
       "      <th>drv</th>\n",
       "      <th>cty</th>\n",
       "      <th>hwy</th>\n",
       "      <th>fl</th>\n",
       "      <th>class</th>\n",
       "      <th>transmission</th>\n",
       "    </tr>\n",
       "  </thead>\n",
       "  <tbody>\n",
       "    <tr>\n",
       "      <th>1</th>\n",
       "      <td>audi</td>\n",
       "      <td>a4</td>\n",
       "      <td>1.8</td>\n",
       "      <td>1999</td>\n",
       "      <td>4</td>\n",
       "      <td>auto(l5)</td>\n",
       "      <td>f</td>\n",
       "      <td>18</td>\n",
       "      <td>29</td>\n",
       "      <td>p</td>\n",
       "      <td>compact</td>\n",
       "      <td>auto</td>\n",
       "    </tr>\n",
       "    <tr>\n",
       "      <th>2</th>\n",
       "      <td>audi</td>\n",
       "      <td>a4</td>\n",
       "      <td>1.8</td>\n",
       "      <td>1999</td>\n",
       "      <td>4</td>\n",
       "      <td>manual(m5)</td>\n",
       "      <td>f</td>\n",
       "      <td>21</td>\n",
       "      <td>29</td>\n",
       "      <td>p</td>\n",
       "      <td>compact</td>\n",
       "      <td>manual</td>\n",
       "    </tr>\n",
       "    <tr>\n",
       "      <th>3</th>\n",
       "      <td>audi</td>\n",
       "      <td>a4</td>\n",
       "      <td>2.0</td>\n",
       "      <td>2008</td>\n",
       "      <td>4</td>\n",
       "      <td>manual(m6)</td>\n",
       "      <td>f</td>\n",
       "      <td>20</td>\n",
       "      <td>31</td>\n",
       "      <td>p</td>\n",
       "      <td>compact</td>\n",
       "      <td>manual</td>\n",
       "    </tr>\n",
       "    <tr>\n",
       "      <th>4</th>\n",
       "      <td>audi</td>\n",
       "      <td>a4</td>\n",
       "      <td>2.0</td>\n",
       "      <td>2008</td>\n",
       "      <td>4</td>\n",
       "      <td>auto(av)</td>\n",
       "      <td>f</td>\n",
       "      <td>21</td>\n",
       "      <td>30</td>\n",
       "      <td>p</td>\n",
       "      <td>compact</td>\n",
       "      <td>auto</td>\n",
       "    </tr>\n",
       "    <tr>\n",
       "      <th>5</th>\n",
       "      <td>audi</td>\n",
       "      <td>a4</td>\n",
       "      <td>2.8</td>\n",
       "      <td>1999</td>\n",
       "      <td>6</td>\n",
       "      <td>auto(l5)</td>\n",
       "      <td>f</td>\n",
       "      <td>16</td>\n",
       "      <td>26</td>\n",
       "      <td>p</td>\n",
       "      <td>compact</td>\n",
       "      <td>auto</td>\n",
       "    </tr>\n",
       "  </tbody>\n",
       "</table>\n",
       "</div>"
      ],
      "text/plain": [
       "  manufacturer model  displ  year  cyl       trans drv  cty  hwy fl    class  \\\n",
       "1         audi    a4    1.8  1999    4    auto(l5)   f   18   29  p  compact   \n",
       "2         audi    a4    1.8  1999    4  manual(m5)   f   21   29  p  compact   \n",
       "3         audi    a4    2.0  2008    4  manual(m6)   f   20   31  p  compact   \n",
       "4         audi    a4    2.0  2008    4    auto(av)   f   21   30  p  compact   \n",
       "5         audi    a4    2.8  1999    6    auto(l5)   f   16   26  p  compact   \n",
       "\n",
       "  transmission  \n",
       "1         auto  \n",
       "2       manual  \n",
       "3       manual  \n",
       "4         auto  \n",
       "5         auto  "
      ]
     },
     "execution_count": 58,
     "metadata": {},
     "output_type": "execute_result"
    }
   ],
   "source": [
    "mpg = data('mpg')\n",
    "mpg['transmission'] = mpg.trans.str[:-4] # a little cleaning goes a long way\n",
    "mpg.head()"
   ]
  },
  {
   "cell_type": "code",
   "execution_count": 81,
   "id": "f48f52a0",
   "metadata": {},
   "outputs": [
    {
     "data": {
      "text/plain": [
       "4    0.346154\n",
       "6    0.337607\n",
       "8    0.299145\n",
       "5    0.017094\n",
       "Name: cyl, dtype: float64"
      ]
     },
     "execution_count": 81,
     "metadata": {},
     "output_type": "execute_result"
    }
   ],
   "source": [
    "n = mpg.shape[0]\n",
    "\n",
    "cyl_proportions = mpg.cyl.value_counts() / n\n",
    "cyl_proportions\n",
    "\n"
   ]
  },
  {
   "cell_type": "code",
   "execution_count": 82,
   "id": "f4389422",
   "metadata": {},
   "outputs": [
    {
     "data": {
      "text/plain": [
       "1999    0.5\n",
       "2008    0.5\n",
       "Name: year, dtype: float64"
      ]
     },
     "execution_count": 82,
     "metadata": {},
     "output_type": "execute_result"
    }
   ],
   "source": [
    "year_proportions = mpg.year.value_counts() / n\n",
    "year_proportions"
   ]
  },
  {
   "cell_type": "code",
   "execution_count": 83,
   "id": "93e5404b",
   "metadata": {},
   "outputs": [
    {
     "data": {
      "text/plain": [
       "0.17"
      ]
     },
     "execution_count": 83,
     "metadata": {},
     "output_type": "execute_result"
    }
   ],
   "source": [
    ".34 * .5"
   ]
  },
  {
   "cell_type": "code",
   "execution_count": 84,
   "id": "a68e7408",
   "metadata": {},
   "outputs": [
    {
     "data": {
      "text/html": [
       "<div>\n",
       "<style scoped>\n",
       "    .dataframe tbody tr th:only-of-type {\n",
       "        vertical-align: middle;\n",
       "    }\n",
       "\n",
       "    .dataframe tbody tr th {\n",
       "        vertical-align: top;\n",
       "    }\n",
       "\n",
       "    .dataframe thead th {\n",
       "        text-align: right;\n",
       "    }\n",
       "</style>\n",
       "<table border=\"1\" class=\"dataframe\">\n",
       "  <thead>\n",
       "    <tr style=\"text-align: right;\">\n",
       "      <th></th>\n",
       "      <th>4</th>\n",
       "      <th>6</th>\n",
       "      <th>8</th>\n",
       "      <th>5</th>\n",
       "    </tr>\n",
       "  </thead>\n",
       "  <tbody>\n",
       "    <tr>\n",
       "      <th>1999</th>\n",
       "      <td>0.16453</td>\n",
       "      <td>0.16453</td>\n",
       "      <td>0.16453</td>\n",
       "      <td>0.16453</td>\n",
       "    </tr>\n",
       "    <tr>\n",
       "      <th>2008</th>\n",
       "      <td>0.16453</td>\n",
       "      <td>0.16453</td>\n",
       "      <td>0.16453</td>\n",
       "      <td>0.16453</td>\n",
       "    </tr>\n",
       "  </tbody>\n",
       "</table>\n",
       "</div>"
      ],
      "text/plain": [
       "            4        6        8        5\n",
       "1999  0.16453  0.16453  0.16453  0.16453\n",
       "2008  0.16453  0.16453  0.16453  0.16453"
      ]
     },
     "execution_count": 84,
     "metadata": {},
     "output_type": "execute_result"
    }
   ],
   "source": [
    "expected = pd.DataFrame()\n",
    "\n",
    "for cyl_group, c_prop in cyl_proportions.iteritems():\n",
    "    for year_group, y_prop in year_proportions.iteritems():\n",
    "        expected.loc[year_group, cyl_group] = t_prop * y_prop\n",
    "\n",
    "expected.sort_index(inplace=True)\n",
    "expected"
   ]
  },
  {
   "cell_type": "code",
   "execution_count": 85,
   "id": "c28a262e",
   "metadata": {},
   "outputs": [
    {
     "data": {
      "text/html": [
       "<div>\n",
       "<style scoped>\n",
       "    .dataframe tbody tr th:only-of-type {\n",
       "        vertical-align: middle;\n",
       "    }\n",
       "\n",
       "    .dataframe tbody tr th {\n",
       "        vertical-align: top;\n",
       "    }\n",
       "\n",
       "    .dataframe thead th {\n",
       "        text-align: right;\n",
       "    }\n",
       "</style>\n",
       "<table border=\"1\" class=\"dataframe\">\n",
       "  <thead>\n",
       "    <tr style=\"text-align: right;\">\n",
       "      <th></th>\n",
       "      <th>4</th>\n",
       "      <th>6</th>\n",
       "      <th>8</th>\n",
       "      <th>5</th>\n",
       "    </tr>\n",
       "  </thead>\n",
       "  <tbody>\n",
       "    <tr>\n",
       "      <th>1999</th>\n",
       "      <td>38.5</td>\n",
       "      <td>38.5</td>\n",
       "      <td>38.5</td>\n",
       "      <td>38.5</td>\n",
       "    </tr>\n",
       "    <tr>\n",
       "      <th>2008</th>\n",
       "      <td>38.5</td>\n",
       "      <td>38.5</td>\n",
       "      <td>38.5</td>\n",
       "      <td>38.5</td>\n",
       "    </tr>\n",
       "  </tbody>\n",
       "</table>\n",
       "</div>"
      ],
      "text/plain": [
       "         4     6     8     5\n",
       "1999  38.5  38.5  38.5  38.5\n",
       "2008  38.5  38.5  38.5  38.5"
      ]
     },
     "execution_count": 85,
     "metadata": {},
     "output_type": "execute_result"
    }
   ],
   "source": [
    "expected *= n\n",
    "expected"
   ]
  },
  {
   "cell_type": "code",
   "execution_count": 86,
   "id": "24a5a0d2",
   "metadata": {},
   "outputs": [
    {
     "data": {
      "text/html": [
       "<div>\n",
       "<style scoped>\n",
       "    .dataframe tbody tr th:only-of-type {\n",
       "        vertical-align: middle;\n",
       "    }\n",
       "\n",
       "    .dataframe tbody tr th {\n",
       "        vertical-align: top;\n",
       "    }\n",
       "\n",
       "    .dataframe thead th {\n",
       "        text-align: right;\n",
       "    }\n",
       "</style>\n",
       "<table border=\"1\" class=\"dataframe\">\n",
       "  <thead>\n",
       "    <tr style=\"text-align: right;\">\n",
       "      <th>cyl</th>\n",
       "      <th>4</th>\n",
       "      <th>5</th>\n",
       "      <th>6</th>\n",
       "      <th>8</th>\n",
       "    </tr>\n",
       "    <tr>\n",
       "      <th>year</th>\n",
       "      <th></th>\n",
       "      <th></th>\n",
       "      <th></th>\n",
       "      <th></th>\n",
       "    </tr>\n",
       "  </thead>\n",
       "  <tbody>\n",
       "    <tr>\n",
       "      <th>1999</th>\n",
       "      <td>45</td>\n",
       "      <td>0</td>\n",
       "      <td>45</td>\n",
       "      <td>27</td>\n",
       "    </tr>\n",
       "    <tr>\n",
       "      <th>2008</th>\n",
       "      <td>36</td>\n",
       "      <td>4</td>\n",
       "      <td>34</td>\n",
       "      <td>43</td>\n",
       "    </tr>\n",
       "  </tbody>\n",
       "</table>\n",
       "</div>"
      ],
      "text/plain": [
       "cyl    4  5   6   8\n",
       "year               \n",
       "1999  45  0  45  27\n",
       "2008  36  4  34  43"
      ]
     },
     "execution_count": 86,
     "metadata": {},
     "output_type": "execute_result"
    }
   ],
   "source": [
    "observed = pd.crosstab(mpg.cyl, mpg.year).T\n",
    "observed"
   ]
  },
  {
   "cell_type": "code",
   "execution_count": 87,
   "id": "adcc2c17",
   "metadata": {},
   "outputs": [
    {
     "data": {
      "text/plain": [
       "76.25974025974025"
      ]
     },
     "execution_count": 87,
     "metadata": {},
     "output_type": "execute_result"
    }
   ],
   "source": [
    "# Chi2 statistic- intermeterary\n",
    "chi2 = ((observed - expected)**2 / expected).values.sum()\n",
    "chi2"
   ]
  },
  {
   "cell_type": "code",
   "execution_count": 73,
   "id": "a5ece30a",
   "metadata": {},
   "outputs": [],
   "source": [
    "nrows, ncols = observed.shape\n",
    "\n",
    "degrees_of_freedom = (nrows - 1) * (ncols - 1)"
   ]
  },
  {
   "cell_type": "code",
   "execution_count": 88,
   "id": "92d7c679",
   "metadata": {},
   "outputs": [
    {
     "data": {
      "text/plain": [
       "1.9457294807767893e-16"
      ]
     },
     "execution_count": 88,
     "metadata": {},
     "output_type": "execute_result"
    }
   ],
   "source": [
    "p = stats.chi2(degrees_of_freedom).sf(chi2)\n",
    "p"
   ]
  },
  {
   "cell_type": "code",
   "execution_count": 89,
   "id": "ae17bfc7",
   "metadata": {},
   "outputs": [],
   "source": [
    "a = .05\n"
   ]
  },
  {
   "cell_type": "code",
   "execution_count": 90,
   "id": "76a14a00",
   "metadata": {},
   "outputs": [
    {
     "name": "stdout",
     "output_type": "stream",
     "text": [
      "reject the null\n"
     ]
    }
   ],
   "source": [
    "# if p < a then we reject the null\n",
    "a = 0.05\n",
    "\n",
    "if p < a:\n",
    "    print(\"reject the null\")\n",
    "else:\n",
    "    print(\"Fail to eject the null\")"
   ]
  },
  {
   "cell_type": "code",
   "execution_count": 60,
   "id": "84b98cd9",
   "metadata": {},
   "outputs": [
    {
     "data": {
      "text/html": [
       "<div>\n",
       "<style scoped>\n",
       "    .dataframe tbody tr th:only-of-type {\n",
       "        vertical-align: middle;\n",
       "    }\n",
       "\n",
       "    .dataframe tbody tr th {\n",
       "        vertical-align: top;\n",
       "    }\n",
       "\n",
       "    .dataframe thead th {\n",
       "        text-align: right;\n",
       "    }\n",
       "</style>\n",
       "<table border=\"1\" class=\"dataframe\">\n",
       "  <thead>\n",
       "    <tr style=\"text-align: right;\">\n",
       "      <th>cyl</th>\n",
       "      <th>4</th>\n",
       "      <th>5</th>\n",
       "      <th>6</th>\n",
       "      <th>8</th>\n",
       "    </tr>\n",
       "    <tr>\n",
       "      <th>year</th>\n",
       "      <th></th>\n",
       "      <th></th>\n",
       "      <th></th>\n",
       "      <th></th>\n",
       "    </tr>\n",
       "  </thead>\n",
       "  <tbody>\n",
       "    <tr>\n",
       "      <th>1999</th>\n",
       "      <td>45</td>\n",
       "      <td>0</td>\n",
       "      <td>45</td>\n",
       "      <td>27</td>\n",
       "    </tr>\n",
       "    <tr>\n",
       "      <th>2008</th>\n",
       "      <td>36</td>\n",
       "      <td>4</td>\n",
       "      <td>34</td>\n",
       "      <td>43</td>\n",
       "    </tr>\n",
       "  </tbody>\n",
       "</table>\n",
       "</div>"
      ],
      "text/plain": [
       "cyl    4  5   6   8\n",
       "year               \n",
       "1999  45  0  45  27\n",
       "2008  36  4  34  43"
      ]
     },
     "execution_count": 60,
     "metadata": {},
     "output_type": "execute_result"
    }
   ],
   "source": [
    "# easy way\n",
    "\n",
    "observed = pd.crosstab(mpg.year, mpg.cyl)\n",
    "observed"
   ]
  },
  {
   "cell_type": "code",
   "execution_count": 61,
   "id": "5d4671a4",
   "metadata": {},
   "outputs": [
    {
     "name": "stdout",
     "output_type": "stream",
     "text": [
      "Observed\n",
      "\n",
      "[[45  0 45 27]\n",
      " [36  4 34 43]]\n",
      "---\n",
      "Expected\n",
      "\n",
      "[[40.5  2.  39.5 35. ]\n",
      " [40.5  2.  39.5 35. ]]\n",
      "---\n",
      "\n",
      "chi^2 = 10.1888\n",
      "p     = 0.0170\n"
     ]
    }
   ],
   "source": [
    "chi2, p, degf, expected = stats.chi2_contingency(observed)\n",
    "\n",
    "print('Observed\\n')\n",
    "print(observed.values)\n",
    "print('---\\nExpected\\n')\n",
    "print(expected)\n",
    "print('---\\n')\n",
    "print(f'chi^2 = {chi2:.4f}')\n",
    "print(f'p     = {p:.4f}')"
   ]
  },
  {
   "cell_type": "code",
   "execution_count": 62,
   "id": "f753e487",
   "metadata": {},
   "outputs": [
    {
     "name": "stdout",
     "output_type": "stream",
     "text": [
      "reject the null\n"
     ]
    }
   ],
   "source": [
    "# if p < a then we reject the null\n",
    "a = 0.05\n",
    "\n",
    "if p < a:\n",
    "    print(\"reject the null\")\n",
    "else:\n",
    "    print(\"Fail to eject the null\")"
   ]
  },
  {
   "cell_type": "code",
   "execution_count": null,
   "id": "7e885c69",
   "metadata": {},
   "outputs": [],
   "source": [
    "#3) Use the data from the employees database to answer these \n",
    "# questions:\n"
   ]
  },
  {
   "cell_type": "code",
   "execution_count": 126,
   "id": "9457a2de",
   "metadata": {},
   "outputs": [],
   "source": [
    "from env import host, user, password\n",
    "database = \"employees\"\n",
    "\n",
    "def get_db_url(user,host,password,database):\n",
    "\n",
    "    url = f'mysql+pymysql://{user}:{password}@{host}/{database}'\n",
    "    \n",
    "    return url\n",
    "\n",
    "url = get_db_url(user,host,password,database)\n",
    "\n",
    "database_name = \"employees\"\n",
    "query = \"\"\" \n",
    "            SELECT *\n",
    "            FROM employees as e\n",
    "            JOIN dept_emp as de\n",
    "            USING (emp_no)\n",
    "            JOIN departments as d\n",
    "            USING (dept_no)\n",
    "            WHERE (dept_name = 'Sales' or dept_name = 'Marketing') and to_date = \"9999-01-01\"\n",
    "        \"\"\"\n",
    "df = pd.read_sql(query, url)\n",
    "\n"
   ]
  },
  {
   "cell_type": "code",
   "execution_count": 129,
   "id": "3e749202",
   "metadata": {},
   "outputs": [],
   "source": [
    "# -Is an employee's gender independent of whether an employee works \n",
    "# in sales or marketing? (only look at current employees)\n",
    "\n",
    "gender = df.gender\n",
    "\n",
    "department = df.dept_name\n",
    "\n",
    "crosstab = pd.crosstab(gender,department)\n"
   ]
  },
  {
   "cell_type": "code",
   "execution_count": 130,
   "id": "e26cc450",
   "metadata": {},
   "outputs": [
    {
     "name": "stdout",
     "output_type": "stream",
     "text": [
      "Observed\n",
      "\n",
      "[[ 1440 12412     4 34406 32792 10090  4866]\n",
      " [ 2148 18571     5 51533 49232 15436  7189]]\n",
      "---\n",
      "Expected\n",
      "\n",
      "[[1.43460829e+03 1.23880904e+04 3.59851577e+00 3.43614274e+04\n",
      "  3.27960730e+04 1.02061904e+04 4.82001195e+03]\n",
      " [2.15339171e+03 1.85949096e+04 5.40148423e+00 5.15775726e+04\n",
      "  4.92279270e+04 1.53198096e+04 7.23498805e+03]]\n",
      "---\n",
      "\n",
      "chi^2 = 3.2175\n",
      "p     = 0.7811\n"
     ]
    }
   ],
   "source": [
    "chi2, p, degf, expected = stats.chi2_contingency(observed)\n",
    "\n",
    "print('Observed\\n')\n",
    "print(observed.values)\n",
    "print('---\\nExpected\\n')\n",
    "print(expected)\n",
    "print('---\\n')\n",
    "print(f'chi^2 = {chi2:.4f}')\n",
    "print(f'p     = {p:.4f}')\n",
    "\n",
    "\n"
   ]
  },
  {
   "cell_type": "code",
   "execution_count": null,
   "id": "ca41f3b3",
   "metadata": {},
   "outputs": [],
   "source": [
    "a = 0.05"
   ]
  },
  {
   "cell_type": "code",
   "execution_count": 131,
   "id": "5c6221f5",
   "metadata": {},
   "outputs": [
    {
     "name": "stdout",
     "output_type": "stream",
     "text": [
      "Fail to eject the null\n"
     ]
    }
   ],
   "source": [
    "# if p < a then we reject the null\n",
    "if p < a:\n",
    "    print(\"reject the null\")\n",
    "else:\n",
    "    print(\"Fail to eject the null\")"
   ]
  },
  {
   "cell_type": "code",
   "execution_count": null,
   "id": "c6419024",
   "metadata": {},
   "outputs": [],
   "source": [
    "# -Is an employee's gender independent of whether or not they are \n",
    "# or have been a manager?"
   ]
  },
  {
   "cell_type": "code",
   "execution_count": 7,
   "id": "5d691be3",
   "metadata": {},
   "outputs": [
    {
     "data": {
      "text/html": [
       "<div>\n",
       "<style scoped>\n",
       "    .dataframe tbody tr th:only-of-type {\n",
       "        vertical-align: middle;\n",
       "    }\n",
       "\n",
       "    .dataframe tbody tr th {\n",
       "        vertical-align: top;\n",
       "    }\n",
       "\n",
       "    .dataframe thead th {\n",
       "        text-align: right;\n",
       "    }\n",
       "</style>\n",
       "<table border=\"1\" class=\"dataframe\">\n",
       "  <thead>\n",
       "    <tr style=\"text-align: right;\">\n",
       "      <th></th>\n",
       "      <th>emp_no</th>\n",
       "      <th>dept_no</th>\n",
       "      <th>birth_date</th>\n",
       "      <th>first_name</th>\n",
       "      <th>last_name</th>\n",
       "      <th>gender</th>\n",
       "      <th>hire_date</th>\n",
       "      <th>from_date</th>\n",
       "      <th>to_date</th>\n",
       "      <th>dept_name</th>\n",
       "      <th>title</th>\n",
       "      <th>from_date</th>\n",
       "      <th>to_date</th>\n",
       "    </tr>\n",
       "  </thead>\n",
       "  <tbody>\n",
       "    <tr>\n",
       "      <th>0</th>\n",
       "      <td>111692</td>\n",
       "      <td>d009</td>\n",
       "      <td>1954-10-05</td>\n",
       "      <td>Tonny</td>\n",
       "      <td>Butterworth</td>\n",
       "      <td>F</td>\n",
       "      <td>1985-01-01</td>\n",
       "      <td>1985-01-01</td>\n",
       "      <td>1988-10-17</td>\n",
       "      <td>Customer Service</td>\n",
       "      <td>Manager</td>\n",
       "      <td>1985-01-01</td>\n",
       "      <td>1988-10-17</td>\n",
       "    </tr>\n",
       "    <tr>\n",
       "      <th>1</th>\n",
       "      <td>111692</td>\n",
       "      <td>d009</td>\n",
       "      <td>1954-10-05</td>\n",
       "      <td>Tonny</td>\n",
       "      <td>Butterworth</td>\n",
       "      <td>F</td>\n",
       "      <td>1985-01-01</td>\n",
       "      <td>1985-01-01</td>\n",
       "      <td>1988-10-17</td>\n",
       "      <td>Customer Service</td>\n",
       "      <td>Staff</td>\n",
       "      <td>1988-10-17</td>\n",
       "      <td>9999-01-01</td>\n",
       "    </tr>\n",
       "    <tr>\n",
       "      <th>2</th>\n",
       "      <td>111784</td>\n",
       "      <td>d009</td>\n",
       "      <td>1956-06-14</td>\n",
       "      <td>Marjo</td>\n",
       "      <td>Giarratana</td>\n",
       "      <td>F</td>\n",
       "      <td>1988-02-12</td>\n",
       "      <td>1988-10-17</td>\n",
       "      <td>1992-09-08</td>\n",
       "      <td>Customer Service</td>\n",
       "      <td>Manager</td>\n",
       "      <td>1988-10-17</td>\n",
       "      <td>1992-09-08</td>\n",
       "    </tr>\n",
       "    <tr>\n",
       "      <th>3</th>\n",
       "      <td>111784</td>\n",
       "      <td>d009</td>\n",
       "      <td>1956-06-14</td>\n",
       "      <td>Marjo</td>\n",
       "      <td>Giarratana</td>\n",
       "      <td>F</td>\n",
       "      <td>1988-02-12</td>\n",
       "      <td>1988-10-17</td>\n",
       "      <td>1992-09-08</td>\n",
       "      <td>Customer Service</td>\n",
       "      <td>Senior Staff</td>\n",
       "      <td>1988-02-12</td>\n",
       "      <td>1988-10-17</td>\n",
       "    </tr>\n",
       "    <tr>\n",
       "      <th>4</th>\n",
       "      <td>111784</td>\n",
       "      <td>d009</td>\n",
       "      <td>1956-06-14</td>\n",
       "      <td>Marjo</td>\n",
       "      <td>Giarratana</td>\n",
       "      <td>F</td>\n",
       "      <td>1988-02-12</td>\n",
       "      <td>1988-10-17</td>\n",
       "      <td>1992-09-08</td>\n",
       "      <td>Customer Service</td>\n",
       "      <td>Staff</td>\n",
       "      <td>1992-09-08</td>\n",
       "      <td>9999-01-01</td>\n",
       "    </tr>\n",
       "  </tbody>\n",
       "</table>\n",
       "</div>"
      ],
      "text/plain": [
       "   emp_no dept_no  birth_date first_name    last_name gender   hire_date  \\\n",
       "0  111692    d009  1954-10-05      Tonny  Butterworth      F  1985-01-01   \n",
       "1  111692    d009  1954-10-05      Tonny  Butterworth      F  1985-01-01   \n",
       "2  111784    d009  1956-06-14      Marjo   Giarratana      F  1988-02-12   \n",
       "3  111784    d009  1956-06-14      Marjo   Giarratana      F  1988-02-12   \n",
       "4  111784    d009  1956-06-14      Marjo   Giarratana      F  1988-02-12   \n",
       "\n",
       "    from_date     to_date         dept_name         title   from_date  \\\n",
       "0  1985-01-01  1988-10-17  Customer Service       Manager  1985-01-01   \n",
       "1  1985-01-01  1988-10-17  Customer Service         Staff  1988-10-17   \n",
       "2  1988-10-17  1992-09-08  Customer Service       Manager  1988-10-17   \n",
       "3  1988-10-17  1992-09-08  Customer Service  Senior Staff  1988-02-12   \n",
       "4  1988-10-17  1992-09-08  Customer Service         Staff  1992-09-08   \n",
       "\n",
       "      to_date  \n",
       "0  1988-10-17  \n",
       "1  9999-01-01  \n",
       "2  1992-09-08  \n",
       "3  1988-10-17  \n",
       "4  9999-01-01  "
      ]
     },
     "execution_count": 7,
     "metadata": {},
     "output_type": "execute_result"
    }
   ],
   "source": [
    "from env import host, user, password\n",
    "database = \"employees\"\n",
    "\n",
    "def get_db_url(user,host,password,database):\n",
    "\n",
    "    url = f'mysql+pymysql://{user}:{password}@{host}/{database}'\n",
    "    \n",
    "    return url\n",
    "\n",
    "url = get_db_url(user,host,password,database)\n",
    "\n",
    "database_name = \"employees\"\n",
    "query = \"\"\" \n",
    "            SELECT *\n",
    "            FROM employees as e\n",
    "            JOIN dept_manager as dm\n",
    "            USING (emp_no)\n",
    "            JOIN departments as d\n",
    "            USING (dept_no)\n",
    "            JOIN titles as t\n",
    "            USING (emp_no)\n",
    "        \"\"\"\n",
    "df = pd.read_sql(query, url)\n",
    "\n",
    "df.head()"
   ]
  },
  {
   "cell_type": "code",
   "execution_count": 23,
   "id": "a1441f5f",
   "metadata": {},
   "outputs": [
    {
     "data": {
      "text/plain": [
       "F    0.574074\n",
       "M    0.425926\n",
       "Name: gender, dtype: float64"
      ]
     },
     "execution_count": 23,
     "metadata": {},
     "output_type": "execute_result"
    }
   ],
   "source": [
    "n = df.shape[0]\n",
    "\n",
    "gender_proportions = df.gender.value_counts() / n\n",
    "gender_proportions\n"
   ]
  },
  {
   "cell_type": "code",
   "execution_count": 24,
   "id": "742cc908",
   "metadata": {},
   "outputs": [
    {
     "data": {
      "text/plain": [
       "Manager             0.444444\n",
       "Technique Leader    0.203704\n",
       "Senior Staff        0.166667\n",
       "Staff               0.129630\n",
       "Senior Engineer     0.055556\n",
       "Name: title, dtype: float64"
      ]
     },
     "execution_count": 24,
     "metadata": {},
     "output_type": "execute_result"
    }
   ],
   "source": [
    "title_proportions = df.title.value_counts() / n\n",
    "title_proportions"
   ]
  },
  {
   "cell_type": "code",
   "execution_count": 11,
   "id": "b1867ae8",
   "metadata": {},
   "outputs": [
    {
     "data": {
      "text/plain": [
       "0.54"
      ]
     },
     "execution_count": 11,
     "metadata": {},
     "output_type": "execute_result"
    }
   ],
   "source": [
    ".54 * 1"
   ]
  },
  {
   "cell_type": "code",
   "execution_count": 25,
   "id": "db173b57",
   "metadata": {},
   "outputs": [
    {
     "data": {
      "text/html": [
       "<div>\n",
       "<style scoped>\n",
       "    .dataframe tbody tr th:only-of-type {\n",
       "        vertical-align: middle;\n",
       "    }\n",
       "\n",
       "    .dataframe tbody tr th {\n",
       "        vertical-align: top;\n",
       "    }\n",
       "\n",
       "    .dataframe thead th {\n",
       "        text-align: right;\n",
       "    }\n",
       "</style>\n",
       "<table border=\"1\" class=\"dataframe\">\n",
       "  <thead>\n",
       "    <tr style=\"text-align: right;\">\n",
       "      <th></th>\n",
       "      <th>F</th>\n",
       "      <th>M</th>\n",
       "    </tr>\n",
       "  </thead>\n",
       "  <tbody>\n",
       "    <tr>\n",
       "      <th>Manager</th>\n",
       "      <td>0.255144</td>\n",
       "      <td>0.189300</td>\n",
       "    </tr>\n",
       "    <tr>\n",
       "      <th>Senior Engineer</th>\n",
       "      <td>0.031893</td>\n",
       "      <td>0.023663</td>\n",
       "    </tr>\n",
       "    <tr>\n",
       "      <th>Senior Staff</th>\n",
       "      <td>0.095679</td>\n",
       "      <td>0.070988</td>\n",
       "    </tr>\n",
       "    <tr>\n",
       "      <th>Staff</th>\n",
       "      <td>0.074417</td>\n",
       "      <td>0.055213</td>\n",
       "    </tr>\n",
       "    <tr>\n",
       "      <th>Technique Leader</th>\n",
       "      <td>0.116941</td>\n",
       "      <td>0.086763</td>\n",
       "    </tr>\n",
       "  </tbody>\n",
       "</table>\n",
       "</div>"
      ],
      "text/plain": [
       "                         F         M\n",
       "Manager           0.255144  0.189300\n",
       "Senior Engineer   0.031893  0.023663\n",
       "Senior Staff      0.095679  0.070988\n",
       "Staff             0.074417  0.055213\n",
       "Technique Leader  0.116941  0.086763"
      ]
     },
     "execution_count": 25,
     "metadata": {},
     "output_type": "execute_result"
    }
   ],
   "source": [
    "expected = pd.DataFrame()\n",
    "\n",
    "for gender_group, g_prop in gender_proportions.iteritems():\n",
    "    for title_group, t_prop in title_proportions.iteritems():\n",
    "        expected.loc[title_group, gender_group] = t_prop * g_prop\n",
    "\n",
    "expected.sort_index(inplace=True)\n",
    "expected"
   ]
  },
  {
   "cell_type": "code",
   "execution_count": 26,
   "id": "2733ec51",
   "metadata": {},
   "outputs": [
    {
     "data": {
      "text/html": [
       "<div>\n",
       "<style scoped>\n",
       "    .dataframe tbody tr th:only-of-type {\n",
       "        vertical-align: middle;\n",
       "    }\n",
       "\n",
       "    .dataframe tbody tr th {\n",
       "        vertical-align: top;\n",
       "    }\n",
       "\n",
       "    .dataframe thead th {\n",
       "        text-align: right;\n",
       "    }\n",
       "</style>\n",
       "<table border=\"1\" class=\"dataframe\">\n",
       "  <thead>\n",
       "    <tr style=\"text-align: right;\">\n",
       "      <th></th>\n",
       "      <th>F</th>\n",
       "      <th>M</th>\n",
       "    </tr>\n",
       "  </thead>\n",
       "  <tbody>\n",
       "    <tr>\n",
       "      <th>Manager</th>\n",
       "      <td>13.777778</td>\n",
       "      <td>10.222222</td>\n",
       "    </tr>\n",
       "    <tr>\n",
       "      <th>Senior Engineer</th>\n",
       "      <td>1.722222</td>\n",
       "      <td>1.277778</td>\n",
       "    </tr>\n",
       "    <tr>\n",
       "      <th>Senior Staff</th>\n",
       "      <td>5.166667</td>\n",
       "      <td>3.833333</td>\n",
       "    </tr>\n",
       "    <tr>\n",
       "      <th>Staff</th>\n",
       "      <td>4.018519</td>\n",
       "      <td>2.981481</td>\n",
       "    </tr>\n",
       "    <tr>\n",
       "      <th>Technique Leader</th>\n",
       "      <td>6.314815</td>\n",
       "      <td>4.685185</td>\n",
       "    </tr>\n",
       "  </tbody>\n",
       "</table>\n",
       "</div>"
      ],
      "text/plain": [
       "                          F          M\n",
       "Manager           13.777778  10.222222\n",
       "Senior Engineer    1.722222   1.277778\n",
       "Senior Staff       5.166667   3.833333\n",
       "Staff              4.018519   2.981481\n",
       "Technique Leader   6.314815   4.685185"
      ]
     },
     "execution_count": 26,
     "metadata": {},
     "output_type": "execute_result"
    }
   ],
   "source": [
    "expected *= n\n",
    "expected\n"
   ]
  },
  {
   "cell_type": "code",
   "execution_count": 28,
   "id": "30cb524c",
   "metadata": {},
   "outputs": [
    {
     "data": {
      "text/html": [
       "<div>\n",
       "<style scoped>\n",
       "    .dataframe tbody tr th:only-of-type {\n",
       "        vertical-align: middle;\n",
       "    }\n",
       "\n",
       "    .dataframe tbody tr th {\n",
       "        vertical-align: top;\n",
       "    }\n",
       "\n",
       "    .dataframe thead th {\n",
       "        text-align: right;\n",
       "    }\n",
       "</style>\n",
       "<table border=\"1\" class=\"dataframe\">\n",
       "  <thead>\n",
       "    <tr style=\"text-align: right;\">\n",
       "      <th>gender</th>\n",
       "      <th>F</th>\n",
       "      <th>M</th>\n",
       "    </tr>\n",
       "    <tr>\n",
       "      <th>title</th>\n",
       "      <th></th>\n",
       "      <th></th>\n",
       "    </tr>\n",
       "  </thead>\n",
       "  <tbody>\n",
       "    <tr>\n",
       "      <th>Manager</th>\n",
       "      <td>13</td>\n",
       "      <td>11</td>\n",
       "    </tr>\n",
       "    <tr>\n",
       "      <th>Senior Engineer</th>\n",
       "      <td>2</td>\n",
       "      <td>1</td>\n",
       "    </tr>\n",
       "    <tr>\n",
       "      <th>Senior Staff</th>\n",
       "      <td>5</td>\n",
       "      <td>4</td>\n",
       "    </tr>\n",
       "    <tr>\n",
       "      <th>Staff</th>\n",
       "      <td>4</td>\n",
       "      <td>3</td>\n",
       "    </tr>\n",
       "    <tr>\n",
       "      <th>Technique Leader</th>\n",
       "      <td>7</td>\n",
       "      <td>4</td>\n",
       "    </tr>\n",
       "  </tbody>\n",
       "</table>\n",
       "</div>"
      ],
      "text/plain": [
       "gender             F   M\n",
       "title                   \n",
       "Manager           13  11\n",
       "Senior Engineer    2   1\n",
       "Senior Staff       5   4\n",
       "Staff              4   3\n",
       "Technique Leader   7   4"
      ]
     },
     "execution_count": 28,
     "metadata": {},
     "output_type": "execute_result"
    }
   ],
   "source": [
    "observed = pd.crosstab(df.title, df.gender)\n",
    "observed\n"
   ]
  },
  {
   "cell_type": "code",
   "execution_count": 29,
   "id": "00176900",
   "metadata": {},
   "outputs": [
    {
     "data": {
      "text/plain": [
       "0.3956485309921498"
      ]
     },
     "execution_count": 29,
     "metadata": {},
     "output_type": "execute_result"
    }
   ],
   "source": [
    "chi2 = ((observed - expected)**2 / expected).values.sum()\n",
    "chi2"
   ]
  },
  {
   "cell_type": "code",
   "execution_count": 30,
   "id": "5b977a4c",
   "metadata": {},
   "outputs": [],
   "source": [
    "nrows, ncols = observed.shape\n",
    "\n",
    "degrees_of_freedom = (nrows - 1) * (ncols - 1)\n"
   ]
  },
  {
   "cell_type": "code",
   "execution_count": 31,
   "id": "31398f10",
   "metadata": {},
   "outputs": [
    {
     "data": {
      "text/plain": [
       "0.9828316190216392"
      ]
     },
     "execution_count": 31,
     "metadata": {},
     "output_type": "execute_result"
    }
   ],
   "source": [
    "stats.chi2(degrees_of_freedom).sf(chi2)\n"
   ]
  },
  {
   "cell_type": "code",
   "execution_count": 32,
   "id": "0d9836bf",
   "metadata": {},
   "outputs": [
    {
     "name": "stdout",
     "output_type": "stream",
     "text": [
      "Observed\n",
      "gender             F   M\n",
      "title                   \n",
      "Manager           13  11\n",
      "Senior Engineer    2   1\n",
      "Senior Staff       5   4\n",
      "Staff              4   3\n",
      "Technique Leader   7   4\n",
      "---\n",
      "Expected\n",
      "                          F          M\n",
      "Manager           13.777778  10.222222\n",
      "Senior Engineer    1.722222   1.277778\n",
      "Senior Staff       5.166667   3.833333\n",
      "Staff              4.018519   2.981481\n",
      "Technique Leader   6.314815   4.685185\n",
      "---\n",
      "\n",
      "chi^2 = 0.3956\n",
      "p     = 0.9828\n"
     ]
    }
   ],
   "source": [
    "p = stats.chi2(degrees_of_freedom).sf(chi2)\n",
    "\n",
    "print('Observed')\n",
    "print(observed)\n",
    "print('---\\nExpected')\n",
    "print(expected)\n",
    "print('---\\n')\n",
    "print(f'chi^2 = {chi2:.4f}')\n",
    "print(f'p     = {p:.4f}')"
   ]
  },
  {
   "cell_type": "code",
   "execution_count": 34,
   "id": "68e1eea7",
   "metadata": {},
   "outputs": [],
   "source": [
    "a = 0.05"
   ]
  },
  {
   "cell_type": "code",
   "execution_count": 35,
   "id": "63a417b6",
   "metadata": {},
   "outputs": [
    {
     "name": "stdout",
     "output_type": "stream",
     "text": [
      "Fail to eject the null\n"
     ]
    }
   ],
   "source": [
    "# if p < a then we reject the null\n",
    "if p < a:\n",
    "    print(\"reject the null\")\n",
    "else:\n",
    "    print(\"Fail to eject the null\")"
   ]
  },
  {
   "cell_type": "code",
   "execution_count": 37,
   "id": "3cbdb0d7",
   "metadata": {},
   "outputs": [
    {
     "name": "stdout",
     "output_type": "stream",
     "text": [
      "Observed\n",
      "\n",
      "[[13 11]\n",
      " [ 2  1]\n",
      " [ 5  4]\n",
      " [ 4  3]\n",
      " [ 7  4]]\n",
      "---\n",
      "Expected\n",
      "\n",
      "[[13.77777778 10.22222222]\n",
      " [ 1.72222222  1.27777778]\n",
      " [ 5.16666667  3.83333333]\n",
      " [ 4.01851852  2.98148148]\n",
      " [ 6.31481481  4.68518519]]\n",
      "---\n",
      "\n",
      "chi^2 = 0.3956\n",
      "p     = 0.9828\n",
      "Fail to eject the null\n"
     ]
    }
   ],
   "source": [
    "chi2, p, degf, expected = stats.chi2_contingency(observed)\n",
    "\n",
    "print('Observed\\n')\n",
    "print(observed.values)\n",
    "print('---\\nExpected\\n')\n",
    "print(expected)\n",
    "print('---\\n')\n",
    "print(f'chi^2 = {chi2:.4f}')\n",
    "print(f'p     = {p:.4f}')\n",
    "if p < a:\n",
    "    print(\"reject the null\")\n",
    "else:\n",
    "    print(\"Fail to eject the null\")"
   ]
  },
  {
   "cell_type": "markdown",
   "id": "ec545a11",
   "metadata": {},
   "source": [
    "# Easy way"
   ]
  },
  {
   "cell_type": "code",
   "execution_count": 43,
   "id": "840a7584",
   "metadata": {},
   "outputs": [
    {
     "data": {
      "text/html": [
       "<div>\n",
       "<style scoped>\n",
       "    .dataframe tbody tr th:only-of-type {\n",
       "        vertical-align: middle;\n",
       "    }\n",
       "\n",
       "    .dataframe tbody tr th {\n",
       "        vertical-align: top;\n",
       "    }\n",
       "\n",
       "    .dataframe thead th {\n",
       "        text-align: right;\n",
       "    }\n",
       "</style>\n",
       "<table border=\"1\" class=\"dataframe\">\n",
       "  <thead>\n",
       "    <tr style=\"text-align: right;\">\n",
       "      <th>gender</th>\n",
       "      <th>F</th>\n",
       "      <th>M</th>\n",
       "    </tr>\n",
       "    <tr>\n",
       "      <th>title</th>\n",
       "      <th></th>\n",
       "      <th></th>\n",
       "    </tr>\n",
       "  </thead>\n",
       "  <tbody>\n",
       "    <tr>\n",
       "      <th>Manager</th>\n",
       "      <td>13</td>\n",
       "      <td>11</td>\n",
       "    </tr>\n",
       "    <tr>\n",
       "      <th>Senior Engineer</th>\n",
       "      <td>2</td>\n",
       "      <td>1</td>\n",
       "    </tr>\n",
       "    <tr>\n",
       "      <th>Senior Staff</th>\n",
       "      <td>5</td>\n",
       "      <td>4</td>\n",
       "    </tr>\n",
       "    <tr>\n",
       "      <th>Staff</th>\n",
       "      <td>4</td>\n",
       "      <td>3</td>\n",
       "    </tr>\n",
       "    <tr>\n",
       "      <th>Technique Leader</th>\n",
       "      <td>7</td>\n",
       "      <td>4</td>\n",
       "    </tr>\n",
       "  </tbody>\n",
       "</table>\n",
       "</div>"
      ],
      "text/plain": [
       "gender             F   M\n",
       "title                   \n",
       "Manager           13  11\n",
       "Senior Engineer    2   1\n",
       "Senior Staff       5   4\n",
       "Staff              4   3\n",
       "Technique Leader   7   4"
      ]
     },
     "execution_count": 43,
     "metadata": {},
     "output_type": "execute_result"
    }
   ],
   "source": [
    "observed = pd.crosstab(df.title, df.gender)\n",
    "observed"
   ]
  },
  {
   "cell_type": "code",
   "execution_count": 44,
   "id": "8ca5100a",
   "metadata": {},
   "outputs": [
    {
     "name": "stdout",
     "output_type": "stream",
     "text": [
      "Observed\n",
      "\n",
      "[[13 11]\n",
      " [ 2  1]\n",
      " [ 5  4]\n",
      " [ 4  3]\n",
      " [ 7  4]]\n",
      "---\n",
      "Expected\n",
      "\n",
      "[[13.77777778 10.22222222]\n",
      " [ 1.72222222  1.27777778]\n",
      " [ 5.16666667  3.83333333]\n",
      " [ 4.01851852  2.98148148]\n",
      " [ 6.31481481  4.68518519]]\n",
      "---\n",
      "\n",
      "chi^2 = 0.3956\n",
      "p     = 0.9828\n"
     ]
    }
   ],
   "source": [
    "chi2, p, degf, expected = stats.chi2_contingency(observed)\n",
    "\n",
    "print('Observed\\n')\n",
    "print(observed.values)\n",
    "print('---\\nExpected\\n')\n",
    "print(expected)\n",
    "print('---\\n')\n",
    "print(f'chi^2 = {chi2:.4f}')\n",
    "print(f'p     = {p:.4f}')"
   ]
  },
  {
   "cell_type": "code",
   "execution_count": 45,
   "id": "a76ad478",
   "metadata": {},
   "outputs": [
    {
     "name": "stdout",
     "output_type": "stream",
     "text": [
      "Fail to eject the null\n"
     ]
    }
   ],
   "source": [
    "a = 0.05\n",
    "\n",
    "if p < a:\n",
    "    print(\"reject the null\")\n",
    "else:\n",
    "    print(\"Fail to eject the null\")"
   ]
  },
  {
   "cell_type": "code",
   "execution_count": 48,
   "id": "9378ae85",
   "metadata": {},
   "outputs": [
    {
     "data": {
      "text/html": [
       "<div>\n",
       "<style scoped>\n",
       "    .dataframe tbody tr th:only-of-type {\n",
       "        vertical-align: middle;\n",
       "    }\n",
       "\n",
       "    .dataframe tbody tr th {\n",
       "        vertical-align: top;\n",
       "    }\n",
       "\n",
       "    .dataframe thead th {\n",
       "        text-align: right;\n",
       "    }\n",
       "</style>\n",
       "<table border=\"1\" class=\"dataframe\">\n",
       "  <thead>\n",
       "    <tr style=\"text-align: right;\">\n",
       "      <th></th>\n",
       "      <th>Codeup Student</th>\n",
       "      <th>Not a student</th>\n",
       "    </tr>\n",
       "  </thead>\n",
       "  <tbody>\n",
       "    <tr>\n",
       "      <th>Uses a Mac Book</th>\n",
       "      <td>49</td>\n",
       "      <td>20</td>\n",
       "    </tr>\n",
       "    <tr>\n",
       "      <th>Uses Other</th>\n",
       "      <td>1</td>\n",
       "      <td>30</td>\n",
       "    </tr>\n",
       "  </tbody>\n",
       "</table>\n",
       "</div>"
      ],
      "text/plain": [
       "                 Codeup Student  Not a student\n",
       "Uses a Mac Book              49             20\n",
       "Uses Other                    1             30"
      ]
     },
     "execution_count": 48,
     "metadata": {},
     "output_type": "execute_result"
    }
   ],
   "source": [
    "# Easy way\n",
    "\n",
    "index = ['Uses a Mac Book', 'Uses Other']\n",
    "columns = ['Codeup Student', 'Not a student']\n",
    "\n",
    "observed = pd.DataFrame([[49, 20], [1, 30]], index=index, columns=columns)\n",
    "n = observed.values.sum()\n",
    "\n",
    "observed"
   ]
  },
  {
   "cell_type": "code",
   "execution_count": 52,
   "id": "57dc8498",
   "metadata": {},
   "outputs": [
    {
     "name": "stdout",
     "output_type": "stream",
     "text": [
      "Observed\n",
      "\n",
      "[[49 20]\n",
      " [ 1 30]]\n",
      "---\n",
      "Expected\n",
      "\n",
      "[[0.345 0.345]\n",
      " [0.155 0.155]]\n",
      "---\n",
      "\n",
      "chi^2 = 36.6526\n",
      "p     = 0.0000\n"
     ]
    }
   ],
   "source": [
    "chi2, p, degf, expected = stats.chi2_contingency(observed)\n",
    "\n",
    "print('Observed\\n')\n",
    "print(observed.values)\n",
    "print('---\\nExpected\\n')\n",
    "print(expected/100)\n",
    "print('---\\n')\n",
    "print(f'chi^2 = {chi2:.4f}')\n",
    "print(f'p     = {p:.4f}')"
   ]
  },
  {
   "cell_type": "code",
   "execution_count": 53,
   "id": "09169415",
   "metadata": {},
   "outputs": [],
   "source": [
    "expected = pd.DataFrame([[.345, .345], [.155, .155]], index=index, columns=columns) * n\n"
   ]
  },
  {
   "cell_type": "code",
   "execution_count": 54,
   "id": "b92ed4c5",
   "metadata": {},
   "outputs": [
    {
     "name": "stdout",
     "output_type": "stream",
     "text": [
      "reject the null\n"
     ]
    }
   ],
   "source": [
    "a = 0.05\n",
    "\n",
    "if p < a:\n",
    "    print(\"reject the null\")\n",
    "else:\n",
    "    print(\"Fail to eject the null\")"
   ]
  },
  {
   "cell_type": "code",
   "execution_count": null,
   "id": "909bd3a6",
   "metadata": {},
   "outputs": [],
   "source": []
  }
 ],
 "metadata": {
  "kernelspec": {
   "display_name": "Python 3 (ipykernel)",
   "language": "python",
   "name": "python3"
  },
  "language_info": {
   "codemirror_mode": {
    "name": "ipython",
    "version": 3
   },
   "file_extension": ".py",
   "mimetype": "text/x-python",
   "name": "python",
   "nbconvert_exporter": "python",
   "pygments_lexer": "ipython3",
   "version": "3.9.7"
  }
 },
 "nbformat": 4,
 "nbformat_minor": 5
}
