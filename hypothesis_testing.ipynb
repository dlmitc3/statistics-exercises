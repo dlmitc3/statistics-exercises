{
 "cells": [
  {
   "cell_type": "code",
   "execution_count": 1,
   "id": "657e2532",
   "metadata": {},
   "outputs": [],
   "source": [
    "import matplotlib.pyplot as plt\n",
    "import numpy as np\n",
    "import pandas as pd\n",
    "from scipy import stats\n",
    "from scipy.stats import norm, binom\n",
    "from scipy.stats import poisson\n",
    "import seaborn as sns\n",
    "import env\n",
    "np.random.seed(123)\n"
   ]
  },
  {
   "cell_type": "raw",
   "id": "11e68f49",
   "metadata": {},
   "source": [
    "Exercises\n",
    "\n",
    "Do your work for this exercise in a jupyter notebook named hypothesis_testing.ipynb.\n",
    "\n",
    "For each of the following questions, formulate a null and alternative hypothesis (be as specific as you can be), then give an example of what a true positive, true negative, type I and type II errors would look like. \n",
    "\n",
    "Note that some of the questions are intentionally phrased in a vague way. It is your job to reword these as more precise questions that could be tested.\n",
    "\n",
    "- Has the network latency gone up since we switched internet service providers?\n",
    "\n",
    "Ho: The latency difference from service provider (A) to service providers (B) has not changed or decreased.\n",
    "\n",
    "Ha: Latency difference from service providers (A) to service providers (B) has changed and can impact gaming proformance.\n",
    "\n",
    "-True positive:\n",
    "\n",
    "-True negative:\n",
    "\n",
    "-Type I: Latency difference provided from Providers (A ) to      Provider (B) can impact gaming performance and determine winners and losers\n",
    "\n",
    "-Type II: Latency difference provided from Providers (A ) to Provider (B) can impact gaming performance and determine winners and losers\n",
    "\n",
    "\n",
    "\n",
    "\n",
    "- Is the website redesign any good?\n",
    "\n",
    "- Is our television ad driving more sales?"
   ]
  },
  {
   "cell_type": "raw",
   "id": "41e6b0a3",
   "metadata": {},
   "source": [
    "Is the website redesign any good?\n",
    "\n",
    "Ho: There has been no daily increase in website visites since deploying the redesigned website\n",
    "\n",
    "Ha: There has been an increase in daily website visites since deploying the redesigned website\n",
    "\n",
    "-True positive:I determined that the number of daily website visits has increased\n",
    "\n",
    "-True negative: I determined that the number of daily website visits has decreased\n",
    "\n",
    "-Type I: I determined that the number of daily website visits has increased when it has actually decreased\n",
    "\n",
    "-Type II: I determined that the number of daily website visits has decreased when it has actually increased"
   ]
  },
  {
   "cell_type": "raw",
   "id": "1e1a0121",
   "metadata": {},
   "source": [
    "Is our television ad driving more sales?\n",
    "\n",
    "Ho: Sales volume is not greater with new ad\n",
    "\n",
    "Ha: Sales volume is greater with new ad\n",
    "\n",
    "-True positive: I have determined that the sales value has increase sales\n",
    "\n",
    "-True negative: I have determined that sales value has decreased or stayed the same\n",
    "\n",
    "-Type I: I determined that the ad has increase sales when it has decreased or stayed the same\n",
    "\n",
    "-Type II: I have determined that the ad decreased sales when it has increase or stayed the same."
   ]
  },
  {
   "cell_type": "code",
   "execution_count": null,
   "id": "877f40e5",
   "metadata": {},
   "outputs": [],
   "source": []
  },
  {
   "cell_type": "code",
   "execution_count": null,
   "id": "fd540386",
   "metadata": {},
   "outputs": [],
   "source": []
  },
  {
   "cell_type": "code",
   "execution_count": null,
   "id": "40348e88",
   "metadata": {},
   "outputs": [],
   "source": []
  },
  {
   "cell_type": "code",
   "execution_count": null,
   "id": "de6223c7",
   "metadata": {},
   "outputs": [],
   "source": []
  },
  {
   "cell_type": "raw",
   "id": "48bdb42b",
   "metadata": {},
   "source": [
    "Ace Realty wants to determine whether the average time it takes to sell homes is different for its two offices. \n",
    "\n",
    "- A sample of 40 sales from office #1 revealed a mean of 90 days and a standard deviation of 15 days. \n",
    "\n",
    "- A sample of 50 sales from office #2 revealed a mean of 100 days and a standard deviation of 20 days. \n",
    "\n",
    "- Use a .05 level of significance."
   ]
  },
  {
   "cell_type": "raw",
   "id": "a98b11aa",
   "metadata": {},
   "source": [
    "scipy.stats.ttest_ind(a, b, axis=0, equal_var=True, nan_policy='propagate', permutations=None, random_state=None, alternative='two-sided', trim=0)"
   ]
  },
  {
   "cell_type": "raw",
   "id": "b07a6cec",
   "metadata": {},
   "source": [
    "we can use scipy.stats.ttest_ind_from _stats"
   ]
  },
  {
   "cell_type": "code",
   "execution_count": 2,
   "id": "e6075576",
   "metadata": {},
   "outputs": [],
   "source": [
    "import scipy"
   ]
  },
  {
   "cell_type": "code",
   "execution_count": 3,
   "id": "581280d1",
   "metadata": {},
   "outputs": [],
   "source": [
    "alpha = 0.05"
   ]
  },
  {
   "cell_type": "code",
   "execution_count": 4,
   "id": "bdf8cd0a",
   "metadata": {},
   "outputs": [
    {
     "ename": "AttributeError",
     "evalue": "'Line2D' object has no property 'lable'",
     "output_type": "error",
     "traceback": [
      "\u001b[0;31m---------------------------------------------------------------------------\u001b[0m",
      "\u001b[0;31mAttributeError\u001b[0m                            Traceback (most recent call last)",
      "\u001b[0;32m/var/folders/vb/2f5pphz943qdprdg5zvhqsbm0000gp/T/ipykernel_50848/3071823563.py\u001b[0m in \u001b[0;36m<module>\u001b[0;34m\u001b[0m\n\u001b[1;32m      5\u001b[0m \u001b[0;34m\u001b[0m\u001b[0m\n\u001b[1;32m      6\u001b[0m \u001b[0;34m\u001b[0m\u001b[0m\n\u001b[0;32m----> 7\u001b[0;31m \u001b[0mplt\u001b[0m\u001b[0;34m.\u001b[0m\u001b[0mplot\u001b[0m\u001b[0;34m(\u001b[0m\u001b[0mx\u001b[0m\u001b[0;34m,\u001b[0m \u001b[0my1\u001b[0m\u001b[0;34m,\u001b[0m \u001b[0mlable\u001b[0m \u001b[0;34m=\u001b[0m \u001b[0;34m\"office 1\"\u001b[0m\u001b[0;34m)\u001b[0m\u001b[0;34m\u001b[0m\u001b[0;34m\u001b[0m\u001b[0m\n\u001b[0m\u001b[1;32m      8\u001b[0m \u001b[0mplt\u001b[0m\u001b[0;34m.\u001b[0m\u001b[0mplot\u001b[0m\u001b[0;34m(\u001b[0m\u001b[0mx\u001b[0m\u001b[0;34m,\u001b[0m \u001b[0my2\u001b[0m\u001b[0;34m,\u001b[0m \u001b[0mlable\u001b[0m \u001b[0;34m=\u001b[0m \u001b[0;34m\"office 2\"\u001b[0m\u001b[0;34m)\u001b[0m\u001b[0;34m\u001b[0m\u001b[0;34m\u001b[0m\u001b[0m\n\u001b[1;32m      9\u001b[0m \u001b[0;34m\u001b[0m\u001b[0m\n",
      "\u001b[0;32m/opt/homebrew/anaconda3/lib/python3.9/site-packages/matplotlib/pyplot.py\u001b[0m in \u001b[0;36mplot\u001b[0;34m(scalex, scaley, data, *args, **kwargs)\u001b[0m\n\u001b[1;32m   3017\u001b[0m \u001b[0;34m@\u001b[0m\u001b[0m_copy_docstring_and_deprecators\u001b[0m\u001b[0;34m(\u001b[0m\u001b[0mAxes\u001b[0m\u001b[0;34m.\u001b[0m\u001b[0mplot\u001b[0m\u001b[0;34m)\u001b[0m\u001b[0;34m\u001b[0m\u001b[0;34m\u001b[0m\u001b[0m\n\u001b[1;32m   3018\u001b[0m \u001b[0;32mdef\u001b[0m \u001b[0mplot\u001b[0m\u001b[0;34m(\u001b[0m\u001b[0;34m*\u001b[0m\u001b[0margs\u001b[0m\u001b[0;34m,\u001b[0m \u001b[0mscalex\u001b[0m\u001b[0;34m=\u001b[0m\u001b[0;32mTrue\u001b[0m\u001b[0;34m,\u001b[0m \u001b[0mscaley\u001b[0m\u001b[0;34m=\u001b[0m\u001b[0;32mTrue\u001b[0m\u001b[0;34m,\u001b[0m \u001b[0mdata\u001b[0m\u001b[0;34m=\u001b[0m\u001b[0;32mNone\u001b[0m\u001b[0;34m,\u001b[0m \u001b[0;34m**\u001b[0m\u001b[0mkwargs\u001b[0m\u001b[0;34m)\u001b[0m\u001b[0;34m:\u001b[0m\u001b[0;34m\u001b[0m\u001b[0;34m\u001b[0m\u001b[0m\n\u001b[0;32m-> 3019\u001b[0;31m     return gca().plot(\n\u001b[0m\u001b[1;32m   3020\u001b[0m         \u001b[0;34m*\u001b[0m\u001b[0margs\u001b[0m\u001b[0;34m,\u001b[0m \u001b[0mscalex\u001b[0m\u001b[0;34m=\u001b[0m\u001b[0mscalex\u001b[0m\u001b[0;34m,\u001b[0m \u001b[0mscaley\u001b[0m\u001b[0;34m=\u001b[0m\u001b[0mscaley\u001b[0m\u001b[0;34m,\u001b[0m\u001b[0;34m\u001b[0m\u001b[0;34m\u001b[0m\u001b[0m\n\u001b[1;32m   3021\u001b[0m         **({\"data\": data} if data is not None else {}), **kwargs)\n",
      "\u001b[0;32m/opt/homebrew/anaconda3/lib/python3.9/site-packages/matplotlib/axes/_axes.py\u001b[0m in \u001b[0;36mplot\u001b[0;34m(self, scalex, scaley, data, *args, **kwargs)\u001b[0m\n\u001b[1;32m   1603\u001b[0m         \"\"\"\n\u001b[1;32m   1604\u001b[0m         \u001b[0mkwargs\u001b[0m \u001b[0;34m=\u001b[0m \u001b[0mcbook\u001b[0m\u001b[0;34m.\u001b[0m\u001b[0mnormalize_kwargs\u001b[0m\u001b[0;34m(\u001b[0m\u001b[0mkwargs\u001b[0m\u001b[0;34m,\u001b[0m \u001b[0mmlines\u001b[0m\u001b[0;34m.\u001b[0m\u001b[0mLine2D\u001b[0m\u001b[0;34m)\u001b[0m\u001b[0;34m\u001b[0m\u001b[0;34m\u001b[0m\u001b[0m\n\u001b[0;32m-> 1605\u001b[0;31m         \u001b[0mlines\u001b[0m \u001b[0;34m=\u001b[0m \u001b[0;34m[\u001b[0m\u001b[0;34m*\u001b[0m\u001b[0mself\u001b[0m\u001b[0;34m.\u001b[0m\u001b[0m_get_lines\u001b[0m\u001b[0;34m(\u001b[0m\u001b[0;34m*\u001b[0m\u001b[0margs\u001b[0m\u001b[0;34m,\u001b[0m \u001b[0mdata\u001b[0m\u001b[0;34m=\u001b[0m\u001b[0mdata\u001b[0m\u001b[0;34m,\u001b[0m \u001b[0;34m**\u001b[0m\u001b[0mkwargs\u001b[0m\u001b[0;34m)\u001b[0m\u001b[0;34m]\u001b[0m\u001b[0;34m\u001b[0m\u001b[0;34m\u001b[0m\u001b[0m\n\u001b[0m\u001b[1;32m   1606\u001b[0m         \u001b[0;32mfor\u001b[0m \u001b[0mline\u001b[0m \u001b[0;32min\u001b[0m \u001b[0mlines\u001b[0m\u001b[0;34m:\u001b[0m\u001b[0;34m\u001b[0m\u001b[0;34m\u001b[0m\u001b[0m\n\u001b[1;32m   1607\u001b[0m             \u001b[0mself\u001b[0m\u001b[0;34m.\u001b[0m\u001b[0madd_line\u001b[0m\u001b[0;34m(\u001b[0m\u001b[0mline\u001b[0m\u001b[0;34m)\u001b[0m\u001b[0;34m\u001b[0m\u001b[0;34m\u001b[0m\u001b[0m\n",
      "\u001b[0;32m/opt/homebrew/anaconda3/lib/python3.9/site-packages/matplotlib/axes/_base.py\u001b[0m in \u001b[0;36m__call__\u001b[0;34m(self, data, *args, **kwargs)\u001b[0m\n\u001b[1;32m    313\u001b[0m                 \u001b[0mthis\u001b[0m \u001b[0;34m+=\u001b[0m \u001b[0margs\u001b[0m\u001b[0;34m[\u001b[0m\u001b[0;36m0\u001b[0m\u001b[0;34m]\u001b[0m\u001b[0;34m,\u001b[0m\u001b[0;34m\u001b[0m\u001b[0;34m\u001b[0m\u001b[0m\n\u001b[1;32m    314\u001b[0m                 \u001b[0margs\u001b[0m \u001b[0;34m=\u001b[0m \u001b[0margs\u001b[0m\u001b[0;34m[\u001b[0m\u001b[0;36m1\u001b[0m\u001b[0;34m:\u001b[0m\u001b[0;34m]\u001b[0m\u001b[0;34m\u001b[0m\u001b[0;34m\u001b[0m\u001b[0m\n\u001b[0;32m--> 315\u001b[0;31m             \u001b[0;32myield\u001b[0m \u001b[0;32mfrom\u001b[0m \u001b[0mself\u001b[0m\u001b[0;34m.\u001b[0m\u001b[0m_plot_args\u001b[0m\u001b[0;34m(\u001b[0m\u001b[0mthis\u001b[0m\u001b[0;34m,\u001b[0m \u001b[0mkwargs\u001b[0m\u001b[0;34m)\u001b[0m\u001b[0;34m\u001b[0m\u001b[0;34m\u001b[0m\u001b[0m\n\u001b[0m\u001b[1;32m    316\u001b[0m \u001b[0;34m\u001b[0m\u001b[0m\n\u001b[1;32m    317\u001b[0m     \u001b[0;32mdef\u001b[0m \u001b[0mget_next_color\u001b[0m\u001b[0;34m(\u001b[0m\u001b[0mself\u001b[0m\u001b[0;34m)\u001b[0m\u001b[0;34m:\u001b[0m\u001b[0;34m\u001b[0m\u001b[0;34m\u001b[0m\u001b[0m\n",
      "\u001b[0;32m/opt/homebrew/anaconda3/lib/python3.9/site-packages/matplotlib/axes/_base.py\u001b[0m in \u001b[0;36m_plot_args\u001b[0;34m(self, tup, kwargs, return_kwargs)\u001b[0m\n\u001b[1;32m    537\u001b[0m             \u001b[0;32mreturn\u001b[0m \u001b[0mlist\u001b[0m\u001b[0;34m(\u001b[0m\u001b[0mresult\u001b[0m\u001b[0;34m)\u001b[0m\u001b[0;34m\u001b[0m\u001b[0;34m\u001b[0m\u001b[0m\n\u001b[1;32m    538\u001b[0m         \u001b[0;32melse\u001b[0m\u001b[0;34m:\u001b[0m\u001b[0;34m\u001b[0m\u001b[0;34m\u001b[0m\u001b[0m\n\u001b[0;32m--> 539\u001b[0;31m             \u001b[0;32mreturn\u001b[0m \u001b[0;34m[\u001b[0m\u001b[0ml\u001b[0m\u001b[0;34m[\u001b[0m\u001b[0;36m0\u001b[0m\u001b[0;34m]\u001b[0m \u001b[0;32mfor\u001b[0m \u001b[0ml\u001b[0m \u001b[0;32min\u001b[0m \u001b[0mresult\u001b[0m\u001b[0;34m]\u001b[0m\u001b[0;34m\u001b[0m\u001b[0;34m\u001b[0m\u001b[0m\n\u001b[0m\u001b[1;32m    540\u001b[0m \u001b[0;34m\u001b[0m\u001b[0m\n\u001b[1;32m    541\u001b[0m \u001b[0;34m\u001b[0m\u001b[0m\n",
      "\u001b[0;32m/opt/homebrew/anaconda3/lib/python3.9/site-packages/matplotlib/axes/_base.py\u001b[0m in \u001b[0;36m<listcomp>\u001b[0;34m(.0)\u001b[0m\n\u001b[1;32m    537\u001b[0m             \u001b[0;32mreturn\u001b[0m \u001b[0mlist\u001b[0m\u001b[0;34m(\u001b[0m\u001b[0mresult\u001b[0m\u001b[0;34m)\u001b[0m\u001b[0;34m\u001b[0m\u001b[0;34m\u001b[0m\u001b[0m\n\u001b[1;32m    538\u001b[0m         \u001b[0;32melse\u001b[0m\u001b[0;34m:\u001b[0m\u001b[0;34m\u001b[0m\u001b[0;34m\u001b[0m\u001b[0m\n\u001b[0;32m--> 539\u001b[0;31m             \u001b[0;32mreturn\u001b[0m \u001b[0;34m[\u001b[0m\u001b[0ml\u001b[0m\u001b[0;34m[\u001b[0m\u001b[0;36m0\u001b[0m\u001b[0;34m]\u001b[0m \u001b[0;32mfor\u001b[0m \u001b[0ml\u001b[0m \u001b[0;32min\u001b[0m \u001b[0mresult\u001b[0m\u001b[0;34m]\u001b[0m\u001b[0;34m\u001b[0m\u001b[0;34m\u001b[0m\u001b[0m\n\u001b[0m\u001b[1;32m    540\u001b[0m \u001b[0;34m\u001b[0m\u001b[0m\n\u001b[1;32m    541\u001b[0m \u001b[0;34m\u001b[0m\u001b[0m\n",
      "\u001b[0;32m/opt/homebrew/anaconda3/lib/python3.9/site-packages/matplotlib/axes/_base.py\u001b[0m in \u001b[0;36m<genexpr>\u001b[0;34m(.0)\u001b[0m\n\u001b[1;32m    530\u001b[0m             \u001b[0mlabels\u001b[0m \u001b[0;34m=\u001b[0m \u001b[0;34m[\u001b[0m\u001b[0mlabel\u001b[0m\u001b[0;34m]\u001b[0m \u001b[0;34m*\u001b[0m \u001b[0mn_datasets\u001b[0m\u001b[0;34m\u001b[0m\u001b[0;34m\u001b[0m\u001b[0m\n\u001b[1;32m    531\u001b[0m \u001b[0;34m\u001b[0m\u001b[0m\n\u001b[0;32m--> 532\u001b[0;31m         result = (make_artist(x[:, j % ncx], y[:, j % ncy], kw,\n\u001b[0m\u001b[1;32m    533\u001b[0m                               {**kwargs, 'label': label})\n\u001b[1;32m    534\u001b[0m                   for j, label in enumerate(labels))\n",
      "\u001b[0;32m/opt/homebrew/anaconda3/lib/python3.9/site-packages/matplotlib/axes/_base.py\u001b[0m in \u001b[0;36m_makeline\u001b[0;34m(self, x, y, kw, kwargs)\u001b[0m\n\u001b[1;32m    352\u001b[0m         \u001b[0mdefault_dict\u001b[0m \u001b[0;34m=\u001b[0m \u001b[0mself\u001b[0m\u001b[0;34m.\u001b[0m\u001b[0m_getdefaults\u001b[0m\u001b[0;34m(\u001b[0m\u001b[0mset\u001b[0m\u001b[0;34m(\u001b[0m\u001b[0;34m)\u001b[0m\u001b[0;34m,\u001b[0m \u001b[0mkw\u001b[0m\u001b[0;34m)\u001b[0m\u001b[0;34m\u001b[0m\u001b[0;34m\u001b[0m\u001b[0m\n\u001b[1;32m    353\u001b[0m         \u001b[0mself\u001b[0m\u001b[0;34m.\u001b[0m\u001b[0m_setdefaults\u001b[0m\u001b[0;34m(\u001b[0m\u001b[0mdefault_dict\u001b[0m\u001b[0;34m,\u001b[0m \u001b[0mkw\u001b[0m\u001b[0;34m)\u001b[0m\u001b[0;34m\u001b[0m\u001b[0;34m\u001b[0m\u001b[0m\n\u001b[0;32m--> 354\u001b[0;31m         \u001b[0mseg\u001b[0m \u001b[0;34m=\u001b[0m \u001b[0mmlines\u001b[0m\u001b[0;34m.\u001b[0m\u001b[0mLine2D\u001b[0m\u001b[0;34m(\u001b[0m\u001b[0mx\u001b[0m\u001b[0;34m,\u001b[0m \u001b[0my\u001b[0m\u001b[0;34m,\u001b[0m \u001b[0;34m**\u001b[0m\u001b[0mkw\u001b[0m\u001b[0;34m)\u001b[0m\u001b[0;34m\u001b[0m\u001b[0;34m\u001b[0m\u001b[0m\n\u001b[0m\u001b[1;32m    355\u001b[0m         \u001b[0;32mreturn\u001b[0m \u001b[0mseg\u001b[0m\u001b[0;34m,\u001b[0m \u001b[0mkw\u001b[0m\u001b[0;34m\u001b[0m\u001b[0;34m\u001b[0m\u001b[0m\n\u001b[1;32m    356\u001b[0m \u001b[0;34m\u001b[0m\u001b[0m\n",
      "\u001b[0;32m/opt/homebrew/anaconda3/lib/python3.9/site-packages/matplotlib/lines.py\u001b[0m in \u001b[0;36m__init__\u001b[0;34m(self, xdata, ydata, linewidth, linestyle, color, marker, markersize, markeredgewidth, markeredgecolor, markerfacecolor, markerfacecoloralt, fillstyle, antialiased, dash_capstyle, solid_capstyle, dash_joinstyle, solid_joinstyle, pickradius, drawstyle, markevery, **kwargs)\u001b[0m\n\u001b[1;32m    395\u001b[0m         \u001b[0;31m# update kwargs before updating data to give the caller a\u001b[0m\u001b[0;34m\u001b[0m\u001b[0;34m\u001b[0m\u001b[0m\n\u001b[1;32m    396\u001b[0m         \u001b[0;31m# chance to init axes (and hence unit support)\u001b[0m\u001b[0;34m\u001b[0m\u001b[0;34m\u001b[0m\u001b[0m\n\u001b[0;32m--> 397\u001b[0;31m         \u001b[0mself\u001b[0m\u001b[0;34m.\u001b[0m\u001b[0mupdate\u001b[0m\u001b[0;34m(\u001b[0m\u001b[0mkwargs\u001b[0m\u001b[0;34m)\u001b[0m\u001b[0;34m\u001b[0m\u001b[0;34m\u001b[0m\u001b[0m\n\u001b[0m\u001b[1;32m    398\u001b[0m         \u001b[0mself\u001b[0m\u001b[0;34m.\u001b[0m\u001b[0mpickradius\u001b[0m \u001b[0;34m=\u001b[0m \u001b[0mpickradius\u001b[0m\u001b[0;34m\u001b[0m\u001b[0;34m\u001b[0m\u001b[0m\n\u001b[1;32m    399\u001b[0m         \u001b[0mself\u001b[0m\u001b[0;34m.\u001b[0m\u001b[0mind_offset\u001b[0m \u001b[0;34m=\u001b[0m \u001b[0;36m0\u001b[0m\u001b[0;34m\u001b[0m\u001b[0;34m\u001b[0m\u001b[0m\n",
      "\u001b[0;32m/opt/homebrew/anaconda3/lib/python3.9/site-packages/matplotlib/artist.py\u001b[0m in \u001b[0;36mupdate\u001b[0;34m(self, props)\u001b[0m\n\u001b[1;32m   1060\u001b[0m                     \u001b[0mfunc\u001b[0m \u001b[0;34m=\u001b[0m \u001b[0mgetattr\u001b[0m\u001b[0;34m(\u001b[0m\u001b[0mself\u001b[0m\u001b[0;34m,\u001b[0m \u001b[0;34mf\"set_{k}\"\u001b[0m\u001b[0;34m,\u001b[0m \u001b[0;32mNone\u001b[0m\u001b[0;34m)\u001b[0m\u001b[0;34m\u001b[0m\u001b[0;34m\u001b[0m\u001b[0m\n\u001b[1;32m   1061\u001b[0m                     \u001b[0;32mif\u001b[0m \u001b[0;32mnot\u001b[0m \u001b[0mcallable\u001b[0m\u001b[0;34m(\u001b[0m\u001b[0mfunc\u001b[0m\u001b[0;34m)\u001b[0m\u001b[0;34m:\u001b[0m\u001b[0;34m\u001b[0m\u001b[0;34m\u001b[0m\u001b[0m\n\u001b[0;32m-> 1062\u001b[0;31m                         raise AttributeError(f\"{type(self).__name__!r} object \"\n\u001b[0m\u001b[1;32m   1063\u001b[0m                                              f\"has no property {k!r}\")\n\u001b[1;32m   1064\u001b[0m                     \u001b[0mret\u001b[0m\u001b[0;34m.\u001b[0m\u001b[0mappend\u001b[0m\u001b[0;34m(\u001b[0m\u001b[0mfunc\u001b[0m\u001b[0;34m(\u001b[0m\u001b[0mv\u001b[0m\u001b[0;34m)\u001b[0m\u001b[0;34m)\u001b[0m\u001b[0;34m\u001b[0m\u001b[0;34m\u001b[0m\u001b[0m\n",
      "\u001b[0;31mAttributeError\u001b[0m: 'Line2D' object has no property 'lable'"
     ]
    },
    {
     "data": {
      "image/png": "[encoded data removed]",
      "text/plain": [
       "<Figure size 432x288 with 1 Axes>"
      ]
     },
     "metadata": {
      "needs_background": "light"
     },
     "output_type": "display_data"
    }
   ],
   "source": [
    "x = np.arange(50, 150)\n",
    "\n",
    "y1 = stats.norm(90,15).pdf(x)\n",
    "y2 = stats.norm(100, 20).pdf(x)\n",
    "\n",
    "\n",
    "plt.plot(x, y1, lable = \"office 1\")\n",
    "plt.plot(x, y2, lable = \"office 2\")\n",
    "\n",
    "plt.legend()"
   ]
  },
  {
   "cell_type": "code",
   "execution_count": null,
   "id": "bc55d3cc",
   "metadata": {},
   "outputs": [],
   "source": [
    "# sample 1\n",
    "mean1 = 45\n",
    "sdev1 = 1.9\n",
    "ssize1 = 1115\n",
    "\n",
    "#sample 2\n",
    "mean2 = 49\n",
    "sdev2 = 1.9\n",
    "ssize2 = 1005"
   ]
  },
  {
   "cell_type": "code",
   "execution_count": null,
   "id": "f7e3fa99",
   "metadata": {},
   "outputs": [],
   "source": [
    "t, p = scipy.stats.ttest_ind_from_stats(mean1, sdev1, ssize1, mean2, sdev2, ssize2, equal_var=True )"
   ]
  },
  {
   "cell_type": "code",
   "execution_count": null,
   "id": "252e4940",
   "metadata": {},
   "outputs": [],
   "source": [
    "t, p "
   ]
  },
  {
   "cell_type": "code",
   "execution_count": null,
   "id": "6bf296d1",
   "metadata": {},
   "outputs": [],
   "source": [
    "# sample 1\n",
    "mean1n = 90\n",
    "sdev1n = 15\n",
    "ssize1n = 40\n",
    "\n",
    "#sample 2\n",
    "mean2n = 100\n",
    "sdev2n = 20\n",
    "ssize2n = 50"
   ]
  },
  {
   "cell_type": "code",
   "execution_count": null,
   "id": "0e399d0f",
   "metadata": {},
   "outputs": [],
   "source": [
    "t, p = scipy.stats.ttest_ind_from_stats(mean1n, sdev1n, ssize1n, mean2n, sdev2n, ssize2n, equal_var=False )\n",
    "\n"
   ]
  },
  {
   "cell_type": "code",
   "execution_count": null,
   "id": "1b161ecd",
   "metadata": {},
   "outputs": [],
   "source": [
    "t"
   ]
  },
  {
   "cell_type": "code",
   "execution_count": null,
   "id": "f6aae0f8",
   "metadata": {},
   "outputs": [],
   "source": [
    "p"
   ]
  },
  {
   "cell_type": "raw",
   "id": "f1b095d5",
   "metadata": {},
   "source": [
    "#Load the mpg dataset and use it to answer the following questions:\n",
    "\n",
    "-Is there a difference in fuel-efficiency in cars from 2008 vs 1999?\n",
    "-Are compact cars more fuel-efficient than the average car?\n",
    "-Do manual cars get better gas mileage than automatic cars?"
   ]
  },
  {
   "cell_type": "code",
   "execution_count": null,
   "id": "343e00cc",
   "metadata": {},
   "outputs": [],
   "source": [
    "from pydataset import data\n",
    "mpg = data('mpg')"
   ]
  },
  {
   "cell_type": "code",
   "execution_count": null,
   "id": "d5777a86",
   "metadata": {},
   "outputs": [],
   "source": [
    "# Is there a difference in fuel-efficiency in cars from 2008 vs 1999?\n",
    "\n",
    "mpg.year.unique()\n"
   ]
  },
  {
   "cell_type": "code",
   "execution_count": null,
   "id": "15673113",
   "metadata": {
    "scrolled": true
   },
   "outputs": [],
   "source": [
    "mpg.year.hist()\n"
   ]
  },
  {
   "cell_type": "code",
   "execution_count": null,
   "id": "ecfcde3e",
   "metadata": {},
   "outputs": [],
   "source": [
    "mpg"
   ]
  },
  {
   "cell_type": "code",
   "execution_count": null,
   "id": "c6b8b6e5",
   "metadata": {},
   "outputs": [],
   "source": [
    "mpg = mpg.rename(columns={'cty': 'city'})\n",
    "\n",
    "mpg = mpg.rename(columns={'hwy': 'highway'})\n",
    "\n",
    "mpg = mpg.rename(columns={'cyl': 'cylinder'})"
   ]
  },
  {
   "cell_type": "code",
   "execution_count": null,
   "id": "430b4ec0",
   "metadata": {},
   "outputs": [],
   "source": [
    "mpg"
   ]
  },
  {
   "cell_type": "code",
   "execution_count": null,
   "id": "7959416d",
   "metadata": {},
   "outputs": [],
   "source": [
    "mpg['mileage_difference'] = mpg.city - mpg.highway\n",
    "\n",
    "mpg"
   ]
  },
  {
   "cell_type": "code",
   "execution_count": null,
   "id": "566e857b",
   "metadata": {
    "scrolled": true
   },
   "outputs": [],
   "source": [
    "mpg.sort_values('mileage_difference')"
   ]
  },
  {
   "cell_type": "code",
   "execution_count": null,
   "id": "c8c27075",
   "metadata": {},
   "outputs": [],
   "source": [
    "mpg['average_mileage'] = (mpg['highway'] + mpg['city'])/2"
   ]
  },
  {
   "cell_type": "code",
   "execution_count": null,
   "id": "377c41fc",
   "metadata": {},
   "outputs": [],
   "source": [
    "mpg = mpg[~mpg['mileage_difference'].isna()]\n"
   ]
  },
  {
   "cell_type": "code",
   "execution_count": null,
   "id": "f2686b1b",
   "metadata": {},
   "outputs": [],
   "source": [
    "mpg"
   ]
  },
  {
   "cell_type": "code",
   "execution_count": null,
   "id": "83913df5",
   "metadata": {},
   "outputs": [],
   "source": [
    "mpg.average_mileage.mean()"
   ]
  },
  {
   "cell_type": "code",
   "execution_count": null,
   "id": "b0106f29",
   "metadata": {},
   "outputs": [],
   "source": [
    "mpg.info()"
   ]
  },
  {
   "cell_type": "code",
   "execution_count": null,
   "id": "5a0c0bc8",
   "metadata": {},
   "outputs": [],
   "source": [
    "mpg.value_counts('year')"
   ]
  },
  {
   "cell_type": "code",
   "execution_count": null,
   "id": "94047d22",
   "metadata": {},
   "outputs": [],
   "source": [
    "fuel_2008 = mpg[mpg.year == 2008].average_mileage"
   ]
  },
  {
   "cell_type": "code",
   "execution_count": null,
   "id": "8fdb7253",
   "metadata": {},
   "outputs": [],
   "source": [
    "fuel_1999 = mpg[mpg.year == 1999].average_mileage"
   ]
  },
  {
   "cell_type": "code",
   "execution_count": null,
   "id": "c14b346c",
   "metadata": {},
   "outputs": [],
   "source": [
    "fuel_2008.var()"
   ]
  },
  {
   "cell_type": "code",
   "execution_count": null,
   "id": "2c7b792b",
   "metadata": {},
   "outputs": [],
   "source": [
    "fuel_2008.hist()"
   ]
  },
  {
   "cell_type": "code",
   "execution_count": null,
   "id": "ac95e239",
   "metadata": {},
   "outputs": [],
   "source": [
    "fuel_1999.var(), fuel_2008.var()"
   ]
  },
  {
   "cell_type": "code",
   "execution_count": null,
   "id": "6f1c0cdc",
   "metadata": {},
   "outputs": [],
   "source": [
    "fuel_1999.hist()"
   ]
  },
  {
   "cell_type": "code",
   "execution_count": null,
   "id": "7ac8b8d1",
   "metadata": {},
   "outputs": [],
   "source": [
    "stat, pval = stats.levene(fuel_2008, fuel_1999)"
   ]
  },
  {
   "cell_type": "code",
   "execution_count": null,
   "id": "00c4cfca",
   "metadata": {},
   "outputs": [],
   "source": [
    "if pval < 0.05:\n",
    "    print('we can reject the H0 that the two samples have equal variance')\n",
    "else:\n",
    "    print('failed to reject null')"
   ]
  },
  {
   "cell_type": "code",
   "execution_count": null,
   "id": "1f8a8b1f",
   "metadata": {},
   "outputs": [],
   "source": [
    "pval"
   ]
  },
  {
   "cell_type": "code",
   "execution_count": null,
   "id": "6baf9c11",
   "metadata": {},
   "outputs": [],
   "source": [
    "alpha = 0.05"
   ]
  },
  {
   "cell_type": "code",
   "execution_count": null,
   "id": "33b546c9",
   "metadata": {},
   "outputs": [],
   "source": [
    "t, p = stats.ttest_ind(fuel_2008, fuel_1999, equal_var=True)\n",
    "\n",
    "t, p, alpha\n",
    "\n"
   ]
  },
  {
   "cell_type": "code",
   "execution_count": null,
   "id": "dc33c9cb",
   "metadata": {},
   "outputs": [],
   "source": [
    "fuel_2008.mean(), fuel_1999.mean()"
   ]
  },
  {
   "cell_type": "code",
   "execution_count": null,
   "id": "15984425",
   "metadata": {},
   "outputs": [],
   "source": [
    "plt.hist[fuel_2008, fuel_1999], lable[]"
   ]
  },
  {
   "cell_type": "code",
   "execution_count": null,
   "id": "42b32ad9",
   "metadata": {},
   "outputs": [],
   "source": [
    "# Are compact cars more fuel-efficient than the average car?\n",
    "\n",
    "mpg.value_counts('class')"
   ]
  },
  {
   "cell_type": "code",
   "execution_count": null,
   "id": "02ad9ea1",
   "metadata": {},
   "outputs": [],
   "source": [
    "# Are compact cars more fuel-efficient than the average car?\n",
    "\n",
    "mpg.groupby('class').average_mileage.mean().sort_values(ascending = False)\n",
    "\n",
    "\n"
   ]
  },
  {
   "cell_type": "code",
   "execution_count": null,
   "id": "7f5de9b9",
   "metadata": {},
   "outputs": [],
   "source": [
    "\n",
    "mpg.groupby('class').average_mileage.mean().sort_values(ascending = False).hist()"
   ]
  },
  {
   "cell_type": "code",
   "execution_count": null,
   "id": "ac7efdad",
   "metadata": {},
   "outputs": [],
   "source": [
    "fe_compact = mpg[mpg['class'] == 'compact'].average_mileage\n",
    "\n",
    "pop_mean = mpg.average_mileage.mean()"
   ]
  },
  {
   "cell_type": "code",
   "execution_count": null,
   "id": "be5fcfd3",
   "metadata": {},
   "outputs": [],
   "source": [
    "fe_compact.hist()"
   ]
  },
  {
   "cell_type": "code",
   "execution_count": null,
   "id": "bc8c0d12",
   "metadata": {},
   "outputs": [],
   "source": [
    "t, p = stats.ttest_1samp(fe_compact, pop_mean)\n",
    "\n",
    "t, p, alpha"
   ]
  },
  {
   "cell_type": "code",
   "execution_count": null,
   "id": "126d4db6",
   "metadata": {},
   "outputs": [],
   "source": [
    "if (p/2 < alpha) and t > 0:\n",
    "   print('reject')"
   ]
  },
  {
   "cell_type": "code",
   "execution_count": null,
   "id": "8268a261",
   "metadata": {},
   "outputs": [],
   "source": [
    "# Do manual cars get better gas mileage than automatic cars?\n",
    "\n",
    "mpg.trans.value_counts()"
   ]
  },
  {
   "cell_type": "code",
   "execution_count": null,
   "id": "3f9f994b",
   "metadata": {},
   "outputs": [],
   "source": [
    "fe_auto = mpg[mpg.trans.str.contains('auto')].average_mileage\n",
    "fe_manual = mpg[mpg.trans.str.contains('manual')].average_mileage"
   ]
  },
  {
   "cell_type": "code",
   "execution_count": null,
   "id": "66122960",
   "metadata": {},
   "outputs": [],
   "source": [
    "stats.levene(fe_auto,fe_manual )"
   ]
  },
  {
   "cell_type": "code",
   "execution_count": null,
   "id": "d079cfa8",
   "metadata": {},
   "outputs": [],
   "source": [
    "fe_auto.var(), fe_manual.var()"
   ]
  },
  {
   "cell_type": "code",
   "execution_count": null,
   "id": "54800754",
   "metadata": {},
   "outputs": [],
   "source": [
    "t, p = stats.ttest_ind(fe_manual, fe_auto, equal_var = True)\n",
    "\n",
    "t, p/2, alpha"
   ]
  },
  {
   "cell_type": "code",
   "execution_count": null,
   "id": "69b1e6d0",
   "metadata": {},
   "outputs": [],
   "source": [
    "fe_auto.mean(), fe_manual.mean()"
   ]
  },
  {
   "cell_type": "raw",
   "id": "bdb16d43",
   "metadata": {},
   "source": [
    "Exercises\n",
    "\n",
    "Continue working in your hypothesis_testing notebook.\n",
    "\n",
    "\n",
    "\n",
    "2) Use the employees database.\n",
    "\n",
    "- Is there a relationship between how long an employee has been with the company and their salary?\n",
    "\n",
    "- Is there a relationship between how long an employee has been with the company and the number of titles they have had?\n",
    "\n",
    "3) Use the sleepstudy data. Is there a relationship between days and "
   ]
  },
  {
   "cell_type": "code",
   "execution_count": 5,
   "id": "44361a84",
   "metadata": {},
   "outputs": [],
   "source": [
    "#1) Use the telco_churn data. \n",
    "# -Does tenure correlate with monthly charges? \n",
    "# -Total charges? \n",
    "# -What happens if you control for phone and internet service?"
   ]
  },
  {
   "cell_type": "code",
   "execution_count": 6,
   "id": "bb1889a1",
   "metadata": {},
   "outputs": [],
   "source": [
    "from env import get_db_url\n",
    "import pandas as pd\n",
    "import numpy as np\n"
   ]
  },
  {
   "cell_type": "code",
   "execution_count": 7,
   "id": "e4cf074a",
   "metadata": {},
   "outputs": [
    {
     "data": {
      "text/html": [
       "<div>\n",
       "<style scoped>\n",
       "    .dataframe tbody tr th:only-of-type {\n",
       "        vertical-align: middle;\n",
       "    }\n",
       "\n",
       "    .dataframe tbody tr th {\n",
       "        vertical-align: top;\n",
       "    }\n",
       "\n",
       "    .dataframe thead th {\n",
       "        text-align: right;\n",
       "    }\n",
       "</style>\n",
       "<table border=\"1\" class=\"dataframe\">\n",
       "  <thead>\n",
       "    <tr style=\"text-align: right;\">\n",
       "      <th></th>\n",
       "      <th>customer_id</th>\n",
       "      <th>gender</th>\n",
       "      <th>senior_citizen</th>\n",
       "      <th>partner</th>\n",
       "      <th>dependents</th>\n",
       "      <th>tenure</th>\n",
       "      <th>phone_service</th>\n",
       "      <th>multiple_lines</th>\n",
       "      <th>internet_service_type_id</th>\n",
       "      <th>online_security</th>\n",
       "      <th>...</th>\n",
       "      <th>device_protection</th>\n",
       "      <th>tech_support</th>\n",
       "      <th>streaming_tv</th>\n",
       "      <th>streaming_movies</th>\n",
       "      <th>contract_type_id</th>\n",
       "      <th>paperless_billing</th>\n",
       "      <th>payment_type_id</th>\n",
       "      <th>monthly_charges</th>\n",
       "      <th>total_charges</th>\n",
       "      <th>churn</th>\n",
       "    </tr>\n",
       "  </thead>\n",
       "  <tbody>\n",
       "    <tr>\n",
       "      <th>0</th>\n",
       "      <td>0002-ORFBO</td>\n",
       "      <td>Female</td>\n",
       "      <td>0</td>\n",
       "      <td>Yes</td>\n",
       "      <td>Yes</td>\n",
       "      <td>9</td>\n",
       "      <td>Yes</td>\n",
       "      <td>No</td>\n",
       "      <td>1</td>\n",
       "      <td>No</td>\n",
       "      <td>...</td>\n",
       "      <td>No</td>\n",
       "      <td>Yes</td>\n",
       "      <td>Yes</td>\n",
       "      <td>No</td>\n",
       "      <td>2</td>\n",
       "      <td>Yes</td>\n",
       "      <td>2</td>\n",
       "      <td>65.6</td>\n",
       "      <td>593.3</td>\n",
       "      <td>No</td>\n",
       "    </tr>\n",
       "    <tr>\n",
       "      <th>1</th>\n",
       "      <td>0003-MKNFE</td>\n",
       "      <td>Male</td>\n",
       "      <td>0</td>\n",
       "      <td>No</td>\n",
       "      <td>No</td>\n",
       "      <td>9</td>\n",
       "      <td>Yes</td>\n",
       "      <td>Yes</td>\n",
       "      <td>1</td>\n",
       "      <td>No</td>\n",
       "      <td>...</td>\n",
       "      <td>No</td>\n",
       "      <td>No</td>\n",
       "      <td>No</td>\n",
       "      <td>Yes</td>\n",
       "      <td>1</td>\n",
       "      <td>No</td>\n",
       "      <td>2</td>\n",
       "      <td>59.9</td>\n",
       "      <td>542.4</td>\n",
       "      <td>No</td>\n",
       "    </tr>\n",
       "    <tr>\n",
       "      <th>2</th>\n",
       "      <td>0004-TLHLJ</td>\n",
       "      <td>Male</td>\n",
       "      <td>0</td>\n",
       "      <td>No</td>\n",
       "      <td>No</td>\n",
       "      <td>4</td>\n",
       "      <td>Yes</td>\n",
       "      <td>No</td>\n",
       "      <td>2</td>\n",
       "      <td>No</td>\n",
       "      <td>...</td>\n",
       "      <td>Yes</td>\n",
       "      <td>No</td>\n",
       "      <td>No</td>\n",
       "      <td>No</td>\n",
       "      <td>1</td>\n",
       "      <td>Yes</td>\n",
       "      <td>1</td>\n",
       "      <td>73.9</td>\n",
       "      <td>280.85</td>\n",
       "      <td>Yes</td>\n",
       "    </tr>\n",
       "    <tr>\n",
       "      <th>3</th>\n",
       "      <td>0011-IGKFF</td>\n",
       "      <td>Male</td>\n",
       "      <td>1</td>\n",
       "      <td>Yes</td>\n",
       "      <td>No</td>\n",
       "      <td>13</td>\n",
       "      <td>Yes</td>\n",
       "      <td>No</td>\n",
       "      <td>2</td>\n",
       "      <td>No</td>\n",
       "      <td>...</td>\n",
       "      <td>Yes</td>\n",
       "      <td>No</td>\n",
       "      <td>Yes</td>\n",
       "      <td>Yes</td>\n",
       "      <td>1</td>\n",
       "      <td>Yes</td>\n",
       "      <td>1</td>\n",
       "      <td>98.0</td>\n",
       "      <td>1237.85</td>\n",
       "      <td>Yes</td>\n",
       "    </tr>\n",
       "    <tr>\n",
       "      <th>4</th>\n",
       "      <td>0013-EXCHZ</td>\n",
       "      <td>Female</td>\n",
       "      <td>1</td>\n",
       "      <td>Yes</td>\n",
       "      <td>No</td>\n",
       "      <td>3</td>\n",
       "      <td>Yes</td>\n",
       "      <td>No</td>\n",
       "      <td>2</td>\n",
       "      <td>No</td>\n",
       "      <td>...</td>\n",
       "      <td>No</td>\n",
       "      <td>Yes</td>\n",
       "      <td>Yes</td>\n",
       "      <td>No</td>\n",
       "      <td>1</td>\n",
       "      <td>Yes</td>\n",
       "      <td>2</td>\n",
       "      <td>83.9</td>\n",
       "      <td>267.4</td>\n",
       "      <td>Yes</td>\n",
       "    </tr>\n",
       "  </tbody>\n",
       "</table>\n",
       "<p>5 rows × 21 columns</p>\n",
       "</div>"
      ],
      "text/plain": [
       "  customer_id  gender  senior_citizen partner dependents  tenure  \\\n",
       "0  0002-ORFBO  Female               0     Yes        Yes       9   \n",
       "1  0003-MKNFE    Male               0      No         No       9   \n",
       "2  0004-TLHLJ    Male               0      No         No       4   \n",
       "3  0011-IGKFF    Male               1     Yes         No      13   \n",
       "4  0013-EXCHZ  Female               1     Yes         No       3   \n",
       "\n",
       "  phone_service multiple_lines  internet_service_type_id online_security  ...  \\\n",
       "0           Yes             No                         1              No  ...   \n",
       "1           Yes            Yes                         1              No  ...   \n",
       "2           Yes             No                         2              No  ...   \n",
       "3           Yes             No                         2              No  ...   \n",
       "4           Yes             No                         2              No  ...   \n",
       "\n",
       "  device_protection tech_support streaming_tv streaming_movies  \\\n",
       "0                No          Yes          Yes               No   \n",
       "1                No           No           No              Yes   \n",
       "2               Yes           No           No               No   \n",
       "3               Yes           No          Yes              Yes   \n",
       "4                No          Yes          Yes               No   \n",
       "\n",
       "  contract_type_id  paperless_billing payment_type_id  monthly_charges  \\\n",
       "0                2                Yes               2             65.6   \n",
       "1                1                 No               2             59.9   \n",
       "2                1                Yes               1             73.9   \n",
       "3                1                Yes               1             98.0   \n",
       "4                1                Yes               2             83.9   \n",
       "\n",
       "   total_charges churn  \n",
       "0          593.3    No  \n",
       "1          542.4    No  \n",
       "2         280.85   Yes  \n",
       "3        1237.85   Yes  \n",
       "4          267.4   Yes  \n",
       "\n",
       "[5 rows x 21 columns]"
      ]
     },
     "execution_count": 7,
     "metadata": {},
     "output_type": "execute_result"
    }
   ],
   "source": [
    "url = get_db_url(\"telco_churn\")\n",
    "sql = \"\"\"\n",
    "SELECT * FROM customers\n",
    "\"\"\"\n",
    "\n",
    "df = pd.read_sql(sql, url)\n",
    "df.head()"
   ]
  },
  {
   "cell_type": "code",
   "execution_count": 8,
   "id": "b11ff51b",
   "metadata": {},
   "outputs": [
    {
     "data": {
      "text/plain": [
       "(0.24789985628615263, 4.0940449914811555e-99)"
      ]
     },
     "execution_count": 8,
     "metadata": {},
     "output_type": "execute_result"
    }
   ],
   "source": [
    "tenure = df.tenure\n",
    "monthly_charges = df.monthly_charges\n",
    "\n",
    "r, p = stats.pearsonr(tenure, monthly_charges)\n",
    "\n",
    "r, p "
   ]
  },
  {
   "cell_type": "code",
   "execution_count": 9,
   "id": "0e819f6e",
   "metadata": {},
   "outputs": [],
   "source": [
    "α = .05"
   ]
  },
  {
   "cell_type": "code",
   "execution_count": 10,
   "id": "53c268a7",
   "metadata": {},
   "outputs": [
    {
     "data": {
      "text/plain": [
       "True"
      ]
     },
     "execution_count": 10,
     "metadata": {},
     "output_type": "execute_result"
    }
   ],
   "source": [
    "# Does tenure correlate with monthly charges?\n",
    "p < α"
   ]
  },
  {
   "cell_type": "code",
   "execution_count": 12,
   "id": "109573de",
   "metadata": {},
   "outputs": [],
   "source": [
    "# -Total charges? \n",
    "\n",
    "total_charges = df.total_charges.astype(float)"
   ]
  },
  {
   "cell_type": "code",
   "execution_count": 13,
   "id": "978d7acc",
   "metadata": {},
   "outputs": [
    {
     "data": {
      "text/plain": [
       "(0.8258804609332075, 0.0)"
      ]
     },
     "execution_count": 13,
     "metadata": {},
     "output_type": "execute_result"
    }
   ],
   "source": [
    "tenure = df.tenure\n",
    "\n",
    "p = stats.pearsonr(total_charges, tenure)\n",
    "\n",
    "p"
   ]
  },
  {
   "cell_type": "code",
   "execution_count": null,
   "id": "b89dfbf0",
   "metadata": {},
   "outputs": [],
   "source": [
    "# -What happens if you control for phone and internet service?\n",
    "\n"
   ]
  },
  {
   "cell_type": "code",
   "execution_count": 16,
   "id": "ba7a7dfa",
   "metadata": {},
   "outputs": [
    {
     "data": {
      "text/plain": [
       "(0.8298393210699475, 0.0)"
      ]
     },
     "execution_count": 16,
     "metadata": {},
     "output_type": "execute_result"
    }
   ],
   "source": [
    "from env import host, user, password\n",
    "database = \"telco_churn\"\n",
    "\n",
    "def get_db_url(user,host,password,database):\n",
    "\n",
    "    url = f'mysql+pymysql://{user}:{password}@{host}/{database}'\n",
    "    \n",
    "    return url\n",
    "\n",
    "url = get_db_url(user,host,password,database)\n",
    "\n",
    "database_name = \"telco_churn\"\n",
    "query = \"\"\" \n",
    "            SELECT total_charges, tenure \n",
    "            FROM customers as c\n",
    "            WHERE c.phone_service = 'yes' and c.total_charges > 0\n",
    "            \n",
    "        \"\"\"\n",
    "\n",
    "dfphone = pd.read_sql(query, url)\n",
    "\n",
    "dfphone = dfphone.astype(float)\n",
    "\n",
    "\n",
    "stats.pearsonr(dfphone.total_charges, dfphone.tenure)\n"
   ]
  },
  {
   "cell_type": "code",
   "execution_count": 17,
   "id": "eba0ae5d",
   "metadata": {},
   "outputs": [
    {
     "data": {
      "text/plain": [
       "(0.9319346187418136, 0.0)"
      ]
     },
     "execution_count": 17,
     "metadata": {},
     "output_type": "execute_result"
    }
   ],
   "source": [
    "from env import host, user, password\n",
    "database = \"telco_churn\"\n",
    "\n",
    "def get_db_url(user,host,password,database):\n",
    "\n",
    "    url = f'mysql+pymysql://{user}:{password}@{host}/{database}'\n",
    "    \n",
    "    return url\n",
    "\n",
    "url = get_db_url(user,host,password,database)\n",
    "\n",
    "database_name = \"telco_churn\"\n",
    "query = \"\"\" \n",
    "            SELECT total_charges, tenure \n",
    "            FROM customers as c\n",
    "            WHERE c.internet_service_type_id < 3 and c.total_charges > 0\n",
    "            \n",
    "        \"\"\"\n",
    "\n",
    "dfinternet = pd.read_sql(query, url)\n",
    "\n",
    "dfinternet = dfinternet.astype(float)\n",
    "\n",
    "\n",
    "stats.pearsonr(dfinternet.total_charges, dfinternet.tenure)\n"
   ]
  },
  {
   "cell_type": "code",
   "execution_count": 18,
   "id": "72bf7848",
   "metadata": {},
   "outputs": [],
   "source": [
    "# 2) Use the employees database.\n"
   ]
  },
  {
   "cell_type": "code",
   "execution_count": 38,
   "id": "bd345cbb",
   "metadata": {},
   "outputs": [
    {
     "data": {
      "text/html": [
       "<div>\n",
       "<style scoped>\n",
       "    .dataframe tbody tr th:only-of-type {\n",
       "        vertical-align: middle;\n",
       "    }\n",
       "\n",
       "    .dataframe tbody tr th {\n",
       "        vertical-align: top;\n",
       "    }\n",
       "\n",
       "    .dataframe thead th {\n",
       "        text-align: right;\n",
       "    }\n",
       "</style>\n",
       "<table border=\"1\" class=\"dataframe\">\n",
       "  <thead>\n",
       "    <tr style=\"text-align: right;\">\n",
       "      <th></th>\n",
       "      <th>emp_no</th>\n",
       "      <th>birth_date</th>\n",
       "      <th>first_name</th>\n",
       "      <th>last_name</th>\n",
       "      <th>gender</th>\n",
       "      <th>hire_date</th>\n",
       "      <th>tenure</th>\n",
       "      <th>title</th>\n",
       "      <th>title_from</th>\n",
       "      <th>t_tenure</th>\n",
       "      <th>titles</th>\n",
       "      <th>salary</th>\n",
       "      <th>salary_from</th>\n",
       "      <th>s_tenure</th>\n",
       "      <th>salaries</th>\n",
       "    </tr>\n",
       "  </thead>\n",
       "  <tbody>\n",
       "    <tr>\n",
       "      <th>0</th>\n",
       "      <td>10001</td>\n",
       "      <td>1953-09-02</td>\n",
       "      <td>Georgi</td>\n",
       "      <td>Facello</td>\n",
       "      <td>M</td>\n",
       "      <td>1986-06-26</td>\n",
       "      <td>5940</td>\n",
       "      <td>Senior Engineer</td>\n",
       "      <td>1986-06-26</td>\n",
       "      <td>5940</td>\n",
       "      <td>1</td>\n",
       "      <td>88958</td>\n",
       "      <td>2002-06-22</td>\n",
       "      <td>100</td>\n",
       "      <td>17</td>\n",
       "    </tr>\n",
       "    <tr>\n",
       "      <th>1</th>\n",
       "      <td>10002</td>\n",
       "      <td>1964-06-02</td>\n",
       "      <td>Bezalel</td>\n",
       "      <td>Simmel</td>\n",
       "      <td>F</td>\n",
       "      <td>1985-11-21</td>\n",
       "      <td>6157</td>\n",
       "      <td>Staff</td>\n",
       "      <td>1996-08-03</td>\n",
       "      <td>2249</td>\n",
       "      <td>1</td>\n",
       "      <td>72527</td>\n",
       "      <td>2001-08-02</td>\n",
       "      <td>424</td>\n",
       "      <td>6</td>\n",
       "    </tr>\n",
       "    <tr>\n",
       "      <th>2</th>\n",
       "      <td>10003</td>\n",
       "      <td>1959-12-03</td>\n",
       "      <td>Parto</td>\n",
       "      <td>Bamford</td>\n",
       "      <td>M</td>\n",
       "      <td>1986-08-28</td>\n",
       "      <td>5877</td>\n",
       "      <td>Senior Engineer</td>\n",
       "      <td>1995-12-03</td>\n",
       "      <td>2493</td>\n",
       "      <td>1</td>\n",
       "      <td>43311</td>\n",
       "      <td>2001-12-01</td>\n",
       "      <td>303</td>\n",
       "      <td>7</td>\n",
       "    </tr>\n",
       "    <tr>\n",
       "      <th>3</th>\n",
       "      <td>10004</td>\n",
       "      <td>1954-05-01</td>\n",
       "      <td>Chirstian</td>\n",
       "      <td>Koblick</td>\n",
       "      <td>M</td>\n",
       "      <td>1986-12-01</td>\n",
       "      <td>5782</td>\n",
       "      <td>Senior Engineer</td>\n",
       "      <td>1995-12-01</td>\n",
       "      <td>2495</td>\n",
       "      <td>2</td>\n",
       "      <td>74057</td>\n",
       "      <td>2001-11-27</td>\n",
       "      <td>307</td>\n",
       "      <td>16</td>\n",
       "    </tr>\n",
       "    <tr>\n",
       "      <th>4</th>\n",
       "      <td>10005</td>\n",
       "      <td>1955-01-21</td>\n",
       "      <td>Kyoichi</td>\n",
       "      <td>Maliniak</td>\n",
       "      <td>M</td>\n",
       "      <td>1989-09-12</td>\n",
       "      <td>4766</td>\n",
       "      <td>Senior Staff</td>\n",
       "      <td>1996-09-12</td>\n",
       "      <td>2209</td>\n",
       "      <td>2</td>\n",
       "      <td>94692</td>\n",
       "      <td>2001-09-09</td>\n",
       "      <td>386</td>\n",
       "      <td>13</td>\n",
       "    </tr>\n",
       "  </tbody>\n",
       "</table>\n",
       "</div>"
      ],
      "text/plain": [
       "   emp_no  birth_date first_name last_name gender   hire_date  tenure  \\\n",
       "0   10001  1953-09-02     Georgi   Facello      M  1986-06-26    5940   \n",
       "1   10002  1964-06-02    Bezalel    Simmel      F  1985-11-21    6157   \n",
       "2   10003  1959-12-03      Parto   Bamford      M  1986-08-28    5877   \n",
       "3   10004  1954-05-01  Chirstian   Koblick      M  1986-12-01    5782   \n",
       "4   10005  1955-01-21    Kyoichi  Maliniak      M  1989-09-12    4766   \n",
       "\n",
       "             title  title_from  t_tenure  titles  salary salary_from  \\\n",
       "0  Senior Engineer  1986-06-26      5940       1   88958  2002-06-22   \n",
       "1            Staff  1996-08-03      2249       1   72527  2001-08-02   \n",
       "2  Senior Engineer  1995-12-03      2493       1   43311  2001-12-01   \n",
       "3  Senior Engineer  1995-12-01      2495       2   74057  2001-11-27   \n",
       "4     Senior Staff  1996-09-12      2209       2   94692  2001-09-09   \n",
       "\n",
       "   s_tenure  salaries  \n",
       "0       100        17  \n",
       "1       424         6  \n",
       "2       303         7  \n",
       "3       307        16  \n",
       "4       386        13  "
      ]
     },
     "execution_count": 38,
     "metadata": {},
     "output_type": "execute_result"
    }
   ],
   "source": [
    "\n",
    "from env import host, user, password\n",
    "database = \"employees\"\n",
    "\n",
    "def get_db_url(user,host,password,database):\n",
    "\n",
    "    url = f'mysql+pymysql://{user}:{password}@{host}/{database}'\n",
    "    \n",
    "    return url\n",
    "\n",
    "url = get_db_url(user,host,password,database)\n",
    "\n",
    "database_name = \"employees\"\n",
    "query = \"\"\" \n",
    "            SELECT\n",
    "    e.*,\n",
    "    datediff('2002-09-30', e.hire_date) tenure,\n",
    "    t.title,\n",
    "    t.from_date title_from,\n",
    "    datediff('2002-09-30', t.from_date) t_tenure,\n",
    "    et.titles,\n",
    "    s.salary,\n",
    "    s.from_date salary_from,\n",
    "    datediff('2002-09-30', s.from_date) s_tenure,\n",
    "    es.salaries\n",
    "FROM\n",
    "    employees e\n",
    "JOIN \n",
    "    titles t \n",
    "    USING(emp_no)\n",
    "JOIN \n",
    "    salaries s \n",
    "    USING(emp_no)\n",
    "JOIN\n",
    "    (SELECT \n",
    "        emp_no,\n",
    "        count(*) titles\n",
    "    FROM\n",
    "        titles\n",
    "    GROUP BY\n",
    "        emp_no) et\n",
    "    USING(emp_no)\n",
    "JOIN\n",
    "    (SELECT \n",
    "        emp_no,\n",
    "        count(*) salaries\n",
    "    FROM\n",
    "        salaries\n",
    "    GROUP BY\n",
    "        emp_no) es\n",
    "    USING(emp_no)\n",
    "WHERE\n",
    "    s.to_date > '2002-09-30'\n",
    "    AND t.to_date > '2002-09-30';   \n",
    "    \"\"\"\n",
    "            \n",
    "df = pd.read_sql(query, url)\n",
    "\n",
    "df.head()"
   ]
  },
  {
   "cell_type": "code",
   "execution_count": 25,
   "id": "a28f8994",
   "metadata": {},
   "outputs": [],
   "source": [
    "# - Is there a relationship between how long an employee has been \n",
    "# with the company and their salary?\n"
   ]
  },
  {
   "cell_type": "code",
   "execution_count": 40,
   "id": "2939dac5",
   "metadata": {},
   "outputs": [
    {
     "data": {
      "text/plain": [
       "0         88958\n",
       "1         72527\n",
       "2         43311\n",
       "3         74057\n",
       "4         94692\n",
       "          ...  \n",
       "240119    52868\n",
       "240120    69501\n",
       "240121    83441\n",
       "240122    55003\n",
       "240123    77303\n",
       "Name: salary, Length: 240124, dtype: int64"
      ]
     },
     "execution_count": 40,
     "metadata": {},
     "output_type": "execute_result"
    }
   ],
   "source": [
    "df.salary"
   ]
  },
  {
   "cell_type": "code",
   "execution_count": null,
   "id": "2399e5d4",
   "metadata": {},
   "outputs": [],
   "source": []
  },
  {
   "cell_type": "code",
   "execution_count": 47,
   "id": "d3d8156d",
   "metadata": {},
   "outputs": [
    {
     "data": {
      "text/plain": [
       "(0.30646256131860894, 0.0)"
      ]
     },
     "execution_count": 47,
     "metadata": {},
     "output_type": "execute_result"
    }
   ],
   "source": [
    "salary = df.tenure\n",
    "tenure = df.tenure\n",
    "\n",
    "stats.pearsonr(df.tenure, df.salary)\n"
   ]
  },
  {
   "cell_type": "code",
   "execution_count": 27,
   "id": "9a574306",
   "metadata": {},
   "outputs": [],
   "source": [
    "\n",
    "# - Is there a relationship between how long an employee has been \n",
    "# with the company and the number of titles they have had?"
   ]
  },
  {
   "cell_type": "code",
   "execution_count": 48,
   "id": "c4d80e02",
   "metadata": {},
   "outputs": [
    {
     "data": {
      "text/plain": [
       "(0.2871267889699541, 0.0)"
      ]
     },
     "execution_count": 48,
     "metadata": {},
     "output_type": "execute_result"
    }
   ],
   "source": [
    "stats.pearsonr(df.tenure, df.titles)\n"
   ]
  },
  {
   "cell_type": "code",
   "execution_count": 29,
   "id": "69e07302",
   "metadata": {},
   "outputs": [],
   "source": [
    "# 3) Use the sleepstudy data. Is there a relationship between days and reaction time?\n",
    "\n"
   ]
  },
  {
   "cell_type": "code",
   "execution_count": 51,
   "id": "9ded0da4",
   "metadata": {},
   "outputs": [
    {
     "name": "stdout",
     "output_type": "stream",
     "text": [
      "sleepstudy\n",
      "\n",
      "PyDataset Documentation (adopted from R Documentation. The displayed examples are in R)\n",
      "\n",
      "## Reaction times in a sleep deprivation study\n",
      "\n",
      "### Description\n",
      "\n",
      "The average reaction time per day for subjects in a sleep deprivation study.\n",
      "On day 0 the subjects had their normal amount of sleep. Starting that night\n",
      "they were restricted to 3 hours of sleep per night. The observations represent\n",
      "the average reaction time on a series of tests given each day to each subject.\n",
      "\n",
      "### Format\n",
      "\n",
      "A data frame with 180 observations on the following 3 variables.\n",
      "\n",
      "`Reaction`\n",
      "\n",
      "Average reaction time (ms)\n",
      "\n",
      "`Days`\n",
      "\n",
      "Number of days of sleep deprivation\n",
      "\n",
      "`Subject`\n",
      "\n",
      "Subject number on which the observation was made.\n",
      "\n",
      "### Details\n",
      "\n",
      "These data are from the study described in Belenky et al. (2003), for the\n",
      "sleep-deprived group and for the first 10 days of the study, up to the\n",
      "recovery period.\n",
      "\n",
      "### References\n",
      "\n",
      "Gregory Belenky, Nancy J. Wesensten, David R. Thorne, Maria L. Thomas, Helen\n",
      "C. Sing, Daniel P. Redmond, Michael B. Russo and Thomas J. Balkin (2003)\n",
      "Patterns of performance degradation and restoration during sleep restriction\n",
      "and subsequent recovery: a sleep dose-response study. _Journal of Sleep\n",
      "Research_ **12**, 1–12.\n",
      "\n",
      "### Examples\n",
      "\n",
      "    str(sleepstudy)\n",
      "    require(lattice)\n",
      "    xyplot(Reaction ~ Days | Subject, sleepstudy, type = c(\"g\",\"p\",\"r\"),\n",
      "           index = function(x,y) coef(lm(y ~ x))[1],\n",
      "           xlab = \"Days of sleep deprivation\",\n",
      "           ylab = \"Average reaction time (ms)\", aspect = \"xy\")\n",
      "    (fm1 <- lmer(Reaction ~ Days + (Days|Subject), sleepstudy))\n",
      "    (fm2 <- lmer(Reaction ~ Days + (1|Subject) + (0+Days|Subject), sleepstudy))\n",
      "\n",
      "\n"
     ]
    }
   ],
   "source": [
    "import pydataset\n",
    "sleep = pydataset.data('sleepstudy', show_doc=True)"
   ]
  },
  {
   "cell_type": "code",
   "execution_count": 52,
   "id": "9108d4a0",
   "metadata": {},
   "outputs": [
    {
     "data": {
      "text/plain": [
       "(0.5352302262650253, 9.894096322214812e-15)"
      ]
     },
     "execution_count": 52,
     "metadata": {},
     "output_type": "execute_result"
    }
   ],
   "source": [
    "df = data('sleepstudy')\n",
    "\n",
    "stats.pearsonr(df.Days, df.Reaction)\n"
   ]
  },
  {
   "cell_type": "code",
   "execution_count": null,
   "id": "d2899ecd",
   "metadata": {},
   "outputs": [],
   "source": []
  }
 ],
 "metadata": {
  "kernelspec": {
   "display_name": "Python 3 (ipykernel)",
   "language": "python",
   "name": "python3"
  },
  "language_info": {
   "codemirror_mode": {
    "name": "ipython",
    "version": 3
   },
   "file_extension": ".py",
   "mimetype": "text/x-python",
   "name": "python",
   "nbconvert_exporter": "python",
   "pygments_lexer": "ipython3",
   "version": "3.9.7"
  }
 },
 "nbformat": 4,
 "nbformat_minor": 5
}
