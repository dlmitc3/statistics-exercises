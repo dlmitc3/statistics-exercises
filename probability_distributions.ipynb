{
 "cells": [
  {
   "cell_type": "code",
   "execution_count": 6,
   "id": "c2c6748b",
   "metadata": {},
   "outputs": [],
   "source": [
    "import matplotlib.pyplot as plt\n",
    "import numpy as np\n",
    "import pandas as pd\n",
    "from scipy import stats\n",
    "from scipy.stats import norm, binom\n",
    "from scipy.stats import poisson"
   ]
  },
  {
   "cell_type": "raw",
   "id": "4870cc1d",
   "metadata": {},
   "source": [
    "Working with distributions in SciPy\n",
    "\n",
    "Scipy provides many different ways of interacting with various statistical distributions through it's stats module.\n",
    "\n",
    "We will discuss the following distribution methods:\n",
    "\n",
    "rvs\n",
    "pmf / pdf\n",
    "cdf / ppf\n",
    "sf / isf"
   ]
  },
  {
   "cell_type": "code",
   "execution_count": 16,
   "id": "3c52f1f7",
   "metadata": {},
   "outputs": [],
   "source": [
    "die_distribution = stats.randint(1, 7)\n",
    "\n",
    "\n"
   ]
  },
  {
   "cell_type": "code",
   "execution_count": 22,
   "id": "d0edb6dc",
   "metadata": {},
   "outputs": [
    {
     "data": {
      "text/plain": [
       "6"
      ]
     },
     "execution_count": 22,
     "metadata": {},
     "output_type": "execute_result"
    }
   ],
   "source": [
    "die_distribution.rvs()"
   ]
  },
  {
   "cell_type": "code",
   "execution_count": 13,
   "id": "6464fb34",
   "metadata": {},
   "outputs": [
    {
     "data": {
      "text/plain": [
       "array([2, 4, 4, 1, 4])"
      ]
     },
     "execution_count": 13,
     "metadata": {},
     "output_type": "execute_result"
    }
   ],
   "source": [
    "die_distribution.rvs(5)"
   ]
  },
  {
   "cell_type": "code",
   "execution_count": 23,
   "id": "7b90de5f",
   "metadata": {},
   "outputs": [
    {
     "data": {
      "text/plain": [
       "array([[4, 2, 3, 6, 5],\n",
       "       [2, 1, 1, 1, 6],\n",
       "       [2, 3, 4, 4, 2],\n",
       "       [1, 6, 1, 1, 1],\n",
       "       [5, 1, 1, 1, 2]])"
      ]
     },
     "execution_count": 23,
     "metadata": {},
     "output_type": "execute_result"
    }
   ],
   "source": [
    "die_distribution.rvs((5, 5))\n"
   ]
  },
  {
   "cell_type": "code",
   "execution_count": 24,
   "id": "744b7990",
   "metadata": {},
   "outputs": [
    {
     "data": {
      "text/plain": [
       "Text(0.5, 1.0, 'Outcome of 10,000 Dice Rolls')"
      ]
     },
     "execution_count": 24,
     "metadata": {},
     "output_type": "execute_result"
    },
    {
     "data": {
      "image/png": "[encoded data removed]",
      "text/plain": [
       "<Figure size 432x288 with 1 Axes>"
      ]
     },
     "metadata": {
      "needs_background": "light"
     },
     "output_type": "display_data"
    }
   ],
   "source": [
    "n = 10_000\n",
    "\n",
    "x = die_distribution.rvs(n)\n",
    "\n",
    "plt.hist(x, bins=range(0, 9), align='left', width=1, edgecolor='black')\n",
    "plt.title(f'Outcome of {n:,} Dice Rolls')\n"
   ]
  },
  {
   "cell_type": "code",
   "execution_count": 27,
   "id": "7024a27b",
   "metadata": {},
   "outputs": [
    {
     "data": {
      "text/plain": [
       "0.16666666666666666"
      ]
     },
     "execution_count": 27,
     "metadata": {},
     "output_type": "execute_result"
    }
   ],
   "source": [
    "die_distribution.pmf(2)\n"
   ]
  },
  {
   "cell_type": "code",
   "execution_count": 28,
   "id": "b249b16a",
   "metadata": {},
   "outputs": [
    {
     "data": {
      "text/plain": [
       "array([0.16666667, 0.16666667, 0.16666667])"
      ]
     },
     "execution_count": 28,
     "metadata": {},
     "output_type": "execute_result"
    }
   ],
   "source": [
    "die_distribution.pmf([1, 2, 3])\n"
   ]
  },
  {
   "cell_type": "code",
   "execution_count": 61,
   "id": "8f5f6143",
   "metadata": {},
   "outputs": [
    {
     "data": {
      "text/plain": [
       "0.8333333333333334"
      ]
     },
     "execution_count": 61,
     "metadata": {},
     "output_type": "execute_result"
    }
   ],
   "source": [
    "die_distribution.cdf(5)"
   ]
  },
  {
   "cell_type": "code",
   "execution_count": 63,
   "id": "a1466c59",
   "metadata": {},
   "outputs": [
    {
     "data": {
      "text/plain": [
       "0.8333333333333334"
      ]
     },
     "execution_count": 63,
     "metadata": {},
     "output_type": "execute_result"
    }
   ],
   "source": [
    "5/6"
   ]
  },
  {
   "cell_type": "code",
   "execution_count": 40,
   "id": "2c8a6a62",
   "metadata": {},
   "outputs": [
    {
     "data": {
      "text/plain": [
       "5.0"
      ]
     },
     "execution_count": 40,
     "metadata": {},
     "output_type": "execute_result"
    }
   ],
   "source": [
    "die_distribution.ppf(5/6)\n"
   ]
  },
  {
   "cell_type": "code",
   "execution_count": null,
   "id": "5a44f371",
   "metadata": {},
   "outputs": [],
   "source": []
  },
  {
   "cell_type": "code",
   "execution_count": 52,
   "id": "e6c919e1",
   "metadata": {},
   "outputs": [
    {
     "data": {
      "text/plain": [
       "0.33333333333333337"
      ]
     },
     "execution_count": 52,
     "metadata": {},
     "output_type": "execute_result"
    }
   ],
   "source": [
    "die_distribution.sf(4)\n"
   ]
  },
  {
   "cell_type": "code",
   "execution_count": 60,
   "id": "b065c672",
   "metadata": {},
   "outputs": [
    {
     "data": {
      "text/plain": [
       "4.0"
      ]
     },
     "execution_count": 60,
     "metadata": {},
     "output_type": "execute_result"
    }
   ],
   "source": [
    "die_distribution.isf(1/3)\n"
   ]
  },
  {
   "cell_type": "code",
   "execution_count": null,
   "id": "ed604060",
   "metadata": {},
   "outputs": [],
   "source": []
  },
  {
   "cell_type": "code",
   "execution_count": null,
   "id": "40dfd681",
   "metadata": {},
   "outputs": [],
   "source": []
  },
  {
   "cell_type": "raw",
   "id": "89f6cd36",
   "metadata": {},
   "source": [
    "1) A bank found that the average number of cars waiting during the noon hour at a drive-up window follows a Poisson distribution with a mean of 2 cars. Make a chart of this distribution and answer these questions concerning the probability of cars waiting at the drive-up window.\n",
    "\n",
    "- What is the probability that no cars drive up in the noon hour?\n",
    "\n",
    "- What is the probability that 3 or more cars come through the drive through?\n",
    "\n",
    "- How likely is it that the drive through gets at least 1 car?"
   ]
  },
  {
   "cell_type": "code",
   "execution_count": 19,
   "id": "c19e2f79",
   "metadata": {},
   "outputs": [
    {
     "data": {
      "text/plain": [
       "Text(0, 0.5, 'P(X)')"
      ]
     },
     "execution_count": 19,
     "metadata": {},
     "output_type": "execute_result"
    },
    {
     "data": {
      "image/png": "[encoded data removed]",
      "text/plain": [
       "<Figure size 432x288 with 1 Axes>"
      ]
     },
     "metadata": {
      "needs_background": "light"
     },
     "output_type": "display_data"
    }
   ],
   "source": [
    "cars = stats.poisson(2)\n",
    "\n",
    "x = np.arange(0,12)\n",
    "y = cars.pmf(x)\n",
    "\n",
    "plt.bar(x, y, color='blue', edgecolor='white', width=1)\n",
    "plt.xlabel('Cars')\n",
    "plt.ylabel('P(X)')"
   ]
  },
  {
   "cell_type": "code",
   "execution_count": 20,
   "id": "de42ba0f",
   "metadata": {},
   "outputs": [
    {
     "data": {
      "text/plain": [
       "0.1278"
      ]
     },
     "execution_count": 20,
     "metadata": {},
     "output_type": "execute_result"
    }
   ],
   "source": [
    "# What is the probability that no cars drive up in the noon hour?\n",
    "\n",
    "avg = 2\n",
    "\n",
    "stats.poisson(avg).pmf(0)\n",
    "\n",
    "cars = stats.poisson(2)\n",
    "\n",
    "(cars.rvs(10_000) == 0).mean()\n"
   ]
  },
  {
   "cell_type": "code",
   "execution_count": 21,
   "id": "fae3fb20",
   "metadata": {},
   "outputs": [
    {
     "data": {
      "text/plain": [
       "(0.32332358381693654, 0.3241)"
      ]
     },
     "execution_count": 21,
     "metadata": {},
     "output_type": "execute_result"
    }
   ],
   "source": [
    "# What is the probability that 3 or more cars come through the drive through?\n",
    "\n",
    "estimated = cars.sf(2)\n",
    "simulated = (cars.rvs(10_000) >= 3).mean()\n",
    "\n",
    "estimated, simulated"
   ]
  },
  {
   "cell_type": "code",
   "execution_count": 22,
   "id": "2693cea3",
   "metadata": {},
   "outputs": [
    {
     "data": {
      "text/plain": [
       "(0.8646647167633873, 0.8661)"
      ]
     },
     "execution_count": 22,
     "metadata": {},
     "output_type": "execute_result"
    }
   ],
   "source": [
    "# How likely is it that the drive through gets at least 1 car?\n",
    "\n",
    "\n",
    "estimated = cars.sf(0)\n",
    "simulated = (cars.rvs(10_000) > 0).mean()\n",
    "\n",
    "estimated, simulated"
   ]
  },
  {
   "cell_type": "raw",
   "id": "238f8820",
   "metadata": {},
   "source": [
    "2) Grades of State University graduates are normally distributed with a mean of 3.0 and a standard deviation of .3. Calculate the following:\n",
    "\n",
    "- What grade point average is required to be in the top 5% of the graduating class?\n",
    "\n",
    "- What GPA constitutes the bottom 15% of the class?\n",
    "\n",
    "- An eccentric alumnus left scholarship money for students in the third decile from the bottom of their class. Determine the range of the third decile. Would a student with a 2.8 grade point average qualify for this scholarship?\n",
    "\n",
    "- If I have a GPA of 3.5, what percentile am I in?"
   ]
  },
  {
   "cell_type": "code",
   "execution_count": 23,
   "id": "d0e95d3c",
   "metadata": {},
   "outputs": [],
   "source": [
    "trials = cols = 100_000\n",
    "\n",
    "samples = rows = 1000\n",
    "\n",
    "mean = 3.0\n",
    "\n",
    "std = .3\n",
    "\n",
    "grades = np.random.normal(mean,std,trials * samples).reshape(rows, cols)\n",
    "\n",
    "grades = pd.DataFrame(grades)\n",
    "\n"
   ]
  },
  {
   "cell_type": "code",
   "execution_count": 24,
   "id": "27d5bf08",
   "metadata": {},
   "outputs": [
    {
     "data": {
      "text/html": [
       "<div>\n",
       "<style scoped>\n",
       "    .dataframe tbody tr th:only-of-type {\n",
       "        vertical-align: middle;\n",
       "    }\n",
       "\n",
       "    .dataframe tbody tr th {\n",
       "        vertical-align: top;\n",
       "    }\n",
       "\n",
       "    .dataframe thead th {\n",
       "        text-align: right;\n",
       "    }\n",
       "</style>\n",
       "<table border=\"1\" class=\"dataframe\">\n",
       "  <thead>\n",
       "    <tr style=\"text-align: right;\">\n",
       "      <th></th>\n",
       "      <th>0</th>\n",
       "      <th>1</th>\n",
       "      <th>2</th>\n",
       "      <th>3</th>\n",
       "      <th>4</th>\n",
       "      <th>5</th>\n",
       "      <th>6</th>\n",
       "      <th>7</th>\n",
       "      <th>8</th>\n",
       "      <th>9</th>\n",
       "      <th>...</th>\n",
       "      <th>99990</th>\n",
       "      <th>99991</th>\n",
       "      <th>99992</th>\n",
       "      <th>99993</th>\n",
       "      <th>99994</th>\n",
       "      <th>99995</th>\n",
       "      <th>99996</th>\n",
       "      <th>99997</th>\n",
       "      <th>99998</th>\n",
       "      <th>99999</th>\n",
       "    </tr>\n",
       "  </thead>\n",
       "  <tbody>\n",
       "    <tr>\n",
       "      <th>0</th>\n",
       "      <td>2.810294</td>\n",
       "      <td>3.164460</td>\n",
       "      <td>2.823419</td>\n",
       "      <td>3.096177</td>\n",
       "      <td>2.930330</td>\n",
       "      <td>3.017793</td>\n",
       "      <td>3.029724</td>\n",
       "      <td>3.510251</td>\n",
       "      <td>3.448770</td>\n",
       "      <td>2.950380</td>\n",
       "      <td>...</td>\n",
       "      <td>3.095228</td>\n",
       "      <td>2.729045</td>\n",
       "      <td>2.642665</td>\n",
       "      <td>2.757642</td>\n",
       "      <td>2.777992</td>\n",
       "      <td>3.063398</td>\n",
       "      <td>3.729435</td>\n",
       "      <td>3.062659</td>\n",
       "      <td>3.315946</td>\n",
       "      <td>3.124978</td>\n",
       "    </tr>\n",
       "    <tr>\n",
       "      <th>1</th>\n",
       "      <td>2.741922</td>\n",
       "      <td>3.040460</td>\n",
       "      <td>2.829056</td>\n",
       "      <td>2.860802</td>\n",
       "      <td>3.298287</td>\n",
       "      <td>2.745653</td>\n",
       "      <td>3.013536</td>\n",
       "      <td>3.055761</td>\n",
       "      <td>3.243326</td>\n",
       "      <td>2.923996</td>\n",
       "      <td>...</td>\n",
       "      <td>3.239238</td>\n",
       "      <td>3.013938</td>\n",
       "      <td>2.731042</td>\n",
       "      <td>3.006314</td>\n",
       "      <td>3.041677</td>\n",
       "      <td>2.467119</td>\n",
       "      <td>3.361240</td>\n",
       "      <td>2.834595</td>\n",
       "      <td>2.803958</td>\n",
       "      <td>3.106929</td>\n",
       "    </tr>\n",
       "    <tr>\n",
       "      <th>2</th>\n",
       "      <td>2.408860</td>\n",
       "      <td>3.250370</td>\n",
       "      <td>2.494851</td>\n",
       "      <td>2.865873</td>\n",
       "      <td>3.127899</td>\n",
       "      <td>2.782734</td>\n",
       "      <td>2.552128</td>\n",
       "      <td>3.137128</td>\n",
       "      <td>2.433791</td>\n",
       "      <td>3.060607</td>\n",
       "      <td>...</td>\n",
       "      <td>3.022710</td>\n",
       "      <td>3.287468</td>\n",
       "      <td>3.356771</td>\n",
       "      <td>3.395506</td>\n",
       "      <td>3.231131</td>\n",
       "      <td>2.682374</td>\n",
       "      <td>3.479173</td>\n",
       "      <td>2.752997</td>\n",
       "      <td>2.889920</td>\n",
       "      <td>2.671445</td>\n",
       "    </tr>\n",
       "    <tr>\n",
       "      <th>3</th>\n",
       "      <td>2.854834</td>\n",
       "      <td>2.705768</td>\n",
       "      <td>2.809176</td>\n",
       "      <td>3.444977</td>\n",
       "      <td>2.451680</td>\n",
       "      <td>3.446887</td>\n",
       "      <td>2.995362</td>\n",
       "      <td>3.027001</td>\n",
       "      <td>2.624913</td>\n",
       "      <td>2.926247</td>\n",
       "      <td>...</td>\n",
       "      <td>2.746832</td>\n",
       "      <td>2.748512</td>\n",
       "      <td>3.167533</td>\n",
       "      <td>3.057918</td>\n",
       "      <td>2.865139</td>\n",
       "      <td>3.282742</td>\n",
       "      <td>2.955608</td>\n",
       "      <td>3.223637</td>\n",
       "      <td>3.156970</td>\n",
       "      <td>2.474216</td>\n",
       "    </tr>\n",
       "    <tr>\n",
       "      <th>4</th>\n",
       "      <td>2.569081</td>\n",
       "      <td>3.225386</td>\n",
       "      <td>3.514250</td>\n",
       "      <td>3.406731</td>\n",
       "      <td>2.539840</td>\n",
       "      <td>2.458728</td>\n",
       "      <td>2.699906</td>\n",
       "      <td>2.792314</td>\n",
       "      <td>3.223697</td>\n",
       "      <td>3.126655</td>\n",
       "      <td>...</td>\n",
       "      <td>3.093067</td>\n",
       "      <td>3.130013</td>\n",
       "      <td>3.181015</td>\n",
       "      <td>3.070338</td>\n",
       "      <td>2.623719</td>\n",
       "      <td>3.281848</td>\n",
       "      <td>2.959511</td>\n",
       "      <td>3.287767</td>\n",
       "      <td>2.791206</td>\n",
       "      <td>3.646145</td>\n",
       "    </tr>\n",
       "    <tr>\n",
       "      <th>...</th>\n",
       "      <td>...</td>\n",
       "      <td>...</td>\n",
       "      <td>...</td>\n",
       "      <td>...</td>\n",
       "      <td>...</td>\n",
       "      <td>...</td>\n",
       "      <td>...</td>\n",
       "      <td>...</td>\n",
       "      <td>...</td>\n",
       "      <td>...</td>\n",
       "      <td>...</td>\n",
       "      <td>...</td>\n",
       "      <td>...</td>\n",
       "      <td>...</td>\n",
       "      <td>...</td>\n",
       "      <td>...</td>\n",
       "      <td>...</td>\n",
       "      <td>...</td>\n",
       "      <td>...</td>\n",
       "      <td>...</td>\n",
       "      <td>...</td>\n",
       "    </tr>\n",
       "    <tr>\n",
       "      <th>995</th>\n",
       "      <td>3.123163</td>\n",
       "      <td>2.875250</td>\n",
       "      <td>3.119076</td>\n",
       "      <td>3.370765</td>\n",
       "      <td>2.890131</td>\n",
       "      <td>3.456945</td>\n",
       "      <td>2.850025</td>\n",
       "      <td>2.529132</td>\n",
       "      <td>3.179529</td>\n",
       "      <td>2.946756</td>\n",
       "      <td>...</td>\n",
       "      <td>3.071774</td>\n",
       "      <td>2.959217</td>\n",
       "      <td>3.136409</td>\n",
       "      <td>3.495125</td>\n",
       "      <td>3.097314</td>\n",
       "      <td>2.722947</td>\n",
       "      <td>2.938047</td>\n",
       "      <td>3.203995</td>\n",
       "      <td>3.067974</td>\n",
       "      <td>2.424311</td>\n",
       "    </tr>\n",
       "    <tr>\n",
       "      <th>996</th>\n",
       "      <td>2.551434</td>\n",
       "      <td>2.957189</td>\n",
       "      <td>2.877095</td>\n",
       "      <td>2.667601</td>\n",
       "      <td>2.877148</td>\n",
       "      <td>3.296641</td>\n",
       "      <td>3.122001</td>\n",
       "      <td>2.935880</td>\n",
       "      <td>2.980727</td>\n",
       "      <td>2.899917</td>\n",
       "      <td>...</td>\n",
       "      <td>2.948383</td>\n",
       "      <td>3.040636</td>\n",
       "      <td>3.737176</td>\n",
       "      <td>2.806878</td>\n",
       "      <td>3.099262</td>\n",
       "      <td>2.694050</td>\n",
       "      <td>2.991723</td>\n",
       "      <td>3.206489</td>\n",
       "      <td>3.008293</td>\n",
       "      <td>3.203374</td>\n",
       "    </tr>\n",
       "    <tr>\n",
       "      <th>997</th>\n",
       "      <td>2.948224</td>\n",
       "      <td>3.097292</td>\n",
       "      <td>2.713357</td>\n",
       "      <td>2.854712</td>\n",
       "      <td>3.727990</td>\n",
       "      <td>2.720324</td>\n",
       "      <td>3.091422</td>\n",
       "      <td>3.023676</td>\n",
       "      <td>3.393773</td>\n",
       "      <td>2.994726</td>\n",
       "      <td>...</td>\n",
       "      <td>3.557856</td>\n",
       "      <td>2.832072</td>\n",
       "      <td>3.121779</td>\n",
       "      <td>3.831909</td>\n",
       "      <td>3.308557</td>\n",
       "      <td>2.764454</td>\n",
       "      <td>3.586705</td>\n",
       "      <td>3.319066</td>\n",
       "      <td>2.889084</td>\n",
       "      <td>3.177826</td>\n",
       "    </tr>\n",
       "    <tr>\n",
       "      <th>998</th>\n",
       "      <td>2.517667</td>\n",
       "      <td>3.357240</td>\n",
       "      <td>3.311103</td>\n",
       "      <td>3.004878</td>\n",
       "      <td>2.621762</td>\n",
       "      <td>2.698650</td>\n",
       "      <td>2.539442</td>\n",
       "      <td>3.476062</td>\n",
       "      <td>3.198252</td>\n",
       "      <td>3.214697</td>\n",
       "      <td>...</td>\n",
       "      <td>3.386740</td>\n",
       "      <td>3.278946</td>\n",
       "      <td>3.132987</td>\n",
       "      <td>3.259488</td>\n",
       "      <td>3.136561</td>\n",
       "      <td>2.850485</td>\n",
       "      <td>2.993478</td>\n",
       "      <td>2.445264</td>\n",
       "      <td>2.278049</td>\n",
       "      <td>3.315282</td>\n",
       "    </tr>\n",
       "    <tr>\n",
       "      <th>999</th>\n",
       "      <td>2.730545</td>\n",
       "      <td>2.898842</td>\n",
       "      <td>3.415549</td>\n",
       "      <td>3.264989</td>\n",
       "      <td>3.043134</td>\n",
       "      <td>3.204739</td>\n",
       "      <td>2.685092</td>\n",
       "      <td>3.117512</td>\n",
       "      <td>2.868458</td>\n",
       "      <td>2.618966</td>\n",
       "      <td>...</td>\n",
       "      <td>3.795729</td>\n",
       "      <td>2.837695</td>\n",
       "      <td>3.347085</td>\n",
       "      <td>2.591879</td>\n",
       "      <td>2.791800</td>\n",
       "      <td>2.367455</td>\n",
       "      <td>2.643653</td>\n",
       "      <td>2.987358</td>\n",
       "      <td>2.800787</td>\n",
       "      <td>2.719794</td>\n",
       "    </tr>\n",
       "  </tbody>\n",
       "</table>\n",
       "<p>1000 rows × 100000 columns</p>\n",
       "</div>"
      ],
      "text/plain": [
       "        0         1         2         3         4         5         6      \\\n",
       "0    2.810294  3.164460  2.823419  3.096177  2.930330  3.017793  3.029724   \n",
       "1    2.741922  3.040460  2.829056  2.860802  3.298287  2.745653  3.013536   \n",
       "2    2.408860  3.250370  2.494851  2.865873  3.127899  2.782734  2.552128   \n",
       "3    2.854834  2.705768  2.809176  3.444977  2.451680  3.446887  2.995362   \n",
       "4    2.569081  3.225386  3.514250  3.406731  2.539840  2.458728  2.699906   \n",
       "..        ...       ...       ...       ...       ...       ...       ...   \n",
       "995  3.123163  2.875250  3.119076  3.370765  2.890131  3.456945  2.850025   \n",
       "996  2.551434  2.957189  2.877095  2.667601  2.877148  3.296641  3.122001   \n",
       "997  2.948224  3.097292  2.713357  2.854712  3.727990  2.720324  3.091422   \n",
       "998  2.517667  3.357240  3.311103  3.004878  2.621762  2.698650  2.539442   \n",
       "999  2.730545  2.898842  3.415549  3.264989  3.043134  3.204739  2.685092   \n",
       "\n",
       "        7         8         9      ...     99990     99991     99992  \\\n",
       "0    3.510251  3.448770  2.950380  ...  3.095228  2.729045  2.642665   \n",
       "1    3.055761  3.243326  2.923996  ...  3.239238  3.013938  2.731042   \n",
       "2    3.137128  2.433791  3.060607  ...  3.022710  3.287468  3.356771   \n",
       "3    3.027001  2.624913  2.926247  ...  2.746832  2.748512  3.167533   \n",
       "4    2.792314  3.223697  3.126655  ...  3.093067  3.130013  3.181015   \n",
       "..        ...       ...       ...  ...       ...       ...       ...   \n",
       "995  2.529132  3.179529  2.946756  ...  3.071774  2.959217  3.136409   \n",
       "996  2.935880  2.980727  2.899917  ...  2.948383  3.040636  3.737176   \n",
       "997  3.023676  3.393773  2.994726  ...  3.557856  2.832072  3.121779   \n",
       "998  3.476062  3.198252  3.214697  ...  3.386740  3.278946  3.132987   \n",
       "999  3.117512  2.868458  2.618966  ...  3.795729  2.837695  3.347085   \n",
       "\n",
       "        99993     99994     99995     99996     99997     99998     99999  \n",
       "0    2.757642  2.777992  3.063398  3.729435  3.062659  3.315946  3.124978  \n",
       "1    3.006314  3.041677  2.467119  3.361240  2.834595  2.803958  3.106929  \n",
       "2    3.395506  3.231131  2.682374  3.479173  2.752997  2.889920  2.671445  \n",
       "3    3.057918  2.865139  3.282742  2.955608  3.223637  3.156970  2.474216  \n",
       "4    3.070338  2.623719  3.281848  2.959511  3.287767  2.791206  3.646145  \n",
       "..        ...       ...       ...       ...       ...       ...       ...  \n",
       "995  3.495125  3.097314  2.722947  2.938047  3.203995  3.067974  2.424311  \n",
       "996  2.806878  3.099262  2.694050  2.991723  3.206489  3.008293  3.203374  \n",
       "997  3.831909  3.308557  2.764454  3.586705  3.319066  2.889084  3.177826  \n",
       "998  3.259488  3.136561  2.850485  2.993478  2.445264  2.278049  3.315282  \n",
       "999  2.591879  2.791800  2.367455  2.643653  2.987358  2.800787  2.719794  \n",
       "\n",
       "[1000 rows x 100000 columns]"
      ]
     },
     "execution_count": 24,
     "metadata": {},
     "output_type": "execute_result"
    }
   ],
   "source": [
    "grades"
   ]
  },
  {
   "cell_type": "code",
   "execution_count": 25,
   "id": "d044ef35",
   "metadata": {},
   "outputs": [],
   "source": [
    "grades = grades.apply(lambda x: x.sort_values().values)\n",
    "\n",
    "grades = grades.loc[[95]].mean(axis=0)\n",
    "\n"
   ]
  },
  {
   "cell_type": "code",
   "execution_count": 26,
   "id": "bccd94b3",
   "metadata": {},
   "outputs": [
    {
     "data": {
      "text/plain": [
       "0    2.595713\n",
       "1    2.623330\n",
       "2    2.602704\n",
       "3    2.623527\n",
       "4    2.587529\n",
       "dtype: float64"
      ]
     },
     "execution_count": 26,
     "metadata": {},
     "output_type": "execute_result"
    }
   ],
   "source": [
    "grades.head()"
   ]
  },
  {
   "cell_type": "code",
   "execution_count": 27,
   "id": "d08f748f",
   "metadata": {},
   "outputs": [
    {
     "data": {
      "text/plain": [
       "2.6079554847520163"
      ]
     },
     "execution_count": 27,
     "metadata": {},
     "output_type": "execute_result"
    }
   ],
   "source": [
    "top_five_percent = grades.mean(axis=0)\n",
    "\n",
    "top_five_percent\n",
    "\n"
   ]
  },
  {
   "cell_type": "code",
   "execution_count": 28,
   "id": "5197f226",
   "metadata": {},
   "outputs": [
    {
     "data": {
      "text/plain": [
       "3.4934560880854417"
      ]
     },
     "execution_count": 28,
     "metadata": {},
     "output_type": "execute_result"
    }
   ],
   "source": [
    "# What grade point average is required to be in the top 5% of the graduating class?\n",
    "\n",
    "stats.norm(3,.3).isf(.05)"
   ]
  },
  {
   "cell_type": "code",
   "execution_count": 29,
   "id": "e7f4cd78",
   "metadata": {},
   "outputs": [
    {
     "data": {
      "text/plain": [
       "2.689069983151863"
      ]
     },
     "execution_count": 29,
     "metadata": {},
     "output_type": "execute_result"
    }
   ],
   "source": [
    "# What GPA constitutes the bottom 15% of the class?\n",
    "\n",
    "stats.norm(3,.3).ppf(.15)"
   ]
  },
  {
   "cell_type": "raw",
   "id": "3fb25a6d",
   "metadata": {},
   "source": [
    "# An eccentric alumnus left scholarship money for students in the third decile from the bottom of their class. \n",
    "# Determine the range of the third decile. \n",
    "# Would a student with a 2.8 grade point average qualify for this scholarship?\n",
    "\n",
    "1st decile: 0-10\n",
    "2st decile:10-20\n",
    "3st decile:20-30"
   ]
  },
  {
   "cell_type": "code",
   "execution_count": 30,
   "id": "65192bd7",
   "metadata": {},
   "outputs": [
    {
     "name": "stdout",
     "output_type": "stream",
     "text": [
      "The range is between 2.5081378016029197 and 2.5968930498834837\n"
     ]
    }
   ],
   "source": [
    "trials = cols = 100_000\n",
    "\n",
    "samples = rows = 1000\n",
    "\n",
    "mean = 3.0  \n",
    "\n",
    "std = .3\n",
    "\n",
    "grades = np.random.normal(mean,std,trials * samples).reshape(rows, cols)\n",
    "\n",
    "grades = pd.DataFrame(grades)\n",
    "\n",
    "grades = grades.apply(lambda x: x.sort_values().values)\n",
    "\n",
    "lower_range = grades.loc[[50]].mean(axis=0)\n",
    "\n",
    "lower_range_mean = lower_range.mean()\n",
    "\n",
    "lower_range_mean\n",
    "\n",
    "upper_range = grades.loc[[89]].mean(axis=0)\n",
    "\n",
    "upper_range_mean = upper_range.mean()\n",
    "\n",
    "upper_range_mean\n",
    "\n",
    "print(\"The range is between \" + str(lower_range_mean) + \" and \" + str(upper_range_mean))\n",
    "\n"
   ]
  },
  {
   "cell_type": "code",
   "execution_count": 31,
   "id": "12a1cfc0",
   "metadata": {},
   "outputs": [
    {
     "ename": "NameError",
     "evalue": "name 'dist' is not defined",
     "output_type": "error",
     "traceback": [
      "\u001b[0;31m---------------------------------------------------------------------------\u001b[0m",
      "\u001b[0;31mNameError\u001b[0m                                 Traceback (most recent call last)",
      "\u001b[0;32m/var/folders/vb/2f5pphz943qdprdg5zvhqsbm0000gp/T/ipykernel_38713/1143582244.py\u001b[0m in \u001b[0;36m<module>\u001b[0;34m\u001b[0m\n\u001b[1;32m      1\u001b[0m \u001b[0mgrades\u001b[0m \u001b[0;34m=\u001b[0m \u001b[0mnorm\u001b[0m\u001b[0;34m(\u001b[0m\u001b[0mmean\u001b[0m\u001b[0;34m,\u001b[0m\u001b[0mstd\u001b[0m\u001b[0;34m)\u001b[0m\u001b[0;34m\u001b[0m\u001b[0;34m\u001b[0m\u001b[0m\n\u001b[1;32m      2\u001b[0m \u001b[0;34m\u001b[0m\u001b[0m\n\u001b[0;32m----> 3\u001b[0;31m \u001b[0mlower\u001b[0m \u001b[0;34m=\u001b[0m \u001b[0mdist\u001b[0m\u001b[0;34m.\u001b[0m\u001b[0mppf\u001b[0m\u001b[0;34m(\u001b[0m\u001b[0;36m.21\u001b[0m\u001b[0;34m)\u001b[0m\u001b[0;34m\u001b[0m\u001b[0;34m\u001b[0m\u001b[0m\n\u001b[0m\u001b[1;32m      4\u001b[0m \u001b[0;34m\u001b[0m\u001b[0m\n\u001b[1;32m      5\u001b[0m \u001b[0mupper\u001b[0m \u001b[0;34m=\u001b[0m \u001b[0mdist\u001b[0m\u001b[0;34m.\u001b[0m\u001b[0mppf\u001b[0m\u001b[0;34m(\u001b[0m\u001b[0;36m.30\u001b[0m\u001b[0;34m)\u001b[0m\u001b[0;34m\u001b[0m\u001b[0;34m\u001b[0m\u001b[0m\n",
      "\u001b[0;31mNameError\u001b[0m: name 'dist' is not defined"
     ]
    }
   ],
   "source": [
    "grades = norm(mean,std)\n",
    "\n",
    "lower = dist.ppf(.21)\n",
    "\n",
    "upper = dist.ppf(.30)\n",
    "\n",
    "print(\"The range is between \" + str(lower) + \" and \" + str(upper))\n",
    "\n"
   ]
  },
  {
   "cell_type": "code",
   "execution_count": null,
   "id": "6f94332e",
   "metadata": {},
   "outputs": [],
   "source": [
    "# If I have a GPA of 3.5, what percentile am I in?\n",
    "\n",
    "trials = cols = 100_000\n",
    "\n",
    "samples = rows = 1000\n",
    "\n",
    "mean = 3.0  \n",
    "\n",
    "std = .3\n",
    "\n",
    "grades = np.random.normal(mean, std,trials * samples).reshape(rows, cols)\n",
    "\n",
    "grades = pd.DataFrame(grades)\n",
    "\n",
    "(grades >= 3.5).sum(axis=1).mean()\n",
    "\n",
    "grades = norm(mean, std)\n",
    "\n",
    "grades.cdf(3.5)\n",
    "\n"
   ]
  },
  {
   "cell_type": "code",
   "execution_count": null,
   "id": "38049ab8",
   "metadata": {},
   "outputs": [],
   "source": [
    "stats.norm(3,.3).cdf(3.5)"
   ]
  },
  {
   "cell_type": "code",
   "execution_count": null,
   "id": "82e7991b",
   "metadata": {},
   "outputs": [],
   "source": [
    "(np.random.normal(3,.3, 1000000)< 3.5).mean()"
   ]
  },
  {
   "cell_type": "raw",
   "id": "606786e8",
   "metadata": {},
   "source": [
    "3) A marketing website has an average click-through rate of 2%. One day they observe 4326 visitors and 97 click-throughs. How likely is it that this many people or more click through?"
   ]
  },
  {
   "cell_type": "code",
   "execution_count": 34,
   "id": "48ef9b89",
   "metadata": {},
   "outputs": [
    {
     "data": {
      "text/plain": [
       "0.13975823631416445"
      ]
     },
     "execution_count": 34,
     "metadata": {},
     "output_type": "execute_result"
    }
   ],
   "source": [
    "trials = cols = 100_000\n",
    "\n",
    "samples = rows = 1000\n",
    "\n",
    "rate = .02 \n",
    "\n",
    "visitors = 4326\n",
    "\n",
    "clicks = binom(n, rate)\n",
    "\n",
    "clicks.sf(96)"
   ]
  },
  {
   "cell_type": "code",
   "execution_count": 32,
   "id": "f73e3218",
   "metadata": {},
   "outputs": [
    {
     "data": {
      "text/plain": [
       "0.13975823631416445"
      ]
     },
     "execution_count": 32,
     "metadata": {},
     "output_type": "execute_result"
    }
   ],
   "source": [
    "# binom distribution\n",
    "\n",
    "n = 4326\n",
    "p = 0.02\n",
    "\n",
    "stats.binom(n,p).sf(96)"
   ]
  },
  {
   "cell_type": "code",
   "execution_count": 33,
   "id": "6775b29e",
   "metadata": {},
   "outputs": [
    {
     "data": {
      "text/plain": [
       "0.13945"
      ]
     },
     "execution_count": 33,
     "metadata": {},
     "output_type": "execute_result"
    }
   ],
   "source": [
    "# How likely is it that this many people or more click through?\n",
    "\n",
    "trials = rows = 100_000\n",
    "\n",
    "samples = cols = 4326\n",
    "\n",
    "data = np.random.uniform(1,101, samples * trials).reshape(rows,cols)\n",
    "\n",
    "data = pd.DataFrame(data)\n",
    "\n",
    "(((data < 3).sum(axis=1)) >= 97).sum() / trials"
   ]
  },
  {
   "cell_type": "code",
   "execution_count": 39,
   "id": "f257869f",
   "metadata": {},
   "outputs": [
    {
     "data": {
      "text/plain": [
       "0.14211867659283192"
      ]
     },
     "execution_count": 39,
     "metadata": {},
     "output_type": "execute_result"
    }
   ],
   "source": [
    "# Using poisson appox\n",
    "\n",
    "𝜆 = n * p\n",
    "\n",
    "stats.poisson(𝜆).sf(96)"
   ]
  },
  {
   "cell_type": "raw",
   "id": "61d67a71",
   "metadata": {},
   "source": [
    "You are working on some statistics homework consisting of 100 questions where all of the answers are a probability rounded to the hundreths place. Looking to save time, you put down random probabilities as the answer to each question.\n",
    "\n",
    "-What is the probability that at least one of your first 60 answers is correct?"
   ]
  },
  {
   "cell_type": "code",
   "execution_count": 40,
   "id": "64a51114",
   "metadata": {},
   "outputs": [
    {
     "data": {
      "text/plain": [
       "0.45284335760923855"
      ]
     },
     "execution_count": 40,
     "metadata": {},
     "output_type": "execute_result"
    }
   ],
   "source": [
    "n = 60\n",
    "p = .01\n",
    "\n",
    "stats.binom(n,p).sf(0)"
   ]
  },
  {
   "cell_type": "code",
   "execution_count": 41,
   "id": "6f45c327",
   "metadata": {},
   "outputs": [
    {
     "data": {
      "text/html": [
       "<div>\n",
       "<style scoped>\n",
       "    .dataframe tbody tr th:only-of-type {\n",
       "        vertical-align: middle;\n",
       "    }\n",
       "\n",
       "    .dataframe tbody tr th {\n",
       "        vertical-align: top;\n",
       "    }\n",
       "\n",
       "    .dataframe thead th {\n",
       "        text-align: right;\n",
       "    }\n",
       "</style>\n",
       "<table border=\"1\" class=\"dataframe\">\n",
       "  <thead>\n",
       "    <tr style=\"text-align: right;\">\n",
       "      <th></th>\n",
       "      <th>0</th>\n",
       "      <th>1</th>\n",
       "      <th>2</th>\n",
       "      <th>3</th>\n",
       "      <th>4</th>\n",
       "      <th>5</th>\n",
       "      <th>6</th>\n",
       "      <th>7</th>\n",
       "      <th>8</th>\n",
       "      <th>9</th>\n",
       "      <th>...</th>\n",
       "      <th>50</th>\n",
       "      <th>51</th>\n",
       "      <th>52</th>\n",
       "      <th>53</th>\n",
       "      <th>54</th>\n",
       "      <th>55</th>\n",
       "      <th>56</th>\n",
       "      <th>57</th>\n",
       "      <th>58</th>\n",
       "      <th>59</th>\n",
       "    </tr>\n",
       "  </thead>\n",
       "  <tbody>\n",
       "    <tr>\n",
       "      <th>0</th>\n",
       "      <td>96.253452</td>\n",
       "      <td>62.757069</td>\n",
       "      <td>40.142981</td>\n",
       "      <td>69.163993</td>\n",
       "      <td>50.841184</td>\n",
       "      <td>95.406471</td>\n",
       "      <td>6.354248</td>\n",
       "      <td>12.010283</td>\n",
       "      <td>65.292732</td>\n",
       "      <td>82.820283</td>\n",
       "      <td>...</td>\n",
       "      <td>88.575584</td>\n",
       "      <td>4.651052</td>\n",
       "      <td>70.272635</td>\n",
       "      <td>54.813610</td>\n",
       "      <td>83.718608</td>\n",
       "      <td>76.360903</td>\n",
       "      <td>34.016705</td>\n",
       "      <td>55.177919</td>\n",
       "      <td>23.198245</td>\n",
       "      <td>91.794302</td>\n",
       "    </tr>\n",
       "    <tr>\n",
       "      <th>1</th>\n",
       "      <td>2.629936</td>\n",
       "      <td>65.371483</td>\n",
       "      <td>76.391349</td>\n",
       "      <td>94.303207</td>\n",
       "      <td>35.681682</td>\n",
       "      <td>4.563115</td>\n",
       "      <td>78.210715</td>\n",
       "      <td>94.992863</td>\n",
       "      <td>47.004137</td>\n",
       "      <td>52.831466</td>\n",
       "      <td>...</td>\n",
       "      <td>22.289092</td>\n",
       "      <td>36.462429</td>\n",
       "      <td>36.274236</td>\n",
       "      <td>42.093661</td>\n",
       "      <td>90.927220</td>\n",
       "      <td>32.379016</td>\n",
       "      <td>46.029676</td>\n",
       "      <td>52.662224</td>\n",
       "      <td>97.229872</td>\n",
       "      <td>85.692053</td>\n",
       "    </tr>\n",
       "    <tr>\n",
       "      <th>2</th>\n",
       "      <td>9.812511</td>\n",
       "      <td>50.586957</td>\n",
       "      <td>63.506835</td>\n",
       "      <td>2.091365</td>\n",
       "      <td>47.274988</td>\n",
       "      <td>47.168109</td>\n",
       "      <td>48.586209</td>\n",
       "      <td>93.769075</td>\n",
       "      <td>94.112211</td>\n",
       "      <td>6.843430</td>\n",
       "      <td>...</td>\n",
       "      <td>39.879841</td>\n",
       "      <td>72.910100</td>\n",
       "      <td>14.574996</td>\n",
       "      <td>28.213642</td>\n",
       "      <td>92.900342</td>\n",
       "      <td>77.666207</td>\n",
       "      <td>94.530146</td>\n",
       "      <td>16.432043</td>\n",
       "      <td>34.339560</td>\n",
       "      <td>6.831713</td>\n",
       "    </tr>\n",
       "    <tr>\n",
       "      <th>3</th>\n",
       "      <td>3.872918</td>\n",
       "      <td>96.288698</td>\n",
       "      <td>72.612410</td>\n",
       "      <td>6.417324</td>\n",
       "      <td>26.513371</td>\n",
       "      <td>21.413180</td>\n",
       "      <td>3.848833</td>\n",
       "      <td>92.629927</td>\n",
       "      <td>24.115286</td>\n",
       "      <td>30.937412</td>\n",
       "      <td>...</td>\n",
       "      <td>73.041167</td>\n",
       "      <td>71.400297</td>\n",
       "      <td>96.198021</td>\n",
       "      <td>84.509041</td>\n",
       "      <td>37.687151</td>\n",
       "      <td>44.834683</td>\n",
       "      <td>3.801112</td>\n",
       "      <td>63.575658</td>\n",
       "      <td>56.113665</td>\n",
       "      <td>4.458661</td>\n",
       "    </tr>\n",
       "    <tr>\n",
       "      <th>4</th>\n",
       "      <td>17.888137</td>\n",
       "      <td>35.170874</td>\n",
       "      <td>52.315295</td>\n",
       "      <td>92.011417</td>\n",
       "      <td>19.274170</td>\n",
       "      <td>40.146565</td>\n",
       "      <td>33.598432</td>\n",
       "      <td>77.999656</td>\n",
       "      <td>95.621051</td>\n",
       "      <td>92.168739</td>\n",
       "      <td>...</td>\n",
       "      <td>6.714682</td>\n",
       "      <td>59.583488</td>\n",
       "      <td>35.758634</td>\n",
       "      <td>57.351311</td>\n",
       "      <td>92.363932</td>\n",
       "      <td>11.578698</td>\n",
       "      <td>96.757676</td>\n",
       "      <td>54.913116</td>\n",
       "      <td>7.191137</td>\n",
       "      <td>19.970514</td>\n",
       "    </tr>\n",
       "  </tbody>\n",
       "</table>\n",
       "<p>5 rows × 60 columns</p>\n",
       "</div>"
      ],
      "text/plain": [
       "          0          1          2          3          4          5   \\\n",
       "0  96.253452  62.757069  40.142981  69.163993  50.841184  95.406471   \n",
       "1   2.629936  65.371483  76.391349  94.303207  35.681682   4.563115   \n",
       "2   9.812511  50.586957  63.506835   2.091365  47.274988  47.168109   \n",
       "3   3.872918  96.288698  72.612410   6.417324  26.513371  21.413180   \n",
       "4  17.888137  35.170874  52.315295  92.011417  19.274170  40.146565   \n",
       "\n",
       "          6          7          8          9   ...         50         51  \\\n",
       "0   6.354248  12.010283  65.292732  82.820283  ...  88.575584   4.651052   \n",
       "1  78.210715  94.992863  47.004137  52.831466  ...  22.289092  36.462429   \n",
       "2  48.586209  93.769075  94.112211   6.843430  ...  39.879841  72.910100   \n",
       "3   3.848833  92.629927  24.115286  30.937412  ...  73.041167  71.400297   \n",
       "4  33.598432  77.999656  95.621051  92.168739  ...   6.714682  59.583488   \n",
       "\n",
       "          52         53         54         55         56         57  \\\n",
       "0  70.272635  54.813610  83.718608  76.360903  34.016705  55.177919   \n",
       "1  36.274236  42.093661  90.927220  32.379016  46.029676  52.662224   \n",
       "2  14.574996  28.213642  92.900342  77.666207  94.530146  16.432043   \n",
       "3  96.198021  84.509041  37.687151  44.834683   3.801112  63.575658   \n",
       "4  35.758634  57.351311  92.363932  11.578698  96.757676  54.913116   \n",
       "\n",
       "          58         59  \n",
       "0  23.198245  91.794302  \n",
       "1  97.229872  85.692053  \n",
       "2  34.339560   6.831713  \n",
       "3  56.113665   4.458661  \n",
       "4   7.191137  19.970514  \n",
       "\n",
       "[5 rows x 60 columns]"
      ]
     },
     "execution_count": 41,
     "metadata": {},
     "output_type": "execute_result"
    }
   ],
   "source": [
    "trials = rows = 100_000\n",
    "\n",
    "samples =  cols = 60\n",
    "\n",
    "answers = np.random.uniform(1,101, trials * samples).reshape(rows, cols)\n",
    "\n",
    "answers = pd.DataFrame(answers)\n",
    "\n",
    "answers.head()\n"
   ]
  },
  {
   "cell_type": "code",
   "execution_count": 42,
   "id": "06b5c423",
   "metadata": {},
   "outputs": [
    {
     "data": {
      "text/plain": [
       "0.45284335760923855"
      ]
     },
     "execution_count": 42,
     "metadata": {},
     "output_type": "execute_result"
    }
   ],
   "source": [
    "binom = binom(60, .01)\n",
    "\n",
    "binom.sf(0)"
   ]
  },
  {
   "cell_type": "raw",
   "id": "91ae0786",
   "metadata": {},
   "source": [
    "5) The codeup staff tends to get upset when the student break area is not cleaned up. \n",
    "\n",
    "- Suppose that there's a 3% chance that any one student cleans the break area when they visit it, and, on any given day, about 90% of the 3 active cohorts of 22 students visit the break area. \n",
    "\n",
    "- How likely is it that the break area gets cleaned up each day? \n",
    "\n",
    "-How likely is it that it goes two days without getting cleaned up? All week?\n",
    "\n"
   ]
  },
  {
   "cell_type": "code",
   "execution_count": 43,
   "id": "cc93ff1c",
   "metadata": {},
   "outputs": [],
   "source": [
    "import numpy as np\n",
    "import pandas as pd\n",
    "from scipy import stats\n",
    "from scipy.stats import norm, binom\n",
    "from scipy.stats import poisson\n",
    "import matplotlib.pyplot as plt\n"
   ]
  },
  {
   "cell_type": "raw",
   "id": "d9d01775",
   "metadata": {},
   "source": [
    "total students = 3 cohorts * 22 students \n",
    "total studebts = 66\n",
    "that gives at 9% chance or 3% chances from 3 cohorts.\n",
    "So given a .9 chance that a given student visits the break \n",
    "area how many students will visit the break area on a given day?\n",
    "total visits = total students * probability = 66 * .9 = 59.4 or 59 rounding off decimal"
   ]
  },
  {
   "cell_type": "code",
   "execution_count": 44,
   "id": "385789c6",
   "metadata": {},
   "outputs": [
    {
     "data": {
      "text/plain": [
       "0.83484"
      ]
     },
     "execution_count": 44,
     "metadata": {},
     "output_type": "execute_result"
    }
   ],
   "source": [
    "# many students will visit the break area on a given day\n",
    "\n",
    "trials = rows = 100_000\n",
    "\n",
    "samples =  cols = 59\n",
    "\n",
    "data = np.random.uniform(1,101, trials * samples).reshape(rows, cols)\n",
    "\n",
    "data = pd.DataFrame(data)\n",
    "\n",
    "(((data < 4).sum(axis=1)) > 0).sum() / trials"
   ]
  },
  {
   "cell_type": "code",
   "execution_count": null,
   "id": "2032640d",
   "metadata": {},
   "outputs": [],
   "source": []
  },
  {
   "cell_type": "code",
   "execution_count": 46,
   "id": "add4c1bc",
   "metadata": {},
   "outputs": [
    {
     "data": {
      "text/plain": [
       "0.8342199288437352"
      ]
     },
     "execution_count": 46,
     "metadata": {},
     "output_type": "execute_result"
    }
   ],
   "source": [
    "n = 59\n",
    "\n",
    "p = .03\n",
    "\n",
    "dist = binom(n,p)\n",
    "\n",
    "dist.sf(0)"
   ]
  },
  {
   "cell_type": "code",
   "execution_count": 47,
   "id": "d8f8bc31",
   "metadata": {},
   "outputs": [
    {
     "data": {
      "text/plain": [
       "0.027420048100000004"
      ]
     },
     "execution_count": 47,
     "metadata": {},
     "output_type": "execute_result"
    }
   ],
   "source": [
    "# How likely is it that it goes two days without getting cleaned up? \n",
    "\n",
    "trials = rows = 100_000\n",
    "\n",
    "samples =  cols = 59\n",
    "\n",
    "data = np.random.uniform(1,101, trials * samples).reshape(rows, cols)\n",
    "\n",
    "data = pd.DataFrame(data)\n",
    "\n",
    "exp = (((data < 4).sum(axis=1)) > 0).sum() / trials\n",
    "\n",
    "(1-exp)**2"
   ]
  },
  {
   "cell_type": "code",
   "execution_count": 48,
   "id": "83da6a25",
   "metadata": {},
   "outputs": [
    {
     "data": {
      "text/plain": [
       "0.027483031992576134"
      ]
     },
     "execution_count": 48,
     "metadata": {},
     "output_type": "execute_result"
    }
   ],
   "source": [
    "stats.binom(n * 2, p).pmf(0)"
   ]
  },
  {
   "cell_type": "code",
   "execution_count": 49,
   "id": "84487f2d",
   "metadata": {},
   "outputs": [
    {
     "data": {
      "text/plain": [
       "0.027483031992576224"
      ]
     },
     "execution_count": 49,
     "metadata": {},
     "output_type": "execute_result"
    }
   ],
   "source": [
    "n = 59\n",
    "\n",
    "p = .03\n",
    "\n",
    "dist = binom(n,p)\n",
    "\n",
    "calc = dist.sf(0)\n",
    "\n",
    "(1-calc)**2"
   ]
  },
  {
   "cell_type": "code",
   "execution_count": 50,
   "id": "cc762aa2",
   "metadata": {},
   "outputs": [
    {
     "data": {
      "text/plain": [
       "3.566747456659378e-06"
      ]
     },
     "execution_count": 50,
     "metadata": {},
     "output_type": "execute_result"
    }
   ],
   "source": [
    "# All week?\n",
    "trials = rows = 100_000\n",
    "\n",
    "samples =  cols = 59\n",
    "\n",
    "data = np.random.uniform(1,101, trials * samples).reshape(rows, cols)\n",
    "\n",
    "data = pd.DataFrame(data)\n",
    "\n",
    "exp = (((data < 4).sum(axis=1)) > 0).sum() / trials\n",
    "\n",
    "(1-exp)**7"
   ]
  },
  {
   "cell_type": "code",
   "execution_count": 51,
   "id": "ff42b9c6",
   "metadata": {},
   "outputs": [
    {
     "data": {
      "text/plain": [
       "3.44132945698801e-06"
      ]
     },
     "execution_count": 51,
     "metadata": {},
     "output_type": "execute_result"
    }
   ],
   "source": [
    "n = 59\n",
    "\n",
    "p = .03\n",
    "\n",
    "dist = binom(n,p)\n",
    "\n",
    "c = dist.sf(0)\n",
    "\n",
    "(1-c)**7"
   ]
  },
  {
   "cell_type": "raw",
   "id": "56f7d51b",
   "metadata": {},
   "source": [
    "6) You want to get lunch at La Panaderia, but notice that the line is usually very long at lunchtime. After several weeks of careful observation, you notice that the average number of people in line when your lunch break starts is normally distributed with a (mean of 15 and standard deviation of 3). \n",
    "\n",
    "- If it takes 2 minutes for each person to order, and 10 minutes from ordering to getting your food, what is the likelihood that you have at least 15 minutes left to eat your food before you have to go back to class? \n",
    "\n",
    "-Assume you have one hour for lunch, and ignore travel time to and from La Panaderia."
   ]
  },
  {
   "cell_type": "raw",
   "id": "9e044c9e",
   "metadata": {},
   "source": [
    "lunch = 1 hour\n",
    "time left to eat = 15 min\n",
    "time from order to recive = 10 min\n",
    "maximum time in line = 60 min - 25 min == \n",
    "what are the odds that I spend less than 35 min waiting in line?\n",
    "each person in line takes 2 min to order ==> 35/2 = total number of that can be in the line before I exceed maximum time\n",
    "35/2 = 17 rounding off remainder\n",
    "what is the probablity of 17 people or less being in line on a given day?"
   ]
  },
  {
   "cell_type": "code",
   "execution_count": 73,
   "id": "1d8b069f",
   "metadata": {},
   "outputs": [],
   "source": [
    "import numpy as np\n",
    "import pandas as pd\n",
    "from scipy import stats\n",
    "from scipy.stats import norm, binom\n",
    "from scipy.stats import poisson\n",
    "import matplotlib.pyplot as plt"
   ]
  },
  {
   "cell_type": "code",
   "execution_count": 55,
   "id": "6170008f",
   "metadata": {},
   "outputs": [
    {
     "data": {
      "text/plain": [
       "0.74722"
      ]
     },
     "execution_count": 55,
     "metadata": {},
     "output_type": "execute_result"
    }
   ],
   "source": [
    "\n",
    "trials = rows = 100_000\n",
    "\n",
    "samples = cols = 1\n",
    "\n",
    "mean = 15\n",
    "\n",
    "std = 3\n",
    "\n",
    "people = np.random.normal(mean,std,trials * samples)\n",
    "\n",
    "(people <= 17).sum()/trials"
   ]
  },
  {
   "cell_type": "code",
   "execution_count": 57,
   "id": "aa646893",
   "metadata": {},
   "outputs": [
    {
     "data": {
      "text/plain": [
       "0.7475074624530771"
      ]
     },
     "execution_count": 57,
     "metadata": {},
     "output_type": "execute_result"
    }
   ],
   "source": [
    "mean = 15\n",
    "\n",
    "std = 3\n",
    "\n",
    "binom = norm(mean,std)\n",
    "\n",
    "binom.cdf(17)"
   ]
  },
  {
   "cell_type": "raw",
   "id": "2a935cb1",
   "metadata": {},
   "source": [
    "Connect to the employees database and find the average salary of current employees, along with the standard deviation. For the following questions, calculate the answer based on modeling the employees salaries with a normal distribution defined by the calculated mean and standard deviation then compare this answer to the actual values present in the salaries dataset.\n",
    "\n",
    "What percent of employees earn less than 60,000?\n",
    "What percent of employees earn more than 95,000?\n",
    "What percent of employees earn between 65,000 and 80,000?\n",
    "What do the top 5% of employees make?"
   ]
  },
  {
   "cell_type": "code",
   "execution_count": 78,
   "id": "ae5c867d",
   "metadata": {},
   "outputs": [],
   "source": [
    "from env import get_db_url\n",
    "import pandas as pd\n",
    "import numpy as np"
   ]
  },
  {
   "cell_type": "code",
   "execution_count": 79,
   "id": "b52318d3",
   "metadata": {},
   "outputs": [
    {
     "data": {
      "text/plain": [
       "(300024, 6)"
      ]
     },
     "execution_count": 79,
     "metadata": {},
     "output_type": "execute_result"
    }
   ],
   "source": [
    "url = get_db_url(\"employees\")\n",
    "sql = \"\"\"\n",
    "SELECT * FROM employees\n",
    "\"\"\"\n",
    "\n",
    "employees = pd.read_sql(sql, url)\n",
    "employees.shape"
   ]
  },
  {
   "cell_type": "code",
   "execution_count": 85,
   "id": "5dd17eb3",
   "metadata": {},
   "outputs": [
    {
     "data": {
      "text/plain": [
       "(2844047, 4)"
      ]
     },
     "execution_count": 85,
     "metadata": {},
     "output_type": "execute_result"
    }
   ],
   "source": [
    "url = get_db_url(\"employees\")\n",
    "sql = \"\"\"\n",
    "SELECT * FROM salaries\n",
    "\"\"\"\n",
    "\n",
    "salaries = pd.read_sql(sql, url)\n",
    "salaries.shape"
   ]
  },
  {
   "cell_type": "code",
   "execution_count": 86,
   "id": "678aeb74",
   "metadata": {},
   "outputs": [
    {
     "data": {
      "text/plain": [
       "0.41082494791346336"
      ]
     },
     "execution_count": 86,
     "metadata": {},
     "output_type": "execute_result"
    }
   ],
   "source": [
    "# What percent of employees earn less than 60,000?\n",
    "\n",
    "μ, σ = salaries.salary.mean(), salaries.salary.std()\n",
    "dist = stats.norm(μ, σ)\n",
    "\n",
    "dist.cdf(60_000)"
   ]
  },
  {
   "cell_type": "code",
   "execution_count": 87,
   "id": "3048a1be",
   "metadata": {},
   "outputs": [
    {
     "data": {
      "text/plain": [
       "0.03251945131024514"
      ]
     },
     "execution_count": 87,
     "metadata": {},
     "output_type": "execute_result"
    }
   ],
   "source": [
    "# What percent of employees earn more than 95,000?\n",
    "\n",
    "dist.sf(95_000)"
   ]
  },
  {
   "cell_type": "code",
   "execution_count": 88,
   "id": "db9c67c9",
   "metadata": {},
   "outputs": [
    {
     "data": {
      "text/plain": [
       "0.24327375743087226"
      ]
     },
     "execution_count": 88,
     "metadata": {},
     "output_type": "execute_result"
    }
   ],
   "source": [
    "# What percent of employees earn between 65,000 and 80,000?\n",
    "\n",
    "((salaries.salary > 65_000) & (salaries.salary < 80_000)).mean()"
   ]
  },
  {
   "cell_type": "code",
   "execution_count": 89,
   "id": "583a6bc5",
   "metadata": {},
   "outputs": [
    {
     "data": {
      "text/plain": [
       "95761.0"
      ]
     },
     "execution_count": 89,
     "metadata": {},
     "output_type": "execute_result"
    }
   ],
   "source": [
    "# What do the top 5% of employees make?\n",
    "\n",
    "salaries.salary.quantile(.95)"
   ]
  },
  {
   "cell_type": "code",
   "execution_count": 90,
   "id": "67b295bc",
   "metadata": {},
   "outputs": [
    {
     "data": {
      "text/plain": [
       "<AxesSubplot:>"
      ]
     },
     "execution_count": 90,
     "metadata": {},
     "output_type": "execute_result"
    },
    {
     "data": {
      "image/png": "[encoded data removed]",
      "text/plain": [
       "<Figure size 432x288 with 1 Axes>"
      ]
     },
     "metadata": {
      "needs_background": "light"
     },
     "output_type": "display_data"
    }
   ],
   "source": [
    "salaries.salary.hist()"
   ]
  },
  {
   "cell_type": "code",
   "execution_count": null,
   "id": "fd69002e",
   "metadata": {},
   "outputs": [],
   "source": []
  },
  {
   "cell_type": "code",
   "execution_count": null,
   "id": "a14f6c36",
   "metadata": {},
   "outputs": [],
   "source": []
  }
 ],
 "metadata": {
  "kernelspec": {
   "display_name": "Python 3 (ipykernel)",
   "language": "python",
   "name": "python3"
  },
  "language_info": {
   "codemirror_mode": {
    "name": "ipython",
    "version": 3
   },
   "file_extension": ".py",
   "mimetype": "text/x-python",
   "name": "python",
   "nbconvert_exporter": "python",
   "pygments_lexer": "ipython3",
   "version": "3.9.7"
  }
 },
 "nbformat": 4,
 "nbformat_minor": 5
}
