{
 "cells": [
  {
   "cell_type": "code",
   "execution_count": 45,
   "id": "fddbfb99",
   "metadata": {},
   "outputs": [],
   "source": [
    "import matplotlib.pyplot as plt\n",
    "import numpy as np\n",
    "import pandas as pd\n",
    "from scipy import stats\n",
    "from scipy.stats import norm, binom\n",
    "from scipy.stats import poisson"
   ]
  },
  {
   "cell_type": "raw",
   "id": "3ad945d9",
   "metadata": {},
   "source": [
    "1) A bank found that the average number of cars waiting during the noon hour at a drive-up window follows a Poisson distribution with a mean of 2 cars. Make a chart of this distribution and answer these questions concerning the probability of cars waiting at the drive-up window.\n",
    "\n",
    "- What is the probability that no cars drive up in the noon hour?\n",
    "\n",
    "- What is the probability that 3 or more cars come through the drive through?\n",
    "\n",
    "- How likely is it that the drive through gets at least 1 car?"
   ]
  },
  {
   "cell_type": "code",
   "execution_count": 2,
   "id": "a77ae31b",
   "metadata": {},
   "outputs": [
    {
     "data": {
      "text/plain": [
       "Text(0, 0.5, 'P(X)')"
      ]
     },
     "execution_count": 2,
     "metadata": {},
     "output_type": "execute_result"
    },
    {
     "data": {
      "image/png": "[encoded data removed]",
      "text/plain": [
       "<Figure size 432x288 with 1 Axes>"
      ]
     },
     "metadata": {
      "needs_background": "light"
     },
     "output_type": "display_data"
    }
   ],
   "source": [
    "cars = stats.poisson(2)\n",
    "\n",
    "x = [0, 1, 2, 3, 4, 5, 6, 7, 8]\n",
    "y = cars.pmf(x)\n",
    "\n",
    "plt.bar(x, y, color='blue', edgecolor='white', width=1)\n",
    "plt.xlabel('Cars')\n",
    "plt.ylabel('P(X)')"
   ]
  },
  {
   "cell_type": "code",
   "execution_count": 3,
   "id": "3e71ab53",
   "metadata": {},
   "outputs": [
    {
     "data": {
      "text/plain": [
       "0.1376"
      ]
     },
     "execution_count": 3,
     "metadata": {},
     "output_type": "execute_result"
    }
   ],
   "source": [
    "# What is the probability that no cars drive up in the noon hour?\n",
    "\n",
    "avg = 2\n",
    "\n",
    "stats.poisson(avg).pmf(0)\n",
    "\n",
    "cars = stats.poisson(2)\n",
    "\n",
    "(cars.rvs(10_000) == 0).mean()\n"
   ]
  },
  {
   "cell_type": "code",
   "execution_count": 4,
   "id": "1f37955a",
   "metadata": {},
   "outputs": [
    {
     "data": {
      "text/plain": [
       "(0.32332358381693654, 0.3185)"
      ]
     },
     "execution_count": 4,
     "metadata": {},
     "output_type": "execute_result"
    }
   ],
   "source": [
    "# What is the probability that 3 or more cars come through the drive through?\n",
    "\n",
    "estimated = cars.sf(2)\n",
    "simulated = (cars.rvs(10_000) >= 3).mean()\n",
    "\n",
    "estimated, simulated"
   ]
  },
  {
   "cell_type": "code",
   "execution_count": 5,
   "id": "30cda3ce",
   "metadata": {},
   "outputs": [
    {
     "data": {
      "text/plain": [
       "(0.8646647167633873, 0.859)"
      ]
     },
     "execution_count": 5,
     "metadata": {},
     "output_type": "execute_result"
    }
   ],
   "source": [
    "# How likely is it that the drive through gets at least 1 car?\n",
    "\n",
    "\n",
    "estimated = cars.sf(0)\n",
    "simulated = (cars.rvs(10_000) > 0).mean()\n",
    "\n",
    "estimated, simulated"
   ]
  },
  {
   "cell_type": "raw",
   "id": "bb8b2aa0",
   "metadata": {},
   "source": [
    "2) Grades of State University graduates are normally distributed with a mean of 3.0 and a standard deviation of .3. Calculate the following:\n",
    "\n",
    "- What grade point average is required to be in the top 5% of the graduating class?\n",
    "\n",
    "- What GPA constitutes the bottom 15% of the class?\n",
    "\n",
    "- An eccentric alumnus left scholarship money for students in the third decile from the bottom of their class. Determine the range of the third decile. Would a student with a 2.8 grade point average qualify for this scholarship?\n",
    "\n",
    "- If I have a GPA of 3.5, what percentile am I in?"
   ]
  },
  {
   "cell_type": "code",
   "execution_count": 19,
   "id": "db4923d0",
   "metadata": {},
   "outputs": [],
   "source": [
    "trials = cols = 100_000\n",
    "\n",
    "samples = rows = 1000\n",
    "\n",
    "mean = 3.0\n",
    "\n",
    "std = .3\n",
    "\n",
    "grades = np.random.normal(mean,std,trials * samples).reshape(rows, cols)\n",
    "\n",
    "grades = pd.DataFrame(grades)\n",
    "\n"
   ]
  },
  {
   "cell_type": "code",
   "execution_count": 20,
   "id": "1457fb3e",
   "metadata": {},
   "outputs": [
    {
     "data": {
      "text/html": [
       "<div>\n",
       "<style scoped>\n",
       "    .dataframe tbody tr th:only-of-type {\n",
       "        vertical-align: middle;\n",
       "    }\n",
       "\n",
       "    .dataframe tbody tr th {\n",
       "        vertical-align: top;\n",
       "    }\n",
       "\n",
       "    .dataframe thead th {\n",
       "        text-align: right;\n",
       "    }\n",
       "</style>\n",
       "<table border=\"1\" class=\"dataframe\">\n",
       "  <thead>\n",
       "    <tr style=\"text-align: right;\">\n",
       "      <th></th>\n",
       "      <th>0</th>\n",
       "      <th>1</th>\n",
       "      <th>2</th>\n",
       "      <th>3</th>\n",
       "      <th>4</th>\n",
       "      <th>5</th>\n",
       "      <th>6</th>\n",
       "      <th>7</th>\n",
       "      <th>8</th>\n",
       "      <th>9</th>\n",
       "      <th>...</th>\n",
       "      <th>99990</th>\n",
       "      <th>99991</th>\n",
       "      <th>99992</th>\n",
       "      <th>99993</th>\n",
       "      <th>99994</th>\n",
       "      <th>99995</th>\n",
       "      <th>99996</th>\n",
       "      <th>99997</th>\n",
       "      <th>99998</th>\n",
       "      <th>99999</th>\n",
       "    </tr>\n",
       "  </thead>\n",
       "  <tbody>\n",
       "    <tr>\n",
       "      <th>0</th>\n",
       "      <td>3.206259</td>\n",
       "      <td>2.756327</td>\n",
       "      <td>3.429789</td>\n",
       "      <td>3.099115</td>\n",
       "      <td>3.310919</td>\n",
       "      <td>3.205824</td>\n",
       "      <td>2.981726</td>\n",
       "      <td>2.859594</td>\n",
       "      <td>3.219629</td>\n",
       "      <td>2.812987</td>\n",
       "      <td>...</td>\n",
       "      <td>3.179706</td>\n",
       "      <td>3.751469</td>\n",
       "      <td>3.182214</td>\n",
       "      <td>3.276942</td>\n",
       "      <td>3.148934</td>\n",
       "      <td>3.083613</td>\n",
       "      <td>2.988706</td>\n",
       "      <td>2.980940</td>\n",
       "      <td>2.911497</td>\n",
       "      <td>2.580921</td>\n",
       "    </tr>\n",
       "    <tr>\n",
       "      <th>1</th>\n",
       "      <td>3.021981</td>\n",
       "      <td>2.759528</td>\n",
       "      <td>3.145563</td>\n",
       "      <td>3.282097</td>\n",
       "      <td>2.492489</td>\n",
       "      <td>2.706337</td>\n",
       "      <td>2.819466</td>\n",
       "      <td>2.501750</td>\n",
       "      <td>3.125432</td>\n",
       "      <td>3.256953</td>\n",
       "      <td>...</td>\n",
       "      <td>2.926698</td>\n",
       "      <td>2.962357</td>\n",
       "      <td>3.121833</td>\n",
       "      <td>3.235481</td>\n",
       "      <td>2.474002</td>\n",
       "      <td>2.536609</td>\n",
       "      <td>3.058431</td>\n",
       "      <td>2.771190</td>\n",
       "      <td>3.244992</td>\n",
       "      <td>2.857027</td>\n",
       "    </tr>\n",
       "    <tr>\n",
       "      <th>2</th>\n",
       "      <td>3.185827</td>\n",
       "      <td>2.998814</td>\n",
       "      <td>2.900976</td>\n",
       "      <td>3.139873</td>\n",
       "      <td>2.668826</td>\n",
       "      <td>3.044659</td>\n",
       "      <td>2.877503</td>\n",
       "      <td>3.396963</td>\n",
       "      <td>3.487606</td>\n",
       "      <td>3.173216</td>\n",
       "      <td>...</td>\n",
       "      <td>2.784995</td>\n",
       "      <td>2.841865</td>\n",
       "      <td>3.181983</td>\n",
       "      <td>3.304700</td>\n",
       "      <td>2.791739</td>\n",
       "      <td>3.008653</td>\n",
       "      <td>2.676879</td>\n",
       "      <td>2.845552</td>\n",
       "      <td>2.884283</td>\n",
       "      <td>3.120720</td>\n",
       "    </tr>\n",
       "    <tr>\n",
       "      <th>3</th>\n",
       "      <td>2.974211</td>\n",
       "      <td>2.898293</td>\n",
       "      <td>3.153900</td>\n",
       "      <td>2.815367</td>\n",
       "      <td>2.966688</td>\n",
       "      <td>2.870704</td>\n",
       "      <td>3.279296</td>\n",
       "      <td>2.599308</td>\n",
       "      <td>2.944292</td>\n",
       "      <td>2.910432</td>\n",
       "      <td>...</td>\n",
       "      <td>3.059749</td>\n",
       "      <td>3.086413</td>\n",
       "      <td>3.141065</td>\n",
       "      <td>2.812917</td>\n",
       "      <td>3.176042</td>\n",
       "      <td>3.397487</td>\n",
       "      <td>2.912735</td>\n",
       "      <td>2.770211</td>\n",
       "      <td>3.227402</td>\n",
       "      <td>2.876464</td>\n",
       "    </tr>\n",
       "    <tr>\n",
       "      <th>4</th>\n",
       "      <td>3.447593</td>\n",
       "      <td>3.071194</td>\n",
       "      <td>3.197466</td>\n",
       "      <td>3.003571</td>\n",
       "      <td>2.841381</td>\n",
       "      <td>2.725487</td>\n",
       "      <td>3.543711</td>\n",
       "      <td>3.292820</td>\n",
       "      <td>3.366822</td>\n",
       "      <td>3.384340</td>\n",
       "      <td>...</td>\n",
       "      <td>2.764340</td>\n",
       "      <td>3.121851</td>\n",
       "      <td>3.337415</td>\n",
       "      <td>3.068360</td>\n",
       "      <td>3.082728</td>\n",
       "      <td>2.965173</td>\n",
       "      <td>2.828162</td>\n",
       "      <td>2.565702</td>\n",
       "      <td>3.469411</td>\n",
       "      <td>2.950316</td>\n",
       "    </tr>\n",
       "    <tr>\n",
       "      <th>...</th>\n",
       "      <td>...</td>\n",
       "      <td>...</td>\n",
       "      <td>...</td>\n",
       "      <td>...</td>\n",
       "      <td>...</td>\n",
       "      <td>...</td>\n",
       "      <td>...</td>\n",
       "      <td>...</td>\n",
       "      <td>...</td>\n",
       "      <td>...</td>\n",
       "      <td>...</td>\n",
       "      <td>...</td>\n",
       "      <td>...</td>\n",
       "      <td>...</td>\n",
       "      <td>...</td>\n",
       "      <td>...</td>\n",
       "      <td>...</td>\n",
       "      <td>...</td>\n",
       "      <td>...</td>\n",
       "      <td>...</td>\n",
       "      <td>...</td>\n",
       "    </tr>\n",
       "    <tr>\n",
       "      <th>995</th>\n",
       "      <td>2.814928</td>\n",
       "      <td>2.226953</td>\n",
       "      <td>3.426232</td>\n",
       "      <td>2.945250</td>\n",
       "      <td>2.249900</td>\n",
       "      <td>3.200067</td>\n",
       "      <td>3.387962</td>\n",
       "      <td>2.855117</td>\n",
       "      <td>2.786754</td>\n",
       "      <td>2.962977</td>\n",
       "      <td>...</td>\n",
       "      <td>2.906909</td>\n",
       "      <td>3.280095</td>\n",
       "      <td>2.852744</td>\n",
       "      <td>3.021449</td>\n",
       "      <td>2.680259</td>\n",
       "      <td>3.411434</td>\n",
       "      <td>3.537768</td>\n",
       "      <td>2.821611</td>\n",
       "      <td>2.955302</td>\n",
       "      <td>2.952721</td>\n",
       "    </tr>\n",
       "    <tr>\n",
       "      <th>996</th>\n",
       "      <td>3.300379</td>\n",
       "      <td>3.192176</td>\n",
       "      <td>2.941901</td>\n",
       "      <td>3.173455</td>\n",
       "      <td>2.868484</td>\n",
       "      <td>3.584904</td>\n",
       "      <td>2.971065</td>\n",
       "      <td>2.586575</td>\n",
       "      <td>3.043761</td>\n",
       "      <td>2.580292</td>\n",
       "      <td>...</td>\n",
       "      <td>2.874093</td>\n",
       "      <td>3.623044</td>\n",
       "      <td>2.823548</td>\n",
       "      <td>2.236349</td>\n",
       "      <td>3.167844</td>\n",
       "      <td>2.784064</td>\n",
       "      <td>2.829893</td>\n",
       "      <td>2.974887</td>\n",
       "      <td>2.699836</td>\n",
       "      <td>2.896215</td>\n",
       "    </tr>\n",
       "    <tr>\n",
       "      <th>997</th>\n",
       "      <td>2.886024</td>\n",
       "      <td>3.107589</td>\n",
       "      <td>2.326303</td>\n",
       "      <td>3.199212</td>\n",
       "      <td>2.755668</td>\n",
       "      <td>2.865718</td>\n",
       "      <td>3.041337</td>\n",
       "      <td>3.053784</td>\n",
       "      <td>3.163332</td>\n",
       "      <td>3.156628</td>\n",
       "      <td>...</td>\n",
       "      <td>3.146433</td>\n",
       "      <td>3.319128</td>\n",
       "      <td>3.737603</td>\n",
       "      <td>2.934089</td>\n",
       "      <td>2.932470</td>\n",
       "      <td>3.426911</td>\n",
       "      <td>2.785513</td>\n",
       "      <td>2.808939</td>\n",
       "      <td>3.052689</td>\n",
       "      <td>3.563885</td>\n",
       "    </tr>\n",
       "    <tr>\n",
       "      <th>998</th>\n",
       "      <td>3.147906</td>\n",
       "      <td>3.149880</td>\n",
       "      <td>3.111303</td>\n",
       "      <td>3.102434</td>\n",
       "      <td>3.066872</td>\n",
       "      <td>2.832147</td>\n",
       "      <td>2.951240</td>\n",
       "      <td>2.869950</td>\n",
       "      <td>2.778438</td>\n",
       "      <td>3.184426</td>\n",
       "      <td>...</td>\n",
       "      <td>2.941617</td>\n",
       "      <td>2.551190</td>\n",
       "      <td>3.151977</td>\n",
       "      <td>3.220493</td>\n",
       "      <td>3.021621</td>\n",
       "      <td>3.195433</td>\n",
       "      <td>3.253816</td>\n",
       "      <td>2.622436</td>\n",
       "      <td>3.031210</td>\n",
       "      <td>3.248149</td>\n",
       "    </tr>\n",
       "    <tr>\n",
       "      <th>999</th>\n",
       "      <td>2.727977</td>\n",
       "      <td>3.368109</td>\n",
       "      <td>3.270764</td>\n",
       "      <td>2.672685</td>\n",
       "      <td>3.308123</td>\n",
       "      <td>2.985875</td>\n",
       "      <td>3.397096</td>\n",
       "      <td>2.707207</td>\n",
       "      <td>2.958592</td>\n",
       "      <td>3.171217</td>\n",
       "      <td>...</td>\n",
       "      <td>2.174036</td>\n",
       "      <td>3.295496</td>\n",
       "      <td>3.030907</td>\n",
       "      <td>3.655055</td>\n",
       "      <td>2.505418</td>\n",
       "      <td>2.870649</td>\n",
       "      <td>2.830280</td>\n",
       "      <td>2.753708</td>\n",
       "      <td>3.110392</td>\n",
       "      <td>2.462927</td>\n",
       "    </tr>\n",
       "  </tbody>\n",
       "</table>\n",
       "<p>1000 rows × 100000 columns</p>\n",
       "</div>"
      ],
      "text/plain": [
       "        0         1         2         3         4         5         6      \\\n",
       "0    3.206259  2.756327  3.429789  3.099115  3.310919  3.205824  2.981726   \n",
       "1    3.021981  2.759528  3.145563  3.282097  2.492489  2.706337  2.819466   \n",
       "2    3.185827  2.998814  2.900976  3.139873  2.668826  3.044659  2.877503   \n",
       "3    2.974211  2.898293  3.153900  2.815367  2.966688  2.870704  3.279296   \n",
       "4    3.447593  3.071194  3.197466  3.003571  2.841381  2.725487  3.543711   \n",
       "..        ...       ...       ...       ...       ...       ...       ...   \n",
       "995  2.814928  2.226953  3.426232  2.945250  2.249900  3.200067  3.387962   \n",
       "996  3.300379  3.192176  2.941901  3.173455  2.868484  3.584904  2.971065   \n",
       "997  2.886024  3.107589  2.326303  3.199212  2.755668  2.865718  3.041337   \n",
       "998  3.147906  3.149880  3.111303  3.102434  3.066872  2.832147  2.951240   \n",
       "999  2.727977  3.368109  3.270764  2.672685  3.308123  2.985875  3.397096   \n",
       "\n",
       "        7         8         9      ...     99990     99991     99992  \\\n",
       "0    2.859594  3.219629  2.812987  ...  3.179706  3.751469  3.182214   \n",
       "1    2.501750  3.125432  3.256953  ...  2.926698  2.962357  3.121833   \n",
       "2    3.396963  3.487606  3.173216  ...  2.784995  2.841865  3.181983   \n",
       "3    2.599308  2.944292  2.910432  ...  3.059749  3.086413  3.141065   \n",
       "4    3.292820  3.366822  3.384340  ...  2.764340  3.121851  3.337415   \n",
       "..        ...       ...       ...  ...       ...       ...       ...   \n",
       "995  2.855117  2.786754  2.962977  ...  2.906909  3.280095  2.852744   \n",
       "996  2.586575  3.043761  2.580292  ...  2.874093  3.623044  2.823548   \n",
       "997  3.053784  3.163332  3.156628  ...  3.146433  3.319128  3.737603   \n",
       "998  2.869950  2.778438  3.184426  ...  2.941617  2.551190  3.151977   \n",
       "999  2.707207  2.958592  3.171217  ...  2.174036  3.295496  3.030907   \n",
       "\n",
       "        99993     99994     99995     99996     99997     99998     99999  \n",
       "0    3.276942  3.148934  3.083613  2.988706  2.980940  2.911497  2.580921  \n",
       "1    3.235481  2.474002  2.536609  3.058431  2.771190  3.244992  2.857027  \n",
       "2    3.304700  2.791739  3.008653  2.676879  2.845552  2.884283  3.120720  \n",
       "3    2.812917  3.176042  3.397487  2.912735  2.770211  3.227402  2.876464  \n",
       "4    3.068360  3.082728  2.965173  2.828162  2.565702  3.469411  2.950316  \n",
       "..        ...       ...       ...       ...       ...       ...       ...  \n",
       "995  3.021449  2.680259  3.411434  3.537768  2.821611  2.955302  2.952721  \n",
       "996  2.236349  3.167844  2.784064  2.829893  2.974887  2.699836  2.896215  \n",
       "997  2.934089  2.932470  3.426911  2.785513  2.808939  3.052689  3.563885  \n",
       "998  3.220493  3.021621  3.195433  3.253816  2.622436  3.031210  3.248149  \n",
       "999  3.655055  2.505418  2.870649  2.830280  2.753708  3.110392  2.462927  \n",
       "\n",
       "[1000 rows x 100000 columns]"
      ]
     },
     "execution_count": 20,
     "metadata": {},
     "output_type": "execute_result"
    }
   ],
   "source": [
    "grades"
   ]
  },
  {
   "cell_type": "code",
   "execution_count": 21,
   "id": "3756789c",
   "metadata": {},
   "outputs": [],
   "source": [
    "grades = grades.apply(lambda x: x.sort_values().values)\n",
    "\n",
    "grades = grades.loc[[95]].mean(axis=0)\n",
    "\n"
   ]
  },
  {
   "cell_type": "code",
   "execution_count": 9,
   "id": "74230a63",
   "metadata": {},
   "outputs": [
    {
     "data": {
      "text/plain": [
       "0   -0.102407\n",
       "1   -0.108021\n",
       "2   -0.067639\n",
       "3   -0.115159\n",
       "4   -0.068473\n",
       "dtype: float64"
      ]
     },
     "execution_count": 9,
     "metadata": {},
     "output_type": "execute_result"
    }
   ],
   "source": [
    "grades.head()"
   ]
  },
  {
   "cell_type": "code",
   "execution_count": 22,
   "id": "bfcb04de",
   "metadata": {},
   "outputs": [
    {
     "data": {
      "text/plain": [
       "2.6078161179363337"
      ]
     },
     "execution_count": 22,
     "metadata": {},
     "output_type": "execute_result"
    }
   ],
   "source": [
    "top_five_percent = grades.mean(axis=0)\n",
    "\n",
    "top_five_percent\n",
    "\n"
   ]
  },
  {
   "cell_type": "code",
   "execution_count": 23,
   "id": "b7f25167",
   "metadata": {},
   "outputs": [
    {
     "data": {
      "text/plain": [
       "3.4934560880854417"
      ]
     },
     "execution_count": 23,
     "metadata": {},
     "output_type": "execute_result"
    }
   ],
   "source": [
    "# What grade point average is required to be in the top 5% of the graduating class?\n",
    "\n",
    "stats.norm(3,.3).isf(.05)"
   ]
  },
  {
   "cell_type": "code",
   "execution_count": 25,
   "id": "0693d8e0",
   "metadata": {},
   "outputs": [
    {
     "data": {
      "text/plain": [
       "2.689069983151863"
      ]
     },
     "execution_count": 25,
     "metadata": {},
     "output_type": "execute_result"
    }
   ],
   "source": [
    "# What GPA constitutes the bottom 15% of the class?\n",
    "\n",
    "trials = cols = 10_000\n",
    "\n",
    "samples =  rows = 100\n",
    "\n",
    "mean = 3.0\n",
    "std = .3\n",
    "\n",
    "grades = np.random.normal(mean, std, trials * samples).reshape(rows, cols)\n",
    "\n",
    "grades = pd.DataFrame(grades)\n",
    "\n",
    "grades = grades.apply(lambda x: x.sort_values().values)\n",
    "\n",
    "grades = grades.loc[[14]].mean(axis=0)\n",
    "\n",
    "bottom_fifteen_percent = grades.mean(axis=0)\n",
    "\n",
    "bottom_fifteen_percent\n",
    "\n",
    "stats.norm(3,.3).ppf(.15)"
   ]
  },
  {
   "cell_type": "code",
   "execution_count": null,
   "id": "c9aba17d",
   "metadata": {},
   "outputs": [],
   "source": [
    "# An eccentric alumnus left scholarship money for students in the third decile from the bottom of their class. \n",
    "# Determine the range of the third decile. Would a student with a 2.8 grade point average qualify for this scholarship?\n"
   ]
  },
  {
   "cell_type": "code",
   "execution_count": 36,
   "id": "20eef784",
   "metadata": {},
   "outputs": [
    {
     "name": "stdout",
     "output_type": "stream",
     "text": [
      "The range is between 2.5081949102638172 and 2.5969385291475215\n"
     ]
    }
   ],
   "source": [
    "trials = cols = 100_000\n",
    "\n",
    "samples = rows = 1000\n",
    "\n",
    "mean = 3.0  \n",
    "\n",
    "std = .3\n",
    "\n",
    "grades = np.random.normal(mean,std,trials * samples).reshape(rows, cols)\n",
    "\n",
    "grades = pd.DataFrame(grades)\n",
    "\n",
    "grades = grades.apply(lambda x: x.sort_values().values)\n",
    "\n",
    "lower_range = grades.loc[[50]].mean(axis=0)\n",
    "\n",
    "lower_range_mean = lower_range.mean()\n",
    "\n",
    "lower_range_mean\n",
    "\n",
    "upper_range = grades.loc[[89]].mean(axis=0)\n",
    "\n",
    "upper_range_mean = upper_range.mean()\n",
    "\n",
    "upper_range_mean\n",
    "\n",
    "print(\"The range is between \" + str(lower_range_mean) + \" and \" + str(upper_range_mean))\n",
    "\n"
   ]
  },
  {
   "cell_type": "code",
   "execution_count": 28,
   "id": "8f26d450",
   "metadata": {},
   "outputs": [
    {
     "name": "stdout",
     "output_type": "stream",
     "text": [
      "The range is between 2.7580736258945278 and 2.842679846187588\n"
     ]
    }
   ],
   "source": [
    "grades = norm(mean,std)\n",
    "\n",
    "lower = dist.ppf(.21)\n",
    "\n",
    "upper = dist.ppf(.30)\n",
    "\n",
    "print(\"The range is between \" + str(lower) + \" and \" + str(upper))\n",
    "\n"
   ]
  },
  {
   "cell_type": "code",
   "execution_count": 41,
   "id": "7157e6bd",
   "metadata": {},
   "outputs": [
    {
     "data": {
      "text/plain": [
       "0.9522096477271853"
      ]
     },
     "execution_count": 41,
     "metadata": {},
     "output_type": "execute_result"
    }
   ],
   "source": [
    "# If I have a GPA of 3.5, what percentile am I in?\n",
    "\n",
    "trials = cols = 100_000\n",
    "\n",
    "samples = rows = 1000\n",
    "\n",
    "mean = 3.0  \n",
    "\n",
    "std = .3\n",
    "\n",
    "grades = np.random.normal(mean, std,trials * samples).reshape(rows, cols)\n",
    "\n",
    "grades = pd.DataFrame(grades)\n",
    "\n",
    "(grades >= 3.5).sum(axis=1).mean()\n",
    "\n",
    "grades = norm(mean, std)\n",
    "\n",
    "grades.cdf(3.5)\n",
    "\n"
   ]
  },
  {
   "cell_type": "raw",
   "id": "04572de0",
   "metadata": {},
   "source": [
    "3) A marketing website has an average click-through rate of 2%. One day they observe 4326 visitors and 97 click-throughs. How likely is it that this many people or more click through?"
   ]
  },
  {
   "cell_type": "code",
   "execution_count": 43,
   "id": "e96ada6a",
   "metadata": {},
   "outputs": [
    {
     "data": {
      "text/plain": [
       "0.11781530585978467"
      ]
     },
     "execution_count": 43,
     "metadata": {},
     "output_type": "execute_result"
    }
   ],
   "source": [
    "trials = cols = 100_000\n",
    "\n",
    "samples = rows = 1000\n",
    "\n",
    "rate = .02 \n",
    "\n",
    "visitors = 4326\n",
    "\n",
    "clicks = binom(n, rate)\n",
    "\n",
    "clicks.sf(97)"
   ]
  },
  {
   "cell_type": "code",
   "execution_count": 44,
   "id": "c09af9e7",
   "metadata": {},
   "outputs": [
    {
     "data": {
      "text/plain": [
       "0.13934"
      ]
     },
     "execution_count": 44,
     "metadata": {},
     "output_type": "execute_result"
    }
   ],
   "source": [
    "# How likely is it that this many people or more click through?\n",
    "\n",
    "trials = rows = 100_000\n",
    "\n",
    "samples = cols = 4326\n",
    "\n",
    "data = np.random.uniform(1,101, samples * trials).reshape(rows,cols)\n",
    "\n",
    "data = pd.DataFrame(data)\n",
    "\n",
    "(((data < 3).sum(axis=1)) >= 97).sum() / trials"
   ]
  },
  {
   "cell_type": "raw",
   "id": "fb969221",
   "metadata": {},
   "source": [
    "You are working on some statistics homework consisting of 100 questions where all of the answers are a probability rounded to the hundreths place. Looking to save time, you put down random probabilities as the answer to each question.\n",
    "\n",
    "-What is the probability that at least one of your first 60 answers is correct?"
   ]
  },
  {
   "cell_type": "code",
   "execution_count": 49,
   "id": "dd0009d5",
   "metadata": {},
   "outputs": [
    {
     "data": {
      "text/html": [
       "<div>\n",
       "<style scoped>\n",
       "    .dataframe tbody tr th:only-of-type {\n",
       "        vertical-align: middle;\n",
       "    }\n",
       "\n",
       "    .dataframe tbody tr th {\n",
       "        vertical-align: top;\n",
       "    }\n",
       "\n",
       "    .dataframe thead th {\n",
       "        text-align: right;\n",
       "    }\n",
       "</style>\n",
       "<table border=\"1\" class=\"dataframe\">\n",
       "  <thead>\n",
       "    <tr style=\"text-align: right;\">\n",
       "      <th></th>\n",
       "      <th>0</th>\n",
       "      <th>1</th>\n",
       "      <th>2</th>\n",
       "      <th>3</th>\n",
       "      <th>4</th>\n",
       "      <th>5</th>\n",
       "      <th>6</th>\n",
       "      <th>7</th>\n",
       "      <th>8</th>\n",
       "      <th>9</th>\n",
       "      <th>...</th>\n",
       "      <th>50</th>\n",
       "      <th>51</th>\n",
       "      <th>52</th>\n",
       "      <th>53</th>\n",
       "      <th>54</th>\n",
       "      <th>55</th>\n",
       "      <th>56</th>\n",
       "      <th>57</th>\n",
       "      <th>58</th>\n",
       "      <th>59</th>\n",
       "    </tr>\n",
       "  </thead>\n",
       "  <tbody>\n",
       "    <tr>\n",
       "      <th>0</th>\n",
       "      <td>62.462216</td>\n",
       "      <td>65.526275</td>\n",
       "      <td>21.234455</td>\n",
       "      <td>100.125164</td>\n",
       "      <td>62.247491</td>\n",
       "      <td>25.802629</td>\n",
       "      <td>84.376912</td>\n",
       "      <td>99.660301</td>\n",
       "      <td>99.411764</td>\n",
       "      <td>74.805385</td>\n",
       "      <td>...</td>\n",
       "      <td>44.385712</td>\n",
       "      <td>50.497124</td>\n",
       "      <td>34.976312</td>\n",
       "      <td>4.674156</td>\n",
       "      <td>36.687824</td>\n",
       "      <td>90.549923</td>\n",
       "      <td>16.932078</td>\n",
       "      <td>94.023457</td>\n",
       "      <td>84.026107</td>\n",
       "      <td>93.300129</td>\n",
       "    </tr>\n",
       "    <tr>\n",
       "      <th>1</th>\n",
       "      <td>60.783402</td>\n",
       "      <td>81.925035</td>\n",
       "      <td>11.911412</td>\n",
       "      <td>92.507453</td>\n",
       "      <td>73.323911</td>\n",
       "      <td>81.456813</td>\n",
       "      <td>86.505459</td>\n",
       "      <td>89.777143</td>\n",
       "      <td>77.008168</td>\n",
       "      <td>61.692225</td>\n",
       "      <td>...</td>\n",
       "      <td>76.988147</td>\n",
       "      <td>51.450167</td>\n",
       "      <td>10.003724</td>\n",
       "      <td>3.580070</td>\n",
       "      <td>54.747568</td>\n",
       "      <td>6.013515</td>\n",
       "      <td>57.895825</td>\n",
       "      <td>47.247808</td>\n",
       "      <td>64.607550</td>\n",
       "      <td>36.537267</td>\n",
       "    </tr>\n",
       "    <tr>\n",
       "      <th>2</th>\n",
       "      <td>28.789317</td>\n",
       "      <td>28.618183</td>\n",
       "      <td>31.029098</td>\n",
       "      <td>26.541759</td>\n",
       "      <td>15.079206</td>\n",
       "      <td>62.493216</td>\n",
       "      <td>53.730002</td>\n",
       "      <td>82.090967</td>\n",
       "      <td>81.729904</td>\n",
       "      <td>53.032891</td>\n",
       "      <td>...</td>\n",
       "      <td>20.442934</td>\n",
       "      <td>63.221812</td>\n",
       "      <td>4.891267</td>\n",
       "      <td>17.050021</td>\n",
       "      <td>1.853623</td>\n",
       "      <td>64.944689</td>\n",
       "      <td>77.964824</td>\n",
       "      <td>94.818024</td>\n",
       "      <td>2.590318</td>\n",
       "      <td>43.607975</td>\n",
       "    </tr>\n",
       "    <tr>\n",
       "      <th>3</th>\n",
       "      <td>27.859138</td>\n",
       "      <td>99.000431</td>\n",
       "      <td>90.803054</td>\n",
       "      <td>26.105727</td>\n",
       "      <td>38.749787</td>\n",
       "      <td>100.905362</td>\n",
       "      <td>63.158217</td>\n",
       "      <td>44.443622</td>\n",
       "      <td>98.861928</td>\n",
       "      <td>76.595827</td>\n",
       "      <td>...</td>\n",
       "      <td>71.383799</td>\n",
       "      <td>6.412693</td>\n",
       "      <td>6.096954</td>\n",
       "      <td>73.706408</td>\n",
       "      <td>95.290776</td>\n",
       "      <td>17.601528</td>\n",
       "      <td>65.188596</td>\n",
       "      <td>54.388074</td>\n",
       "      <td>20.748788</td>\n",
       "      <td>94.033005</td>\n",
       "    </tr>\n",
       "    <tr>\n",
       "      <th>4</th>\n",
       "      <td>50.187130</td>\n",
       "      <td>70.337166</td>\n",
       "      <td>88.329586</td>\n",
       "      <td>40.693764</td>\n",
       "      <td>24.368215</td>\n",
       "      <td>45.273251</td>\n",
       "      <td>56.877358</td>\n",
       "      <td>23.513787</td>\n",
       "      <td>1.371845</td>\n",
       "      <td>11.776613</td>\n",
       "      <td>...</td>\n",
       "      <td>37.074763</td>\n",
       "      <td>56.749633</td>\n",
       "      <td>7.605494</td>\n",
       "      <td>33.334642</td>\n",
       "      <td>84.372474</td>\n",
       "      <td>29.753354</td>\n",
       "      <td>59.363907</td>\n",
       "      <td>20.353934</td>\n",
       "      <td>88.369004</td>\n",
       "      <td>15.289620</td>\n",
       "    </tr>\n",
       "  </tbody>\n",
       "</table>\n",
       "<p>5 rows × 60 columns</p>\n",
       "</div>"
      ],
      "text/plain": [
       "          0          1          2           3          4           5   \\\n",
       "0  62.462216  65.526275  21.234455  100.125164  62.247491   25.802629   \n",
       "1  60.783402  81.925035  11.911412   92.507453  73.323911   81.456813   \n",
       "2  28.789317  28.618183  31.029098   26.541759  15.079206   62.493216   \n",
       "3  27.859138  99.000431  90.803054   26.105727  38.749787  100.905362   \n",
       "4  50.187130  70.337166  88.329586   40.693764  24.368215   45.273251   \n",
       "\n",
       "          6          7          8          9   ...         50         51  \\\n",
       "0  84.376912  99.660301  99.411764  74.805385  ...  44.385712  50.497124   \n",
       "1  86.505459  89.777143  77.008168  61.692225  ...  76.988147  51.450167   \n",
       "2  53.730002  82.090967  81.729904  53.032891  ...  20.442934  63.221812   \n",
       "3  63.158217  44.443622  98.861928  76.595827  ...  71.383799   6.412693   \n",
       "4  56.877358  23.513787   1.371845  11.776613  ...  37.074763  56.749633   \n",
       "\n",
       "          52         53         54         55         56         57  \\\n",
       "0  34.976312   4.674156  36.687824  90.549923  16.932078  94.023457   \n",
       "1  10.003724   3.580070  54.747568   6.013515  57.895825  47.247808   \n",
       "2   4.891267  17.050021   1.853623  64.944689  77.964824  94.818024   \n",
       "3   6.096954  73.706408  95.290776  17.601528  65.188596  54.388074   \n",
       "4   7.605494  33.334642  84.372474  29.753354  59.363907  20.353934   \n",
       "\n",
       "          58         59  \n",
       "0  84.026107  93.300129  \n",
       "1  64.607550  36.537267  \n",
       "2   2.590318  43.607975  \n",
       "3  20.748788  94.033005  \n",
       "4  88.369004  15.289620  \n",
       "\n",
       "[5 rows x 60 columns]"
      ]
     },
     "execution_count": 49,
     "metadata": {},
     "output_type": "execute_result"
    }
   ],
   "source": [
    "trials = rows = 100_000\n",
    "\n",
    "samples =  cols = 60\n",
    "\n",
    "answers = np.random.uniform(1,101, trials * samples).reshape(rows, cols)\n",
    "\n",
    "answers = pd.DataFrame(answers)\n",
    "\n",
    "answers.head()\n"
   ]
  },
  {
   "cell_type": "code",
   "execution_count": 51,
   "id": "58b20da0",
   "metadata": {},
   "outputs": [
    {
     "data": {
      "text/plain": [
       "0.45284335760923855"
      ]
     },
     "execution_count": 51,
     "metadata": {},
     "output_type": "execute_result"
    }
   ],
   "source": [
    "binom = binom(60, .01)\n",
    "\n",
    "binom.sf(0)"
   ]
  },
  {
   "cell_type": "raw",
   "id": "add11df2",
   "metadata": {},
   "source": [
    "5) The codeup staff tends to get upset when the student break area is not cleaned up. \n",
    "\n",
    "- Suppose that there's a 3% chance that any one student cleans the break area when they visit it, and, on any given day, about 90% of the 3 active cohorts of 22 students visit the break area. \n",
    "\n",
    "- How likely is it that the break area gets cleaned up each day? \n",
    "\n",
    "-How likely is it that it goes two days without getting cleaned up? All week?\n",
    "\n"
   ]
  },
  {
   "cell_type": "code",
   "execution_count": 65,
   "id": "1686d5cd",
   "metadata": {},
   "outputs": [],
   "source": [
    "import numpy as np\n",
    "import pandas as pd\n",
    "from scipy import stats\n",
    "from scipy.stats import norm, binom\n",
    "from scipy.stats import poisson\n",
    "import matplotlib.pyplot as plt\n"
   ]
  },
  {
   "cell_type": "raw",
   "id": "be1d6ca2",
   "metadata": {},
   "source": [
    "total students = 3 cohorts * 22 students \n",
    "total studebts = 66\n",
    "that gives at 9% chance or 3% chances from 3 cohorts.\n",
    "So given a .9 chance that a given student visits the break \n",
    "area how many students will visit the break area on a given day?\n",
    "total visits = total students * probability = 66 * .9 = 59.4 or 59 rounding off decimal"
   ]
  },
  {
   "cell_type": "code",
   "execution_count": 66,
   "id": "d904797f",
   "metadata": {},
   "outputs": [
    {
     "data": {
      "text/plain": [
       "0.83507"
      ]
     },
     "execution_count": 66,
     "metadata": {},
     "output_type": "execute_result"
    }
   ],
   "source": [
    "# many students will visit the break area on a given day\n",
    "\n",
    "trials = rows = 100_000\n",
    "\n",
    "samples =  cols = 59\n",
    "\n",
    "data = np.random.uniform(1,101, trials * samples).reshape(rows, cols)\n",
    "\n",
    "data = pd.DataFrame(data)\n",
    "\n",
    "(((data < 4).sum(axis=1)) > 0).sum() / trials"
   ]
  },
  {
   "cell_type": "code",
   "execution_count": 74,
   "id": "f1734bde",
   "metadata": {},
   "outputs": [
    {
     "data": {
      "text/plain": [
       "0.8342199288437352"
      ]
     },
     "execution_count": 74,
     "metadata": {},
     "output_type": "execute_result"
    }
   ],
   "source": [
    "n = 59\n",
    "\n",
    "p = .03\n",
    "\n",
    "dist = binom(n,p)\n",
    "\n",
    "dist.sf(0)"
   ]
  },
  {
   "cell_type": "code",
   "execution_count": 69,
   "id": "e86de9a8",
   "metadata": {},
   "outputs": [
    {
     "data": {
      "text/plain": [
       "0.027436609600000002"
      ]
     },
     "execution_count": 69,
     "metadata": {},
     "output_type": "execute_result"
    }
   ],
   "source": [
    "# How likely is it that it goes two days without getting cleaned up? \n",
    "\n",
    "trials = rows = 100_000\n",
    "\n",
    "samples =  cols = 59\n",
    "\n",
    "data = np.random.uniform(1,101, trials * samples).reshape(rows, cols)\n",
    "\n",
    "data = pd.DataFrame(data)\n",
    "\n",
    "exp = (((data < 4).sum(axis=1)) > 0).sum() / trials\n",
    "\n",
    "(1-exp)**2"
   ]
  },
  {
   "cell_type": "code",
   "execution_count": 71,
   "id": "9bffe1c7",
   "metadata": {},
   "outputs": [
    {
     "data": {
      "text/plain": [
       "0.027483031992576224"
      ]
     },
     "execution_count": 71,
     "metadata": {},
     "output_type": "execute_result"
    }
   ],
   "source": [
    "n = 59\n",
    "\n",
    "p = .03\n",
    "\n",
    "dist = binom(n,p)\n",
    "\n",
    "calc = dist.sf(0)\n",
    "\n",
    "(1-calc)**2"
   ]
  },
  {
   "cell_type": "code",
   "execution_count": 73,
   "id": "0782e0bf",
   "metadata": {},
   "outputs": [
    {
     "data": {
      "text/plain": [
       "3.58627183266891e-06"
      ]
     },
     "execution_count": 73,
     "metadata": {},
     "output_type": "execute_result"
    }
   ],
   "source": [
    "# All week?\n",
    "trials = rows = 100_000\n",
    "\n",
    "samples =  cols = 59\n",
    "\n",
    "data = np.random.uniform(1,101, trials * samples).reshape(rows, cols)\n",
    "\n",
    "data = pd.DataFrame(data)\n",
    "\n",
    "exp = (((data < 4).sum(axis=1)) > 0).sum() / trials\n",
    "\n",
    "(1-exp)**7"
   ]
  },
  {
   "cell_type": "code",
   "execution_count": 72,
   "id": "f3598fad",
   "metadata": {},
   "outputs": [
    {
     "data": {
      "text/plain": [
       "3.44132945698801e-06"
      ]
     },
     "execution_count": 72,
     "metadata": {},
     "output_type": "execute_result"
    }
   ],
   "source": [
    "n = 59\n",
    "\n",
    "p = .03\n",
    "\n",
    "dist = binom(n,p)\n",
    "\n",
    "c = dist.sf(0)\n",
    "\n",
    "(1-c)**7"
   ]
  },
  {
   "cell_type": "raw",
   "id": "2ff204d4",
   "metadata": {},
   "source": [
    "6) You want to get lunch at La Panaderia, but notice that the line is usually very long at lunchtime. After several weeks of careful observation, you notice that the average number of people in line when your lunch break starts is normally distributed with a (mean of 15 and standard deviation of 3). \n",
    "\n",
    "- If it takes 2 minutes for each person to order, and 10 minutes from ordering to getting your food, what is the likelihood that you have at least 15 minutes left to eat your food before you have to go back to class? \n",
    "\n",
    "-Assume you have one hour for lunch, and ignore travel time to and from La Panaderia."
   ]
  },
  {
   "cell_type": "raw",
   "id": "1a665584",
   "metadata": {},
   "source": [
    "lunch = 1 hour\n",
    "time left to eat = 15 min\n",
    "time from order to recive = 10 min\n",
    "maximum time in line = 60 min - 25 min == \n",
    "what are the odds that I spend less than 35 min waiting in line?\n",
    "each person in line takes 2 min to order ==> 35/2 = total number of that can be in the line before I exceed maximum time\n",
    "35/2 = 17 rounding off remainder\n",
    "what is the probablity of 17 people or less being in line on a given day?"
   ]
  },
  {
   "cell_type": "code",
   "execution_count": 76,
   "id": "88833843",
   "metadata": {},
   "outputs": [],
   "source": [
    "import numpy as np\n",
    "import pandas as pd\n",
    "from scipy import stats\n",
    "from scipy.stats import norm, binom\n",
    "from scipy.stats import poisson\n",
    "import matplotlib.pyplot as plt"
   ]
  },
  {
   "cell_type": "code",
   "execution_count": 79,
   "id": "e5616ad3",
   "metadata": {},
   "outputs": [
    {
     "data": {
      "text/plain": [
       "0.74708"
      ]
     },
     "execution_count": 79,
     "metadata": {},
     "output_type": "execute_result"
    }
   ],
   "source": [
    "\n",
    "trials = rows = 100_000\n",
    "\n",
    "samples = cols = 1\n",
    "\n",
    "mean = 15\n",
    "\n",
    "std = 3\n",
    "\n",
    "people = np.random.normal(mean,std,trials * samples)\n",
    "\n",
    "(people <= 17).sum()/trials"
   ]
  },
  {
   "cell_type": "code",
   "execution_count": 81,
   "id": "dcc9be73",
   "metadata": {},
   "outputs": [
    {
     "data": {
      "text/plain": [
       "0.7475074624530771"
      ]
     },
     "execution_count": 81,
     "metadata": {},
     "output_type": "execute_result"
    }
   ],
   "source": [
    "mean = 15\n",
    "\n",
    "std = 3\n",
    "\n",
    "binom = norm(mean,std)\n",
    "\n",
    "binom.cdf(17)"
   ]
  },
  {
   "cell_type": "raw",
   "id": "321c0fd4",
   "metadata": {},
   "source": [
    "Connect to the employees database and find the average salary of current employees, along with the standard deviation. For the following questions, calculate the answer based on modeling the employees salaries with a normal distribution defined by the calculated mean and standard deviation then compare this answer to the actual values present in the salaries dataset.\n",
    "\n",
    "What percent of employees earn less than 60,000?\n",
    "What percent of employees earn more than 95,000?\n",
    "What percent of employees earn between 65,000 and 80,000?\n",
    "What do the top 5% of employees make?"
   ]
  },
  {
   "cell_type": "code",
   "execution_count": 87,
   "id": "7aede765",
   "metadata": {},
   "outputs": [],
   "source": [
    "from env import get_db_url\n",
    "import pandas as pd\n",
    "import numpy as np"
   ]
  },
  {
   "cell_type": "code",
   "execution_count": 88,
   "id": "8d314be8",
   "metadata": {},
   "outputs": [
    {
     "data": {
      "text/plain": [
       "(300024, 6)"
      ]
     },
     "execution_count": 88,
     "metadata": {},
     "output_type": "execute_result"
    }
   ],
   "source": [
    "url = get_db_url(\"employees\")\n",
    "sql = \"\"\"\n",
    "SELECT * FROM employees\n",
    "\"\"\"\n",
    "\n",
    "employees = pd.read_sql(sql, url)\n",
    "employees.shape"
   ]
  },
  {
   "cell_type": "code",
   "execution_count": 99,
   "id": "910be6e2",
   "metadata": {},
   "outputs": [],
   "source": [
    "from env import get_db_url\n",
    "\n",
    "database = \"employees\"\n",
    "\n",
    "def get_db_url(user,host,password,database):\n",
    "\n",
    "    url = f'mysql+pymysql://{user}:{password}@{host}/{database}'\n",
    "    \n",
    "    return url\n",
    "\n",
    "url = get_db_url(user,host,password,database)\n",
    "\n",
    "query = \"\"\" SELECT * FROM salaries \"\"\"\n",
    "\n",
    "im = pd.read_sql(query, url)\n",
    "\n",
    "salaries = pd.read_sql(query, url)"
   ]
  },
  {
   "cell_type": "code",
   "execution_count": 100,
   "id": "ac689950",
   "metadata": {},
   "outputs": [
    {
     "data": {
      "text/plain": [
       "0.41082494791346336"
      ]
     },
     "execution_count": 100,
     "metadata": {},
     "output_type": "execute_result"
    }
   ],
   "source": [
    "# What percent of employees earn less than 60,000?\n",
    "\n",
    "μ, σ = salaries.salary.mean(), salaries.salary.std()\n",
    "dist = stats.norm(μ, σ)\n",
    "\n",
    "dist.cdf(60_000)"
   ]
  },
  {
   "cell_type": "code",
   "execution_count": 101,
   "id": "12eb46ab",
   "metadata": {},
   "outputs": [
    {
     "data": {
      "text/plain": [
       "0.03251945131024514"
      ]
     },
     "execution_count": 101,
     "metadata": {},
     "output_type": "execute_result"
    }
   ],
   "source": [
    "# What percent of employees earn more than 95,000?\n",
    "\n",
    "dist.sf(95_000)"
   ]
  },
  {
   "cell_type": "code",
   "execution_count": 102,
   "id": "4e1b0b40",
   "metadata": {},
   "outputs": [
    {
     "data": {
      "text/plain": [
       "0.24327375743087226"
      ]
     },
     "execution_count": 102,
     "metadata": {},
     "output_type": "execute_result"
    }
   ],
   "source": [
    "# What percent of employees earn between 65,000 and 80,000?\n",
    "\n",
    "((salaries.salary > 65_000) & (salaries.salary < 80_000)).mean()"
   ]
  },
  {
   "cell_type": "code",
   "execution_count": 103,
   "id": "2ecdef8c",
   "metadata": {},
   "outputs": [
    {
     "data": {
      "text/plain": [
       "95761.0"
      ]
     },
     "execution_count": 103,
     "metadata": {},
     "output_type": "execute_result"
    }
   ],
   "source": [
    "# What do the top 5% of employees make?\n",
    "\n",
    "salaries.salary.quantile(.95)"
   ]
  },
  {
   "cell_type": "code",
   "execution_count": null,
   "id": "a6a77dae",
   "metadata": {},
   "outputs": [],
   "source": []
  }
 ],
 "metadata": {
  "kernelspec": {
   "display_name": "Python 3 (ipykernel)",
   "language": "python",
   "name": "python3"
  },
  "language_info": {
   "codemirror_mode": {
    "name": "ipython",
    "version": 3
   },
   "file_extension": ".py",
   "mimetype": "text/x-python",
   "name": "python",
   "nbconvert_exporter": "python",
   "pygments_lexer": "ipython3",
   "version": "3.9.7"
  }
 },
 "nbformat": 4,
 "nbformat_minor": 5
}
