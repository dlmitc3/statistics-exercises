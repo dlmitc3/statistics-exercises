{
 "cells": [
  {
   "cell_type": "code",
   "execution_count": 7,
   "id": "9211092d",
   "metadata": {},
   "outputs": [],
   "source": [
    "%matplotlib inline\n",
    "import numpy as np\n",
    "import pandas as pd\n",
    "np.random.seed(100)"
   ]
  },
  {
   "cell_type": "code",
   "execution_count": 8,
   "id": "14b9fcbc",
   "metadata": {},
   "outputs": [
    {
     "name": "stdout",
     "output_type": "stream",
     "text": [
      "The odds of rolling doubles on two fair 6 sided dice are 17%\n"
     ]
    }
   ],
   "source": [
    "# 1) How likely is it that you roll doubles when rolling two \n",
    "# dice?\n",
    "\n",
    "nrows = 100_000 # set nrows to number of simulations\n",
    "ncols = 2       # set ncolumns to number of dice rolled in each simulation\n",
    "\n",
    "# create data frame with each row representing a simulation and each column representing a dice roll in the simulation\n",
    "rolls = np.random.choice([1, 2, 3, 4, 5, 6], nrows * ncols).reshape(nrows, ncols) \n",
    "\n",
    "df = pd.DataFrame(rolls)\n",
    "\n",
    "# add double columnn\n",
    "df['doubles'] = df[0] == df[1]\n",
    "\n",
    "# get mean of doubles column\n",
    "# format and print results\n",
    "odds_of_doubles = int(round(df.doubles.mean(),2) * 100)\n",
    "\n",
    "print(f'The odds of rolling doubles on two fair 6 sided dice are {odds_of_doubles}%')"
   ]
  },
  {
   "cell_type": "code",
   "execution_count": 3,
   "id": "ed04e00f",
   "metadata": {
    "scrolled": false
   },
   "outputs": [
    {
     "data": {
      "text/plain": [
       "0.2215"
      ]
     },
     "execution_count": 3,
     "metadata": {},
     "output_type": "execute_result"
    }
   ],
   "source": [
    "# 2) If you flip 8 coins, what is the probability of getting \n",
    "# exactly 3 heads? What is the probability of getting more \n",
    "# than 3 heads?\n",
    "\n",
    "n_trials = nrows = 10_000\n",
    "f_coins = ncols = 8\n",
    "\n",
    "flip = np.random.choice([0, 1], n_trials * f_coins).reshape(nrows, ncols)\n",
    "flip\n",
    "\n",
    "flips = pd.DataFrame(flip)\n",
    "flips.columns = [\"Coin_1\", \"Coin_2\", \"Coin_3\", \"Coin_4\", \"Coin_5\", \"Coin_6\", \"Coin_7\", \"Coin_8\"]\n",
    "flips\n",
    "\n",
    "flips[\"n_heads\"] = flips.sum(axis=1)\n",
    "flips.head()\n",
    "\n",
    "\n",
    "# probability of getting exactly 3 heads\n",
    "(flips.n_heads == 3).mean()"
   ]
  },
  {
   "cell_type": "code",
   "execution_count": 9,
   "id": "66c6e9ba",
   "metadata": {},
   "outputs": [
    {
     "data": {
      "text/html": [
       "<div>\n",
       "<style scoped>\n",
       "    .dataframe tbody tr th:only-of-type {\n",
       "        vertical-align: middle;\n",
       "    }\n",
       "\n",
       "    .dataframe tbody tr th {\n",
       "        vertical-align: top;\n",
       "    }\n",
       "\n",
       "    .dataframe thead th {\n",
       "        text-align: right;\n",
       "    }\n",
       "</style>\n",
       "<table border=\"1\" class=\"dataframe\">\n",
       "  <thead>\n",
       "    <tr style=\"text-align: right;\">\n",
       "      <th></th>\n",
       "      <th>Coin_1</th>\n",
       "      <th>Coin_2</th>\n",
       "      <th>Coin_3</th>\n",
       "      <th>Coin_4</th>\n",
       "      <th>Coin_5</th>\n",
       "      <th>Coin_6</th>\n",
       "      <th>Coin_7</th>\n",
       "      <th>Coin_8</th>\n",
       "      <th>n_heads</th>\n",
       "    </tr>\n",
       "  </thead>\n",
       "  <tbody>\n",
       "    <tr>\n",
       "      <th>0</th>\n",
       "      <td>1</td>\n",
       "      <td>0</td>\n",
       "      <td>0</td>\n",
       "      <td>1</td>\n",
       "      <td>1</td>\n",
       "      <td>1</td>\n",
       "      <td>0</td>\n",
       "      <td>0</td>\n",
       "      <td>4</td>\n",
       "    </tr>\n",
       "    <tr>\n",
       "      <th>1</th>\n",
       "      <td>0</td>\n",
       "      <td>0</td>\n",
       "      <td>1</td>\n",
       "      <td>1</td>\n",
       "      <td>1</td>\n",
       "      <td>0</td>\n",
       "      <td>1</td>\n",
       "      <td>1</td>\n",
       "      <td>5</td>\n",
       "    </tr>\n",
       "    <tr>\n",
       "      <th>2</th>\n",
       "      <td>0</td>\n",
       "      <td>0</td>\n",
       "      <td>1</td>\n",
       "      <td>0</td>\n",
       "      <td>1</td>\n",
       "      <td>0</td>\n",
       "      <td>0</td>\n",
       "      <td>0</td>\n",
       "      <td>2</td>\n",
       "    </tr>\n",
       "    <tr>\n",
       "      <th>3</th>\n",
       "      <td>0</td>\n",
       "      <td>0</td>\n",
       "      <td>1</td>\n",
       "      <td>1</td>\n",
       "      <td>1</td>\n",
       "      <td>1</td>\n",
       "      <td>0</td>\n",
       "      <td>0</td>\n",
       "      <td>4</td>\n",
       "    </tr>\n",
       "    <tr>\n",
       "      <th>4</th>\n",
       "      <td>1</td>\n",
       "      <td>1</td>\n",
       "      <td>1</td>\n",
       "      <td>0</td>\n",
       "      <td>0</td>\n",
       "      <td>0</td>\n",
       "      <td>1</td>\n",
       "      <td>1</td>\n",
       "      <td>5</td>\n",
       "    </tr>\n",
       "  </tbody>\n",
       "</table>\n",
       "</div>"
      ],
      "text/plain": [
       "   Coin_1  Coin_2  Coin_3  Coin_4  Coin_5  Coin_6  Coin_7  Coin_8  n_heads\n",
       "0       1       0       0       1       1       1       0       0        4\n",
       "1       0       0       1       1       1       0       1       1        5\n",
       "2       0       0       1       0       1       0       0       0        2\n",
       "3       0       0       1       1       1       1       0       0        4\n",
       "4       1       1       1       0       0       0       1       1        5"
      ]
     },
     "execution_count": 9,
     "metadata": {},
     "output_type": "execute_result"
    }
   ],
   "source": [
    "flips.head()"
   ]
  },
  {
   "cell_type": "code",
   "execution_count": 23,
   "id": "b1eb3eb1",
   "metadata": {},
   "outputs": [
    {
     "data": {
      "text/plain": [
       "0.633"
      ]
     },
     "execution_count": 23,
     "metadata": {},
     "output_type": "execute_result"
    }
   ],
   "source": [
    "# probability of getting more than 3 heads\n",
    "(flips.n_heads > 3).mean()"
   ]
  },
  {
   "cell_type": "code",
   "execution_count": 24,
   "id": "df31e663",
   "metadata": {},
   "outputs": [
    {
     "name": "stdout",
     "output_type": "stream",
     "text": [
      "The odds of getting exactly three heads when flipping five coins is 22%\n",
      "The odds of gettng three or more heads in the same five flips is 86%\n"
     ]
    }
   ],
   "source": [
    "# Another why to answer this question 2:\n",
    "nrows = 100_000 # set rows to number of simulations\n",
    "ncols = 8       # set columns to number of random events in each simulation\n",
    "\n",
    "# create array\n",
    "rolls = np.random.choice([True, False], nrows * ncols).reshape(nrows, ncols)\n",
    "\n",
    "# create dataframe\n",
    "df = pd.DataFrame(rolls)\n",
    "\n",
    "# add calculation columnns\n",
    "df['number_of_heads'] = df.sum(axis=1)\n",
    "df['exactly_three_heads'] = df.number_of_heads == 3\n",
    "df['three_or_more_heads'] = df.number_of_heads >= 3\n",
    "\n",
    "# get mean of calculation True/False columns\n",
    "# format and print results\n",
    "odds_of_three_heads = int(round(df.exactly_three_heads.mean(),2) * 100)\n",
    "odds_of_three_or_more_heads = int(round(df.three_or_more_heads.mean(),2) * 100)\n",
    "\n",
    "print(f'The odds of getting exactly three heads when flipping five coins is {odds_of_three_heads}%')\n",
    "print(f'The odds of gettng three or more heads in the same five flips is {odds_of_three_or_more_heads}%')"
   ]
  },
  {
   "cell_type": "code",
   "execution_count": 26,
   "id": "1d5d2974",
   "metadata": {},
   "outputs": [
    {
     "data": {
      "text/plain": [
       "0.056"
      ]
     },
     "execution_count": 26,
     "metadata": {},
     "output_type": "execute_result"
    }
   ],
   "source": [
    "# 3) There are approximitely 3 web development cohorts for every 1 data science cohort at Codeup. \n",
    "# Assuming that Codeup randomly selects an alumni to put on a billboard, \n",
    "# what are the odds that the two billboards I drive past both have data science students on them?\n",
    "\n",
    "n_trials = nrows = 10_000\n",
    "f_stu = ncols = 2\n",
    "\n",
    "b_board = np.random.choice([\"Web_dev\", \"Web_dev\", \"Web_dev\", \"DS\"], n_trials * f_stu).reshape(nrows, ncols)\n",
    "b_board\n",
    "\n",
    "b_boards = pd.DataFrame(b_board)\n",
    "b_boards.columns = [\"bill_board1\", \"bill_board2\"]\n",
    "\n",
    "((b_boards.bill_board1 == \"DS\")  & (b_boards.bill_board2 == \"DS\")).mean()\n",
    "\n"
   ]
  },
  {
   "cell_type": "code",
   "execution_count": 27,
   "id": "3e51120b",
   "metadata": {},
   "outputs": [
    {
     "name": "stdout",
     "output_type": "stream",
     "text": [
      "The odds of both billboards being Data Science are 6%\n"
     ]
    }
   ],
   "source": [
    "# Another why to answer this question 3:\n",
    "nrows = 100_000 # set rows to number of simulations\n",
    "ncols = 2       # set columns to number of bilboards in each simulation\n",
    "\n",
    "# create data frame with each row representing a simulation and each column representing a bilboard in the simulation\n",
    "rolls = np.random.choice([\"DS\",\"WEB\",\"WEB\",\"WEB\"], nrows * ncols).reshape(nrows, ncols)\n",
    "\n",
    "# convert to data frame\n",
    "df = pd.DataFrame(rolls)\n",
    "\n",
    "# add calculation columnn\n",
    "df['both_ds'] = (df[0] == \"DS\") & (df[1] == \"DS\")\n",
    "\n",
    "# get mean of calculation True/False columns\n",
    "# format and print results\n",
    "both_ds = int(round(df.both_ds.mean(),2) * 100)\n",
    "\n",
    "print(f'The odds of both billboards being Data Science are {both_ds}%')"
   ]
  },
  {
   "cell_type": "code",
   "execution_count": null,
   "id": "adf10266",
   "metadata": {},
   "outputs": [],
   "source": [
    "# 4) Codeup students buy, on average, 3 poptart packages with a standard deviation of 1.5 a day \n",
    "# from the snack vending machine. If on monday the machine is restocked with 17 poptart \n",
    "# packages, how likely is it that I will be able to buy some poptarts on Friday afternoon? \n",
    "# (Remember, if you have mean and standard deviation, use the np.random.normal)\n",
    "\n"
   ]
  },
  {
   "cell_type": "code",
   "execution_count": 28,
   "id": "17ec4ebc",
   "metadata": {},
   "outputs": [],
   "source": [
    "nrows = 10_000 # set rows to number of simulations\n",
    "ncols = 5       # set columns to number of days in each simulation"
   ]
  },
  {
   "cell_type": "code",
   "execution_count": 32,
   "id": "23d2aba2",
   "metadata": {},
   "outputs": [
    {
     "data": {
      "text/html": [
       "<div>\n",
       "<style scoped>\n",
       "    .dataframe tbody tr th:only-of-type {\n",
       "        vertical-align: middle;\n",
       "    }\n",
       "\n",
       "    .dataframe tbody tr th {\n",
       "        vertical-align: top;\n",
       "    }\n",
       "\n",
       "    .dataframe thead th {\n",
       "        text-align: right;\n",
       "    }\n",
       "</style>\n",
       "<table border=\"1\" class=\"dataframe\">\n",
       "  <thead>\n",
       "    <tr style=\"text-align: right;\">\n",
       "      <th></th>\n",
       "      <th>0</th>\n",
       "      <th>1</th>\n",
       "      <th>2</th>\n",
       "      <th>3</th>\n",
       "      <th>4</th>\n",
       "    </tr>\n",
       "  </thead>\n",
       "  <tbody>\n",
       "    <tr>\n",
       "      <th>0</th>\n",
       "      <td>2</td>\n",
       "      <td>1</td>\n",
       "      <td>0</td>\n",
       "      <td>2</td>\n",
       "      <td>3</td>\n",
       "    </tr>\n",
       "    <tr>\n",
       "      <th>1</th>\n",
       "      <td>1</td>\n",
       "      <td>2</td>\n",
       "      <td>4</td>\n",
       "      <td>1</td>\n",
       "      <td>2</td>\n",
       "    </tr>\n",
       "    <tr>\n",
       "      <th>2</th>\n",
       "      <td>3</td>\n",
       "      <td>2</td>\n",
       "      <td>1</td>\n",
       "      <td>2</td>\n",
       "      <td>2</td>\n",
       "    </tr>\n",
       "    <tr>\n",
       "      <th>3</th>\n",
       "      <td>4</td>\n",
       "      <td>3</td>\n",
       "      <td>1</td>\n",
       "      <td>1</td>\n",
       "      <td>1</td>\n",
       "    </tr>\n",
       "    <tr>\n",
       "      <th>4</th>\n",
       "      <td>4</td>\n",
       "      <td>3</td>\n",
       "      <td>2</td>\n",
       "      <td>2</td>\n",
       "      <td>4</td>\n",
       "    </tr>\n",
       "  </tbody>\n",
       "</table>\n",
       "</div>"
      ],
      "text/plain": [
       "   0  1  2  3  4\n",
       "0  2  1  0  2  3\n",
       "1  1  2  4  1  2\n",
       "2  3  2  1  2  2\n",
       "3  4  3  1  1  1\n",
       "4  4  3  2  2  4"
      ]
     },
     "execution_count": 32,
     "metadata": {},
     "output_type": "execute_result"
    }
   ],
   "source": [
    "# create array with each row representing a simulation and each column representing a day in the simulation\n",
    "poptart = np.random.normal(3, 1.5, nrows * ncols).astype(int).reshape(nrows, ncols)\n",
    "\n",
    "# convert to data frame\n",
    "df = pd.DataFrame(rolls)\n",
    "df.head()\n"
   ]
  },
  {
   "cell_type": "code",
   "execution_count": 38,
   "id": "998a2253",
   "metadata": {},
   "outputs": [
    {
     "data": {
      "text/plain": [
       "-3"
      ]
     },
     "execution_count": 38,
     "metadata": {},
     "output_type": "execute_result"
    }
   ],
   "source": [
    "poptart.min()"
   ]
  },
  {
   "cell_type": "code",
   "execution_count": 35,
   "id": "b3050236",
   "metadata": {},
   "outputs": [
    {
     "data": {
      "text/html": [
       "<div>\n",
       "<style scoped>\n",
       "    .dataframe tbody tr th:only-of-type {\n",
       "        vertical-align: middle;\n",
       "    }\n",
       "\n",
       "    .dataframe tbody tr th {\n",
       "        vertical-align: top;\n",
       "    }\n",
       "\n",
       "    .dataframe thead th {\n",
       "        text-align: right;\n",
       "    }\n",
       "</style>\n",
       "<table border=\"1\" class=\"dataframe\">\n",
       "  <thead>\n",
       "    <tr style=\"text-align: right;\">\n",
       "      <th></th>\n",
       "      <th>0</th>\n",
       "      <th>1</th>\n",
       "      <th>2</th>\n",
       "      <th>3</th>\n",
       "      <th>4</th>\n",
       "      <th>total_pop_tarts_bought</th>\n",
       "      <th>pop_tarts_remain</th>\n",
       "    </tr>\n",
       "  </thead>\n",
       "  <tbody>\n",
       "    <tr>\n",
       "      <th>0</th>\n",
       "      <td>2</td>\n",
       "      <td>1</td>\n",
       "      <td>0</td>\n",
       "      <td>2</td>\n",
       "      <td>3</td>\n",
       "      <td>8</td>\n",
       "      <td>True</td>\n",
       "    </tr>\n",
       "    <tr>\n",
       "      <th>1</th>\n",
       "      <td>1</td>\n",
       "      <td>2</td>\n",
       "      <td>4</td>\n",
       "      <td>1</td>\n",
       "      <td>2</td>\n",
       "      <td>10</td>\n",
       "      <td>True</td>\n",
       "    </tr>\n",
       "    <tr>\n",
       "      <th>2</th>\n",
       "      <td>3</td>\n",
       "      <td>2</td>\n",
       "      <td>1</td>\n",
       "      <td>2</td>\n",
       "      <td>2</td>\n",
       "      <td>10</td>\n",
       "      <td>True</td>\n",
       "    </tr>\n",
       "    <tr>\n",
       "      <th>3</th>\n",
       "      <td>4</td>\n",
       "      <td>3</td>\n",
       "      <td>1</td>\n",
       "      <td>1</td>\n",
       "      <td>1</td>\n",
       "      <td>10</td>\n",
       "      <td>True</td>\n",
       "    </tr>\n",
       "    <tr>\n",
       "      <th>4</th>\n",
       "      <td>4</td>\n",
       "      <td>3</td>\n",
       "      <td>2</td>\n",
       "      <td>2</td>\n",
       "      <td>4</td>\n",
       "      <td>15</td>\n",
       "      <td>True</td>\n",
       "    </tr>\n",
       "  </tbody>\n",
       "</table>\n",
       "</div>"
      ],
      "text/plain": [
       "   0  1  2  3  4  total_pop_tarts_bought  pop_tarts_remain\n",
       "0  2  1  0  2  3                       8              True\n",
       "1  1  2  4  1  2                      10              True\n",
       "2  3  2  1  2  2                      10              True\n",
       "3  4  3  1  1  1                      10              True\n",
       "4  4  3  2  2  4                      15              True"
      ]
     },
     "execution_count": 35,
     "metadata": {},
     "output_type": "execute_result"
    }
   ],
   "source": [
    "# add calculation columnns\n",
    "df['total_pop_tarts_bought'] = df.sum(axis=1)\n",
    "df['pop_tarts_remain'] = df['total_pop_tarts_bought'] < 17\n",
    "df.head()"
   ]
  },
  {
   "cell_type": "code",
   "execution_count": 36,
   "id": "6fb75804",
   "metadata": {},
   "outputs": [
    {
     "data": {
      "text/plain": [
       "0.8784"
      ]
     },
     "execution_count": 36,
     "metadata": {},
     "output_type": "execute_result"
    }
   ],
   "source": [
    "df['pop_tarts_remain'].mean()"
   ]
  },
  {
   "cell_type": "code",
   "execution_count": 37,
   "id": "0a1d7153",
   "metadata": {},
   "outputs": [
    {
     "name": "stdout",
     "output_type": "stream",
     "text": [
      "The odds of being able to by a PopTart in the afternoon on friday are 88%\n"
     ]
    }
   ],
   "source": [
    "# get mean of calculation True/False columns\n",
    "# format and print results\n",
    "tarts = int(round(df['pop_tarts_remain'].mean(),2) * 100)\n",
    "\n",
    "\n",
    "print(f'The odds of being able to by a PopTart in the afternoon on friday are {tarts}%')"
   ]
  },
  {
   "cell_type": "code",
   "execution_count": null,
   "id": "25da1e0f",
   "metadata": {},
   "outputs": [],
   "source": [
    "# 5) Men have an average height of 178 cm and standard deviation of \n",
    "# 8cm. Women have a mean of 170, sd = 6cm. If a man and woman are \n",
    "# chosen at random, P(woman taller than man)?"
   ]
  },
  {
   "cell_type": "code",
   "execution_count": 45,
   "id": "0b9a01e3",
   "metadata": {},
   "outputs": [],
   "source": [
    "# create arrays of veriables\n",
    "male_heights = np.random.normal(178, 8, 100_000)\n",
    "female_heights = np.random.normal(170, 6, 100_000)"
   ]
  },
  {
   "cell_type": "code",
   "execution_count": 46,
   "id": "314b0570",
   "metadata": {},
   "outputs": [
    {
     "data": {
      "text/plain": [
       "array([165.93534663, 172.37028136, 170.36354442, ..., 182.23131911,\n",
       "       186.95939774, 167.76163569])"
      ]
     },
     "execution_count": 46,
     "metadata": {},
     "output_type": "execute_result"
    }
   ],
   "source": [
    "male_heights"
   ]
  },
  {
   "cell_type": "code",
   "execution_count": 47,
   "id": "18c258a0",
   "metadata": {},
   "outputs": [
    {
     "data": {
      "text/plain": [
       "array([173.42379183, 174.4145254 , 179.84359875, ..., 165.67737229,\n",
       "       169.96559128, 170.8703171 ])"
      ]
     },
     "execution_count": 47,
     "metadata": {},
     "output_type": "execute_result"
    }
   ],
   "source": [
    "female_heights"
   ]
  },
  {
   "cell_type": "code",
   "execution_count": 49,
   "id": "a1804a79",
   "metadata": {},
   "outputs": [
    {
     "data": {
      "text/html": [
       "<div>\n",
       "<style scoped>\n",
       "    .dataframe tbody tr th:only-of-type {\n",
       "        vertical-align: middle;\n",
       "    }\n",
       "\n",
       "    .dataframe tbody tr th {\n",
       "        vertical-align: top;\n",
       "    }\n",
       "\n",
       "    .dataframe thead th {\n",
       "        text-align: right;\n",
       "    }\n",
       "</style>\n",
       "<table border=\"1\" class=\"dataframe\">\n",
       "  <thead>\n",
       "    <tr style=\"text-align: right;\">\n",
       "      <th></th>\n",
       "      <th>male_heights</th>\n",
       "      <th>female_heights</th>\n",
       "    </tr>\n",
       "  </thead>\n",
       "  <tbody>\n",
       "    <tr>\n",
       "      <th>0</th>\n",
       "      <td>165.935347</td>\n",
       "      <td>173.423792</td>\n",
       "    </tr>\n",
       "    <tr>\n",
       "      <th>1</th>\n",
       "      <td>172.370281</td>\n",
       "      <td>174.414525</td>\n",
       "    </tr>\n",
       "    <tr>\n",
       "      <th>2</th>\n",
       "      <td>170.363544</td>\n",
       "      <td>179.843599</td>\n",
       "    </tr>\n",
       "    <tr>\n",
       "      <th>3</th>\n",
       "      <td>193.157872</td>\n",
       "      <td>164.662827</td>\n",
       "    </tr>\n",
       "    <tr>\n",
       "      <th>4</th>\n",
       "      <td>181.554350</td>\n",
       "      <td>173.911451</td>\n",
       "    </tr>\n",
       "  </tbody>\n",
       "</table>\n",
       "</div>"
      ],
      "text/plain": [
       "   male_heights  female_heights\n",
       "0    165.935347      173.423792\n",
       "1    172.370281      174.414525\n",
       "2    170.363544      179.843599\n",
       "3    193.157872      164.662827\n",
       "4    181.554350      173.911451"
      ]
     },
     "execution_count": 49,
     "metadata": {},
     "output_type": "execute_result"
    }
   ],
   "source": [
    "# convert array to data frame\n",
    "df = pd.DataFrame({\"male_heights\" : male_heights,\n",
    "                   \"female_heights\" : female_heights})\n",
    "\n",
    "df.head()"
   ]
  },
  {
   "cell_type": "code",
   "execution_count": 50,
   "id": "26ab2717",
   "metadata": {},
   "outputs": [
    {
     "data": {
      "text/html": [
       "<div>\n",
       "<style scoped>\n",
       "    .dataframe tbody tr th:only-of-type {\n",
       "        vertical-align: middle;\n",
       "    }\n",
       "\n",
       "    .dataframe tbody tr th {\n",
       "        vertical-align: top;\n",
       "    }\n",
       "\n",
       "    .dataframe thead th {\n",
       "        text-align: right;\n",
       "    }\n",
       "</style>\n",
       "<table border=\"1\" class=\"dataframe\">\n",
       "  <thead>\n",
       "    <tr style=\"text-align: right;\">\n",
       "      <th></th>\n",
       "      <th>male_heights</th>\n",
       "      <th>female_heights</th>\n",
       "      <th>female_is_taller</th>\n",
       "    </tr>\n",
       "  </thead>\n",
       "  <tbody>\n",
       "    <tr>\n",
       "      <th>0</th>\n",
       "      <td>165.935347</td>\n",
       "      <td>173.423792</td>\n",
       "      <td>True</td>\n",
       "    </tr>\n",
       "    <tr>\n",
       "      <th>1</th>\n",
       "      <td>172.370281</td>\n",
       "      <td>174.414525</td>\n",
       "      <td>True</td>\n",
       "    </tr>\n",
       "    <tr>\n",
       "      <th>2</th>\n",
       "      <td>170.363544</td>\n",
       "      <td>179.843599</td>\n",
       "      <td>True</td>\n",
       "    </tr>\n",
       "    <tr>\n",
       "      <th>3</th>\n",
       "      <td>193.157872</td>\n",
       "      <td>164.662827</td>\n",
       "      <td>False</td>\n",
       "    </tr>\n",
       "    <tr>\n",
       "      <th>4</th>\n",
       "      <td>181.554350</td>\n",
       "      <td>173.911451</td>\n",
       "      <td>False</td>\n",
       "    </tr>\n",
       "  </tbody>\n",
       "</table>\n",
       "</div>"
      ],
      "text/plain": [
       "   male_heights  female_heights  female_is_taller\n",
       "0    165.935347      173.423792              True\n",
       "1    172.370281      174.414525              True\n",
       "2    170.363544      179.843599              True\n",
       "3    193.157872      164.662827             False\n",
       "4    181.554350      173.911451             False"
      ]
     },
     "execution_count": 50,
     "metadata": {},
     "output_type": "execute_result"
    }
   ],
   "source": [
    "# add calculation column\n",
    "df['female_is_taller'] = df.female_heights > df.male_heights\n",
    "df.head()\n"
   ]
  },
  {
   "cell_type": "code",
   "execution_count": 51,
   "id": "b092c894",
   "metadata": {},
   "outputs": [
    {
     "data": {
      "text/plain": [
       "0.20989"
      ]
     },
     "execution_count": 51,
     "metadata": {},
     "output_type": "execute_result"
    }
   ],
   "source": [
    "# get mean of female_is_taller\n",
    "df['female_is_taller'].mean()"
   ]
  },
  {
   "cell_type": "code",
   "execution_count": 52,
   "id": "4cebcc15",
   "metadata": {},
   "outputs": [
    {
     "name": "stdout",
     "output_type": "stream",
     "text": [
      "The probability of a woman, chosen at random, being taller than a man, chosen at random is 21%\n"
     ]
    }
   ],
   "source": [
    "# get mean of calculation True/False columns\n",
    "# format and print results\n",
    "taller_female = int(round(df['female_is_taller'].mean(),2) * 100)\n",
    "\n",
    "print(f\"The probability of a woman, chosen at random, being taller than a man, chosen at random is {taller_female}%\")"
   ]
  },
  {
   "cell_type": "code",
   "execution_count": 53,
   "id": "216bbd6d",
   "metadata": {},
   "outputs": [],
   "source": [
    "# 6) When installing anaconda on a student's computer, there's a 1 in 250 \n",
    "# chance that the download is corrupted and the installation fails.\n",
    "\n",
    "# What are the odds that after having 50 students download anaconda, \n",
    "# no one has an installation issue? 100 students?"
   ]
  },
  {
   "cell_type": "code",
   "execution_count": 54,
   "id": "7494b918",
   "metadata": {},
   "outputs": [],
   "source": [
    "nrows = 100_000 # set rows to number of simulations\n",
    "ncols = 50      # set columns to number of days in each simulation"
   ]
  },
  {
   "cell_type": "code",
   "execution_count": 55,
   "id": "e2b2da0b",
   "metadata": {},
   "outputs": [
    {
     "data": {
      "text/plain": [
       "array([[False, False, False, ..., False, False, False],\n",
       "       [False, False, False, ..., False, False, False],\n",
       "       [False, False, False, ..., False, False, False],\n",
       "       ...,\n",
       "       [False, False, False, ..., False, False, False],\n",
       "       [ True, False, False, ..., False, False, False],\n",
       "       [False, False, False, ..., False, False, False]])"
      ]
     },
     "execution_count": 55,
     "metadata": {},
     "output_type": "execute_result"
    }
   ],
   "source": [
    "# create array with each row representing a simulation and each column representing a student in the simulation\n",
    "\n",
    "# list with 249 falses and one true\n",
    "issue_range = [False for r in range(1,250)]\n",
    "issue_range.append(True)\n",
    "\n",
    "# create array\n",
    "installs = np.random.choice(issue_range, nrows * ncols).reshape(nrows, ncols)\n",
    "installs"
   ]
  },
  {
   "cell_type": "code",
   "execution_count": 56,
   "id": "82475931",
   "metadata": {},
   "outputs": [
    {
     "data": {
      "text/html": [
       "<div>\n",
       "<style scoped>\n",
       "    .dataframe tbody tr th:only-of-type {\n",
       "        vertical-align: middle;\n",
       "    }\n",
       "\n",
       "    .dataframe tbody tr th {\n",
       "        vertical-align: top;\n",
       "    }\n",
       "\n",
       "    .dataframe thead th {\n",
       "        text-align: right;\n",
       "    }\n",
       "</style>\n",
       "<table border=\"1\" class=\"dataframe\">\n",
       "  <thead>\n",
       "    <tr style=\"text-align: right;\">\n",
       "      <th></th>\n",
       "      <th>0</th>\n",
       "      <th>1</th>\n",
       "      <th>2</th>\n",
       "      <th>3</th>\n",
       "      <th>4</th>\n",
       "      <th>5</th>\n",
       "      <th>6</th>\n",
       "      <th>7</th>\n",
       "      <th>8</th>\n",
       "      <th>9</th>\n",
       "      <th>...</th>\n",
       "      <th>40</th>\n",
       "      <th>41</th>\n",
       "      <th>42</th>\n",
       "      <th>43</th>\n",
       "      <th>44</th>\n",
       "      <th>45</th>\n",
       "      <th>46</th>\n",
       "      <th>47</th>\n",
       "      <th>48</th>\n",
       "      <th>49</th>\n",
       "    </tr>\n",
       "  </thead>\n",
       "  <tbody>\n",
       "    <tr>\n",
       "      <th>0</th>\n",
       "      <td>False</td>\n",
       "      <td>False</td>\n",
       "      <td>False</td>\n",
       "      <td>False</td>\n",
       "      <td>False</td>\n",
       "      <td>False</td>\n",
       "      <td>False</td>\n",
       "      <td>False</td>\n",
       "      <td>False</td>\n",
       "      <td>False</td>\n",
       "      <td>...</td>\n",
       "      <td>False</td>\n",
       "      <td>False</td>\n",
       "      <td>False</td>\n",
       "      <td>False</td>\n",
       "      <td>False</td>\n",
       "      <td>False</td>\n",
       "      <td>False</td>\n",
       "      <td>False</td>\n",
       "      <td>False</td>\n",
       "      <td>False</td>\n",
       "    </tr>\n",
       "    <tr>\n",
       "      <th>1</th>\n",
       "      <td>False</td>\n",
       "      <td>False</td>\n",
       "      <td>False</td>\n",
       "      <td>False</td>\n",
       "      <td>False</td>\n",
       "      <td>False</td>\n",
       "      <td>False</td>\n",
       "      <td>False</td>\n",
       "      <td>False</td>\n",
       "      <td>False</td>\n",
       "      <td>...</td>\n",
       "      <td>False</td>\n",
       "      <td>False</td>\n",
       "      <td>False</td>\n",
       "      <td>False</td>\n",
       "      <td>False</td>\n",
       "      <td>False</td>\n",
       "      <td>False</td>\n",
       "      <td>False</td>\n",
       "      <td>False</td>\n",
       "      <td>False</td>\n",
       "    </tr>\n",
       "    <tr>\n",
       "      <th>2</th>\n",
       "      <td>False</td>\n",
       "      <td>False</td>\n",
       "      <td>False</td>\n",
       "      <td>False</td>\n",
       "      <td>False</td>\n",
       "      <td>False</td>\n",
       "      <td>False</td>\n",
       "      <td>False</td>\n",
       "      <td>False</td>\n",
       "      <td>False</td>\n",
       "      <td>...</td>\n",
       "      <td>False</td>\n",
       "      <td>False</td>\n",
       "      <td>False</td>\n",
       "      <td>False</td>\n",
       "      <td>False</td>\n",
       "      <td>False</td>\n",
       "      <td>False</td>\n",
       "      <td>False</td>\n",
       "      <td>False</td>\n",
       "      <td>False</td>\n",
       "    </tr>\n",
       "    <tr>\n",
       "      <th>3</th>\n",
       "      <td>False</td>\n",
       "      <td>False</td>\n",
       "      <td>False</td>\n",
       "      <td>False</td>\n",
       "      <td>False</td>\n",
       "      <td>False</td>\n",
       "      <td>False</td>\n",
       "      <td>False</td>\n",
       "      <td>False</td>\n",
       "      <td>False</td>\n",
       "      <td>...</td>\n",
       "      <td>False</td>\n",
       "      <td>False</td>\n",
       "      <td>False</td>\n",
       "      <td>False</td>\n",
       "      <td>False</td>\n",
       "      <td>False</td>\n",
       "      <td>False</td>\n",
       "      <td>False</td>\n",
       "      <td>False</td>\n",
       "      <td>False</td>\n",
       "    </tr>\n",
       "    <tr>\n",
       "      <th>4</th>\n",
       "      <td>False</td>\n",
       "      <td>False</td>\n",
       "      <td>False</td>\n",
       "      <td>False</td>\n",
       "      <td>False</td>\n",
       "      <td>False</td>\n",
       "      <td>False</td>\n",
       "      <td>False</td>\n",
       "      <td>False</td>\n",
       "      <td>False</td>\n",
       "      <td>...</td>\n",
       "      <td>False</td>\n",
       "      <td>False</td>\n",
       "      <td>False</td>\n",
       "      <td>False</td>\n",
       "      <td>False</td>\n",
       "      <td>False</td>\n",
       "      <td>False</td>\n",
       "      <td>False</td>\n",
       "      <td>False</td>\n",
       "      <td>False</td>\n",
       "    </tr>\n",
       "  </tbody>\n",
       "</table>\n",
       "<p>5 rows × 50 columns</p>\n",
       "</div>"
      ],
      "text/plain": [
       "      0      1      2      3      4      5      6      7      8      9   ...  \\\n",
       "0  False  False  False  False  False  False  False  False  False  False  ...   \n",
       "1  False  False  False  False  False  False  False  False  False  False  ...   \n",
       "2  False  False  False  False  False  False  False  False  False  False  ...   \n",
       "3  False  False  False  False  False  False  False  False  False  False  ...   \n",
       "4  False  False  False  False  False  False  False  False  False  False  ...   \n",
       "\n",
       "      40     41     42     43     44     45     46     47     48     49  \n",
       "0  False  False  False  False  False  False  False  False  False  False  \n",
       "1  False  False  False  False  False  False  False  False  False  False  \n",
       "2  False  False  False  False  False  False  False  False  False  False  \n",
       "3  False  False  False  False  False  False  False  False  False  False  \n",
       "4  False  False  False  False  False  False  False  False  False  False  \n",
       "\n",
       "[5 rows x 50 columns]"
      ]
     },
     "execution_count": 56,
     "metadata": {},
     "output_type": "execute_result"
    }
   ],
   "source": [
    "# convert to data frame\n",
    "df = pd.DataFrame(installs)\n",
    "df.head(5)"
   ]
  },
  {
   "cell_type": "code",
   "execution_count": 57,
   "id": "1b828048",
   "metadata": {},
   "outputs": [
    {
     "data": {
      "text/html": [
       "<div>\n",
       "<style scoped>\n",
       "    .dataframe tbody tr th:only-of-type {\n",
       "        vertical-align: middle;\n",
       "    }\n",
       "\n",
       "    .dataframe tbody tr th {\n",
       "        vertical-align: top;\n",
       "    }\n",
       "\n",
       "    .dataframe thead th {\n",
       "        text-align: right;\n",
       "    }\n",
       "</style>\n",
       "<table border=\"1\" class=\"dataframe\">\n",
       "  <thead>\n",
       "    <tr style=\"text-align: right;\">\n",
       "      <th></th>\n",
       "      <th>0</th>\n",
       "      <th>1</th>\n",
       "      <th>2</th>\n",
       "      <th>3</th>\n",
       "      <th>4</th>\n",
       "      <th>5</th>\n",
       "      <th>6</th>\n",
       "      <th>7</th>\n",
       "      <th>8</th>\n",
       "      <th>9</th>\n",
       "      <th>...</th>\n",
       "      <th>41</th>\n",
       "      <th>42</th>\n",
       "      <th>43</th>\n",
       "      <th>44</th>\n",
       "      <th>45</th>\n",
       "      <th>46</th>\n",
       "      <th>47</th>\n",
       "      <th>48</th>\n",
       "      <th>49</th>\n",
       "      <th>has_no_problem</th>\n",
       "    </tr>\n",
       "  </thead>\n",
       "  <tbody>\n",
       "    <tr>\n",
       "      <th>0</th>\n",
       "      <td>False</td>\n",
       "      <td>False</td>\n",
       "      <td>False</td>\n",
       "      <td>False</td>\n",
       "      <td>False</td>\n",
       "      <td>False</td>\n",
       "      <td>False</td>\n",
       "      <td>False</td>\n",
       "      <td>False</td>\n",
       "      <td>False</td>\n",
       "      <td>...</td>\n",
       "      <td>False</td>\n",
       "      <td>False</td>\n",
       "      <td>False</td>\n",
       "      <td>False</td>\n",
       "      <td>False</td>\n",
       "      <td>False</td>\n",
       "      <td>False</td>\n",
       "      <td>False</td>\n",
       "      <td>False</td>\n",
       "      <td>True</td>\n",
       "    </tr>\n",
       "    <tr>\n",
       "      <th>1</th>\n",
       "      <td>False</td>\n",
       "      <td>False</td>\n",
       "      <td>False</td>\n",
       "      <td>False</td>\n",
       "      <td>False</td>\n",
       "      <td>False</td>\n",
       "      <td>False</td>\n",
       "      <td>False</td>\n",
       "      <td>False</td>\n",
       "      <td>False</td>\n",
       "      <td>...</td>\n",
       "      <td>False</td>\n",
       "      <td>False</td>\n",
       "      <td>False</td>\n",
       "      <td>False</td>\n",
       "      <td>False</td>\n",
       "      <td>False</td>\n",
       "      <td>False</td>\n",
       "      <td>False</td>\n",
       "      <td>False</td>\n",
       "      <td>True</td>\n",
       "    </tr>\n",
       "    <tr>\n",
       "      <th>2</th>\n",
       "      <td>False</td>\n",
       "      <td>False</td>\n",
       "      <td>False</td>\n",
       "      <td>False</td>\n",
       "      <td>False</td>\n",
       "      <td>False</td>\n",
       "      <td>False</td>\n",
       "      <td>False</td>\n",
       "      <td>False</td>\n",
       "      <td>False</td>\n",
       "      <td>...</td>\n",
       "      <td>False</td>\n",
       "      <td>False</td>\n",
       "      <td>False</td>\n",
       "      <td>False</td>\n",
       "      <td>False</td>\n",
       "      <td>False</td>\n",
       "      <td>False</td>\n",
       "      <td>False</td>\n",
       "      <td>False</td>\n",
       "      <td>True</td>\n",
       "    </tr>\n",
       "    <tr>\n",
       "      <th>3</th>\n",
       "      <td>False</td>\n",
       "      <td>False</td>\n",
       "      <td>False</td>\n",
       "      <td>False</td>\n",
       "      <td>False</td>\n",
       "      <td>False</td>\n",
       "      <td>False</td>\n",
       "      <td>False</td>\n",
       "      <td>False</td>\n",
       "      <td>False</td>\n",
       "      <td>...</td>\n",
       "      <td>False</td>\n",
       "      <td>False</td>\n",
       "      <td>False</td>\n",
       "      <td>False</td>\n",
       "      <td>False</td>\n",
       "      <td>False</td>\n",
       "      <td>False</td>\n",
       "      <td>False</td>\n",
       "      <td>False</td>\n",
       "      <td>True</td>\n",
       "    </tr>\n",
       "    <tr>\n",
       "      <th>4</th>\n",
       "      <td>False</td>\n",
       "      <td>False</td>\n",
       "      <td>False</td>\n",
       "      <td>False</td>\n",
       "      <td>False</td>\n",
       "      <td>False</td>\n",
       "      <td>False</td>\n",
       "      <td>False</td>\n",
       "      <td>False</td>\n",
       "      <td>False</td>\n",
       "      <td>...</td>\n",
       "      <td>False</td>\n",
       "      <td>False</td>\n",
       "      <td>False</td>\n",
       "      <td>False</td>\n",
       "      <td>False</td>\n",
       "      <td>False</td>\n",
       "      <td>False</td>\n",
       "      <td>False</td>\n",
       "      <td>False</td>\n",
       "      <td>True</td>\n",
       "    </tr>\n",
       "  </tbody>\n",
       "</table>\n",
       "<p>5 rows × 51 columns</p>\n",
       "</div>"
      ],
      "text/plain": [
       "       0      1      2      3      4      5      6      7      8      9  ...  \\\n",
       "0  False  False  False  False  False  False  False  False  False  False  ...   \n",
       "1  False  False  False  False  False  False  False  False  False  False  ...   \n",
       "2  False  False  False  False  False  False  False  False  False  False  ...   \n",
       "3  False  False  False  False  False  False  False  False  False  False  ...   \n",
       "4  False  False  False  False  False  False  False  False  False  False  ...   \n",
       "\n",
       "      41     42     43     44     45     46     47     48     49  \\\n",
       "0  False  False  False  False  False  False  False  False  False   \n",
       "1  False  False  False  False  False  False  False  False  False   \n",
       "2  False  False  False  False  False  False  False  False  False   \n",
       "3  False  False  False  False  False  False  False  False  False   \n",
       "4  False  False  False  False  False  False  False  False  False   \n",
       "\n",
       "   has_no_problem  \n",
       "0            True  \n",
       "1            True  \n",
       "2            True  \n",
       "3            True  \n",
       "4            True  \n",
       "\n",
       "[5 rows x 51 columns]"
      ]
     },
     "execution_count": 57,
     "metadata": {},
     "output_type": "execute_result"
    }
   ],
   "source": [
    "# add calculation columnns\n",
    "df['has_no_problem'] = df.sum(axis=1) == 0\n",
    "df.head()"
   ]
  },
  {
   "cell_type": "code",
   "execution_count": 58,
   "id": "c27417c0",
   "metadata": {},
   "outputs": [
    {
     "data": {
      "text/plain": [
       "0.8188"
      ]
     },
     "execution_count": 58,
     "metadata": {},
     "output_type": "execute_result"
    }
   ],
   "source": [
    "df['has_no_problem'].mean()"
   ]
  },
  {
   "cell_type": "code",
   "execution_count": 59,
   "id": "6651d966",
   "metadata": {},
   "outputs": [
    {
     "name": "stdout",
     "output_type": "stream",
     "text": [
      "The odds of 100 students dowloading Anaconda without a problem are 82%\n"
     ]
    }
   ],
   "source": [
    "# get mean of calculation True/False columns\n",
    "# format and print results\n",
    "problems = int(round(df['has_no_problem'].mean(),2) * 100)\n",
    "\n",
    "print(f'The odds of 100 students dowloading Anaconda without a problem are {problems}%')\n"
   ]
  },
  {
   "cell_type": "code",
   "execution_count": 60,
   "id": "38c3ca64",
   "metadata": {},
   "outputs": [
    {
     "name": "stdout",
     "output_type": "stream",
     "text": [
      "The odds of a problem occuring in the first 150 instllations is 45%\n"
     ]
    }
   ],
   "source": [
    "# What is the probability that we observe an installation issue within \n",
    "# the first 150 students that download anaconda?\n",
    "\n",
    "nrows = 100_000 # set rows to number of simulations\n",
    "ncols = 150      # set columns to number of students in each simulation\n",
    "\n",
    "# list with 249 falses and one true\n",
    "issue_range = [False for r in range(1,250)]\n",
    "issue_range.append(True)\n",
    "\n",
    "# create array with each row representing a simulation and each column representing a student in the simulation\n",
    "installs = np.random.choice(issue_range, nrows * ncols).reshape(nrows, ncols)\n",
    "\n",
    "# convert to data frame\n",
    "df = pd.DataFrame(installs)\n",
    "\n",
    "# add calculation columnns\n",
    "df['has_a_problem'] = df.sum(axis=1) > 0\n",
    "\n",
    "# get mean of calculation True/False columns\n",
    "# format and print results\n",
    "problems = int(round(df['has_a_problem'].mean(),2) * 100)\n",
    "\n",
    "print(f'The odds of a problem occuring in the first 150 instllations is {problems}%')"
   ]
  },
  {
   "cell_type": "code",
   "execution_count": 61,
   "id": "c44b8a2a",
   "metadata": {},
   "outputs": [
    {
     "name": "stdout",
     "output_type": "stream",
     "text": [
      "The odds of 450 instllations occuring without an issue is 16%\n"
     ]
    }
   ],
   "source": [
    "#How likely is it that 450 students all download anaconda without an issue?\n",
    "\n",
    "nrows = 100_000 # set rows to number of simulations\n",
    "ncols = 450      # set columns to number of students in each simulation\n",
    "\n",
    "# list with 249 falses and one true\n",
    "issue_range = [False for r in range(1,250)]\n",
    "issue_range.append(True)\n",
    "\n",
    "# create array with each row representing a simulation and each column representing a student in the simulation\n",
    "installs = np.random.choice(issue_range, nrows * ncols).reshape(nrows, ncols)\n",
    "\n",
    "# convert to data frame\n",
    "df = pd.DataFrame(installs)\n",
    "\n",
    "# add calculation columnns\n",
    "df['has_no_problem'] = df.sum(axis=1) == 0\n",
    "\n",
    "# get mean of calculation True/False columns\n",
    "# format and print results\n",
    "problems = int(round(df['has_no_problem'].mean(),2) * 100)\n",
    "\n",
    "print(f'The odds of 450 instllations occuring without an issue is {problems}%')"
   ]
  },
  {
   "cell_type": "code",
   "execution_count": 62,
   "id": "17c08ee5",
   "metadata": {},
   "outputs": [],
   "source": [
    "# 7) There's a 70% chance on any given day that there will be at least \n",
    "# one food truck at Travis Park. However, you haven't seen a food \n",
    "# truck there in 3 days. How unlikely is this?\n",
    "\n",
    "nrows = 100_000 # set rows to number of simulations\n",
    "ncols = 3      # set columns to represent 3 day without a food truck in each simulation\n",
    "\n"
   ]
  },
  {
   "cell_type": "code",
   "execution_count": 63,
   "id": "3c28bc3c",
   "metadata": {},
   "outputs": [
    {
     "data": {
      "text/plain": [
       "array([[ True,  True,  True],\n",
       "       [ True, False,  True],\n",
       "       [ True,  True, False],\n",
       "       ...,\n",
       "       [False, False,  True],\n",
       "       [False, False,  True],\n",
       "       [ True,  True,  True]])"
      ]
     },
     "execution_count": 63,
     "metadata": {},
     "output_type": "execute_result"
    }
   ],
   "source": [
    "# create array with each row representing a simulation and each column representing a 3 days in the simulation\n",
    "sightings = np.random.choice([True, False], nrows * ncols, p=[.7,.3]).reshape(nrows, ncols)\n",
    "sightings\n"
   ]
  },
  {
   "cell_type": "code",
   "execution_count": 64,
   "id": "faf88f66",
   "metadata": {},
   "outputs": [
    {
     "data": {
      "text/html": [
       "<div>\n",
       "<style scoped>\n",
       "    .dataframe tbody tr th:only-of-type {\n",
       "        vertical-align: middle;\n",
       "    }\n",
       "\n",
       "    .dataframe tbody tr th {\n",
       "        vertical-align: top;\n",
       "    }\n",
       "\n",
       "    .dataframe thead th {\n",
       "        text-align: right;\n",
       "    }\n",
       "</style>\n",
       "<table border=\"1\" class=\"dataframe\">\n",
       "  <thead>\n",
       "    <tr style=\"text-align: right;\">\n",
       "      <th></th>\n",
       "      <th>0</th>\n",
       "      <th>1</th>\n",
       "      <th>2</th>\n",
       "    </tr>\n",
       "  </thead>\n",
       "  <tbody>\n",
       "    <tr>\n",
       "      <th>0</th>\n",
       "      <td>True</td>\n",
       "      <td>True</td>\n",
       "      <td>True</td>\n",
       "    </tr>\n",
       "    <tr>\n",
       "      <th>1</th>\n",
       "      <td>True</td>\n",
       "      <td>False</td>\n",
       "      <td>True</td>\n",
       "    </tr>\n",
       "    <tr>\n",
       "      <th>2</th>\n",
       "      <td>True</td>\n",
       "      <td>True</td>\n",
       "      <td>False</td>\n",
       "    </tr>\n",
       "    <tr>\n",
       "      <th>3</th>\n",
       "      <td>True</td>\n",
       "      <td>True</td>\n",
       "      <td>True</td>\n",
       "    </tr>\n",
       "    <tr>\n",
       "      <th>4</th>\n",
       "      <td>True</td>\n",
       "      <td>False</td>\n",
       "      <td>False</td>\n",
       "    </tr>\n",
       "  </tbody>\n",
       "</table>\n",
       "</div>"
      ],
      "text/plain": [
       "      0      1      2\n",
       "0  True   True   True\n",
       "1  True  False   True\n",
       "2  True   True  False\n",
       "3  True   True   True\n",
       "4  True  False  False"
      ]
     },
     "execution_count": 64,
     "metadata": {},
     "output_type": "execute_result"
    }
   ],
   "source": [
    "df = pd.DataFrame(sightings)\n",
    "df.head()\n"
   ]
  },
  {
   "cell_type": "code",
   "execution_count": 65,
   "id": "174d1bef",
   "metadata": {},
   "outputs": [
    {
     "data": {
      "text/html": [
       "<div>\n",
       "<style scoped>\n",
       "    .dataframe tbody tr th:only-of-type {\n",
       "        vertical-align: middle;\n",
       "    }\n",
       "\n",
       "    .dataframe tbody tr th {\n",
       "        vertical-align: top;\n",
       "    }\n",
       "\n",
       "    .dataframe thead th {\n",
       "        text-align: right;\n",
       "    }\n",
       "</style>\n",
       "<table border=\"1\" class=\"dataframe\">\n",
       "  <thead>\n",
       "    <tr style=\"text-align: right;\">\n",
       "      <th></th>\n",
       "      <th>0</th>\n",
       "      <th>1</th>\n",
       "      <th>2</th>\n",
       "      <th>times_sighted</th>\n",
       "      <th>not_sighted_three_days</th>\n",
       "    </tr>\n",
       "  </thead>\n",
       "  <tbody>\n",
       "    <tr>\n",
       "      <th>0</th>\n",
       "      <td>True</td>\n",
       "      <td>True</td>\n",
       "      <td>True</td>\n",
       "      <td>3</td>\n",
       "      <td>False</td>\n",
       "    </tr>\n",
       "    <tr>\n",
       "      <th>1</th>\n",
       "      <td>True</td>\n",
       "      <td>False</td>\n",
       "      <td>True</td>\n",
       "      <td>2</td>\n",
       "      <td>False</td>\n",
       "    </tr>\n",
       "    <tr>\n",
       "      <th>2</th>\n",
       "      <td>True</td>\n",
       "      <td>True</td>\n",
       "      <td>False</td>\n",
       "      <td>2</td>\n",
       "      <td>False</td>\n",
       "    </tr>\n",
       "    <tr>\n",
       "      <th>3</th>\n",
       "      <td>True</td>\n",
       "      <td>True</td>\n",
       "      <td>True</td>\n",
       "      <td>3</td>\n",
       "      <td>False</td>\n",
       "    </tr>\n",
       "    <tr>\n",
       "      <th>4</th>\n",
       "      <td>True</td>\n",
       "      <td>False</td>\n",
       "      <td>False</td>\n",
       "      <td>1</td>\n",
       "      <td>False</td>\n",
       "    </tr>\n",
       "  </tbody>\n",
       "</table>\n",
       "</div>"
      ],
      "text/plain": [
       "      0      1      2  times_sighted  not_sighted_three_days\n",
       "0  True   True   True              3                   False\n",
       "1  True  False   True              2                   False\n",
       "2  True   True  False              2                   False\n",
       "3  True   True   True              3                   False\n",
       "4  True  False  False              1                   False"
      ]
     },
     "execution_count": 65,
     "metadata": {},
     "output_type": "execute_result"
    }
   ],
   "source": [
    "# add calculation columnns\n",
    "df['times_sighted'] = df.sum(axis=1)\n",
    "df['not_sighted_three_days'] = df.times_sighted == 0\n",
    "df.head()"
   ]
  },
  {
   "cell_type": "code",
   "execution_count": 66,
   "id": "16a9893f",
   "metadata": {},
   "outputs": [
    {
     "data": {
      "text/plain": [
       "0.02642"
      ]
     },
     "execution_count": 66,
     "metadata": {},
     "output_type": "execute_result"
    }
   ],
   "source": [
    "df['not_sighted_three_days'].mean()\n"
   ]
  },
  {
   "cell_type": "code",
   "execution_count": 67,
   "id": "507a35dd",
   "metadata": {},
   "outputs": [
    {
     "name": "stdout",
     "output_type": "stream",
     "text": [
      "The chance of not seeing a food truck in Travis Park for three days is 3%\n"
     ]
    }
   ],
   "source": [
    "# get mean of calculation True/False columns\n",
    "trucks = int(round(df['not_sighted_three_days'].mean(),2) * 100)\n",
    "\n",
    "print(f'The chance of not seeing a food truck in Travis Park for three days is {trucks}%')"
   ]
  },
  {
   "cell_type": "code",
   "execution_count": 96,
   "id": "4faf40a8",
   "metadata": {},
   "outputs": [
    {
     "data": {
      "text/plain": [
       "array([[ True,  True],\n",
       "       [ True, False],\n",
       "       [ True,  True],\n",
       "       ...,\n",
       "       [ True, False],\n",
       "       [ True,  True],\n",
       "       [ True, False]])"
      ]
     },
     "execution_count": 96,
     "metadata": {},
     "output_type": "execute_result"
    }
   ],
   "source": [
    "# How likely is it that a food truck will show up sometime this week?\n",
    "\n",
    "# Remaining week days\n",
    "nrows = 100_000 # set rows to number of simulations\n",
    "ncols = 2      # set columns to number of days in each simulation\n",
    "\n",
    "# create array with each row representing a simulation and each column representing a student in the simulation\n",
    "sightings = np.random.choice([True, False], nrows * ncols, p=[.7,.3]).reshape(nrows, ncols)\n",
    "\n",
    "sightings\n"
   ]
  },
  {
   "cell_type": "code",
   "execution_count": 101,
   "id": "0b80e472",
   "metadata": {},
   "outputs": [],
   "source": [
    "# add calculation columnns\n",
    "sightings = df.sum(axis=1) > 3\n",
    "df = pd.DataFrame(sightings)"
   ]
  },
  {
   "cell_type": "code",
   "execution_count": 102,
   "id": "7b99912c",
   "metadata": {},
   "outputs": [
    {
     "data": {
      "text/plain": [
       "array([[317, 259,  92, ..., 271, 259, 248],\n",
       "       [284, 108, 271, ..., 210, 359, 242],\n",
       "       [176, 262, 284, ...,  90,  94,   0],\n",
       "       ...,\n",
       "       [ 56, 322,  61, ...,   2,  12, 295],\n",
       "       [105, 251, 252, ...,  55,  77,  80],\n",
       "       [341, 119, 340, ...,   5,  55,  12]])"
      ]
     },
     "execution_count": 102,
     "metadata": {},
     "output_type": "execute_result"
    }
   ],
   "source": [
    "# 8) If 23 people are in the same room, what are the odds that two of them share a birthday?\n",
    "# What if it's 20 people? 40?\n",
    "\n",
    "nrows = 100_000 # set rows to number of simulations\n",
    "ncols = 23       # set columns to number of people in each simulation\n",
    "\n",
    "birth_days = np.random.choice([r for r in range(366)], nrows * ncols).reshape(nrows, ncols)\n",
    "birth_days\n"
   ]
  },
  {
   "cell_type": "code",
   "execution_count": 103,
   "id": "1ecd5ca5",
   "metadata": {},
   "outputs": [
    {
     "data": {
      "text/html": [
       "<div>\n",
       "<style scoped>\n",
       "    .dataframe tbody tr th:only-of-type {\n",
       "        vertical-align: middle;\n",
       "    }\n",
       "\n",
       "    .dataframe tbody tr th {\n",
       "        vertical-align: top;\n",
       "    }\n",
       "\n",
       "    .dataframe thead th {\n",
       "        text-align: right;\n",
       "    }\n",
       "</style>\n",
       "<table border=\"1\" class=\"dataframe\">\n",
       "  <thead>\n",
       "    <tr style=\"text-align: right;\">\n",
       "      <th></th>\n",
       "      <th>0</th>\n",
       "      <th>1</th>\n",
       "      <th>2</th>\n",
       "      <th>3</th>\n",
       "      <th>4</th>\n",
       "      <th>5</th>\n",
       "      <th>6</th>\n",
       "      <th>7</th>\n",
       "      <th>8</th>\n",
       "      <th>9</th>\n",
       "      <th>...</th>\n",
       "      <th>13</th>\n",
       "      <th>14</th>\n",
       "      <th>15</th>\n",
       "      <th>16</th>\n",
       "      <th>17</th>\n",
       "      <th>18</th>\n",
       "      <th>19</th>\n",
       "      <th>20</th>\n",
       "      <th>21</th>\n",
       "      <th>22</th>\n",
       "    </tr>\n",
       "  </thead>\n",
       "  <tbody>\n",
       "    <tr>\n",
       "      <th>0</th>\n",
       "      <td>317</td>\n",
       "      <td>259</td>\n",
       "      <td>92</td>\n",
       "      <td>307</td>\n",
       "      <td>183</td>\n",
       "      <td>30</td>\n",
       "      <td>31</td>\n",
       "      <td>250</td>\n",
       "      <td>275</td>\n",
       "      <td>295</td>\n",
       "      <td>...</td>\n",
       "      <td>48</td>\n",
       "      <td>169</td>\n",
       "      <td>361</td>\n",
       "      <td>23</td>\n",
       "      <td>247</td>\n",
       "      <td>103</td>\n",
       "      <td>141</td>\n",
       "      <td>271</td>\n",
       "      <td>259</td>\n",
       "      <td>248</td>\n",
       "    </tr>\n",
       "    <tr>\n",
       "      <th>1</th>\n",
       "      <td>284</td>\n",
       "      <td>108</td>\n",
       "      <td>271</td>\n",
       "      <td>321</td>\n",
       "      <td>11</td>\n",
       "      <td>201</td>\n",
       "      <td>294</td>\n",
       "      <td>67</td>\n",
       "      <td>88</td>\n",
       "      <td>281</td>\n",
       "      <td>...</td>\n",
       "      <td>266</td>\n",
       "      <td>50</td>\n",
       "      <td>45</td>\n",
       "      <td>38</td>\n",
       "      <td>231</td>\n",
       "      <td>305</td>\n",
       "      <td>251</td>\n",
       "      <td>210</td>\n",
       "      <td>359</td>\n",
       "      <td>242</td>\n",
       "    </tr>\n",
       "    <tr>\n",
       "      <th>2</th>\n",
       "      <td>176</td>\n",
       "      <td>262</td>\n",
       "      <td>284</td>\n",
       "      <td>210</td>\n",
       "      <td>182</td>\n",
       "      <td>134</td>\n",
       "      <td>102</td>\n",
       "      <td>208</td>\n",
       "      <td>109</td>\n",
       "      <td>238</td>\n",
       "      <td>...</td>\n",
       "      <td>146</td>\n",
       "      <td>145</td>\n",
       "      <td>162</td>\n",
       "      <td>53</td>\n",
       "      <td>352</td>\n",
       "      <td>361</td>\n",
       "      <td>190</td>\n",
       "      <td>90</td>\n",
       "      <td>94</td>\n",
       "      <td>0</td>\n",
       "    </tr>\n",
       "    <tr>\n",
       "      <th>3</th>\n",
       "      <td>122</td>\n",
       "      <td>205</td>\n",
       "      <td>139</td>\n",
       "      <td>36</td>\n",
       "      <td>334</td>\n",
       "      <td>104</td>\n",
       "      <td>179</td>\n",
       "      <td>104</td>\n",
       "      <td>246</td>\n",
       "      <td>49</td>\n",
       "      <td>...</td>\n",
       "      <td>93</td>\n",
       "      <td>309</td>\n",
       "      <td>354</td>\n",
       "      <td>298</td>\n",
       "      <td>129</td>\n",
       "      <td>356</td>\n",
       "      <td>324</td>\n",
       "      <td>352</td>\n",
       "      <td>323</td>\n",
       "      <td>362</td>\n",
       "    </tr>\n",
       "    <tr>\n",
       "      <th>4</th>\n",
       "      <td>197</td>\n",
       "      <td>241</td>\n",
       "      <td>111</td>\n",
       "      <td>63</td>\n",
       "      <td>33</td>\n",
       "      <td>364</td>\n",
       "      <td>341</td>\n",
       "      <td>62</td>\n",
       "      <td>114</td>\n",
       "      <td>361</td>\n",
       "      <td>...</td>\n",
       "      <td>130</td>\n",
       "      <td>39</td>\n",
       "      <td>266</td>\n",
       "      <td>283</td>\n",
       "      <td>264</td>\n",
       "      <td>130</td>\n",
       "      <td>169</td>\n",
       "      <td>283</td>\n",
       "      <td>81</td>\n",
       "      <td>187</td>\n",
       "    </tr>\n",
       "  </tbody>\n",
       "</table>\n",
       "<p>5 rows × 23 columns</p>\n",
       "</div>"
      ],
      "text/plain": [
       "    0    1    2    3    4    5    6    7    8    9   ...   13   14   15   16  \\\n",
       "0  317  259   92  307  183   30   31  250  275  295  ...   48  169  361   23   \n",
       "1  284  108  271  321   11  201  294   67   88  281  ...  266   50   45   38   \n",
       "2  176  262  284  210  182  134  102  208  109  238  ...  146  145  162   53   \n",
       "3  122  205  139   36  334  104  179  104  246   49  ...   93  309  354  298   \n",
       "4  197  241  111   63   33  364  341   62  114  361  ...  130   39  266  283   \n",
       "\n",
       "    17   18   19   20   21   22  \n",
       "0  247  103  141  271  259  248  \n",
       "1  231  305  251  210  359  242  \n",
       "2  352  361  190   90   94    0  \n",
       "3  129  356  324  352  323  362  \n",
       "4  264  130  169  283   81  187  \n",
       "\n",
       "[5 rows x 23 columns]"
      ]
     },
     "execution_count": 103,
     "metadata": {},
     "output_type": "execute_result"
    }
   ],
   "source": [
    "df = pd.DataFrame(birth_days)\n",
    "df.head()"
   ]
  },
  {
   "cell_type": "code",
   "execution_count": 104,
   "id": "26260f25",
   "metadata": {},
   "outputs": [
    {
     "data": {
      "text/html": [
       "<div>\n",
       "<style scoped>\n",
       "    .dataframe tbody tr th:only-of-type {\n",
       "        vertical-align: middle;\n",
       "    }\n",
       "\n",
       "    .dataframe tbody tr th {\n",
       "        vertical-align: top;\n",
       "    }\n",
       "\n",
       "    .dataframe thead th {\n",
       "        text-align: right;\n",
       "    }\n",
       "</style>\n",
       "<table border=\"1\" class=\"dataframe\">\n",
       "  <thead>\n",
       "    <tr style=\"text-align: right;\">\n",
       "      <th></th>\n",
       "      <th>0</th>\n",
       "      <th>1</th>\n",
       "      <th>2</th>\n",
       "      <th>3</th>\n",
       "      <th>4</th>\n",
       "      <th>5</th>\n",
       "      <th>6</th>\n",
       "      <th>7</th>\n",
       "      <th>8</th>\n",
       "      <th>9</th>\n",
       "      <th>...</th>\n",
       "      <th>15</th>\n",
       "      <th>16</th>\n",
       "      <th>17</th>\n",
       "      <th>18</th>\n",
       "      <th>19</th>\n",
       "      <th>20</th>\n",
       "      <th>21</th>\n",
       "      <th>22</th>\n",
       "      <th>at_least_two_matching_birthdays</th>\n",
       "      <th>exactly_two_matching_birthdays</th>\n",
       "    </tr>\n",
       "  </thead>\n",
       "  <tbody>\n",
       "    <tr>\n",
       "      <th>0</th>\n",
       "      <td>317</td>\n",
       "      <td>259</td>\n",
       "      <td>92</td>\n",
       "      <td>307</td>\n",
       "      <td>183</td>\n",
       "      <td>30</td>\n",
       "      <td>31</td>\n",
       "      <td>250</td>\n",
       "      <td>275</td>\n",
       "      <td>295</td>\n",
       "      <td>...</td>\n",
       "      <td>361</td>\n",
       "      <td>23</td>\n",
       "      <td>247</td>\n",
       "      <td>103</td>\n",
       "      <td>141</td>\n",
       "      <td>271</td>\n",
       "      <td>259</td>\n",
       "      <td>248</td>\n",
       "      <td>True</td>\n",
       "      <td>False</td>\n",
       "    </tr>\n",
       "    <tr>\n",
       "      <th>1</th>\n",
       "      <td>284</td>\n",
       "      <td>108</td>\n",
       "      <td>271</td>\n",
       "      <td>321</td>\n",
       "      <td>11</td>\n",
       "      <td>201</td>\n",
       "      <td>294</td>\n",
       "      <td>67</td>\n",
       "      <td>88</td>\n",
       "      <td>281</td>\n",
       "      <td>...</td>\n",
       "      <td>45</td>\n",
       "      <td>38</td>\n",
       "      <td>231</td>\n",
       "      <td>305</td>\n",
       "      <td>251</td>\n",
       "      <td>210</td>\n",
       "      <td>359</td>\n",
       "      <td>242</td>\n",
       "      <td>False</td>\n",
       "      <td>False</td>\n",
       "    </tr>\n",
       "    <tr>\n",
       "      <th>2</th>\n",
       "      <td>176</td>\n",
       "      <td>262</td>\n",
       "      <td>284</td>\n",
       "      <td>210</td>\n",
       "      <td>182</td>\n",
       "      <td>134</td>\n",
       "      <td>102</td>\n",
       "      <td>208</td>\n",
       "      <td>109</td>\n",
       "      <td>238</td>\n",
       "      <td>...</td>\n",
       "      <td>162</td>\n",
       "      <td>53</td>\n",
       "      <td>352</td>\n",
       "      <td>361</td>\n",
       "      <td>190</td>\n",
       "      <td>90</td>\n",
       "      <td>94</td>\n",
       "      <td>0</td>\n",
       "      <td>False</td>\n",
       "      <td>False</td>\n",
       "    </tr>\n",
       "    <tr>\n",
       "      <th>3</th>\n",
       "      <td>122</td>\n",
       "      <td>205</td>\n",
       "      <td>139</td>\n",
       "      <td>36</td>\n",
       "      <td>334</td>\n",
       "      <td>104</td>\n",
       "      <td>179</td>\n",
       "      <td>104</td>\n",
       "      <td>246</td>\n",
       "      <td>49</td>\n",
       "      <td>...</td>\n",
       "      <td>354</td>\n",
       "      <td>298</td>\n",
       "      <td>129</td>\n",
       "      <td>356</td>\n",
       "      <td>324</td>\n",
       "      <td>352</td>\n",
       "      <td>323</td>\n",
       "      <td>362</td>\n",
       "      <td>True</td>\n",
       "      <td>False</td>\n",
       "    </tr>\n",
       "    <tr>\n",
       "      <th>4</th>\n",
       "      <td>197</td>\n",
       "      <td>241</td>\n",
       "      <td>111</td>\n",
       "      <td>63</td>\n",
       "      <td>33</td>\n",
       "      <td>364</td>\n",
       "      <td>341</td>\n",
       "      <td>62</td>\n",
       "      <td>114</td>\n",
       "      <td>361</td>\n",
       "      <td>...</td>\n",
       "      <td>266</td>\n",
       "      <td>283</td>\n",
       "      <td>264</td>\n",
       "      <td>130</td>\n",
       "      <td>169</td>\n",
       "      <td>283</td>\n",
       "      <td>81</td>\n",
       "      <td>187</td>\n",
       "      <td>True</td>\n",
       "      <td>True</td>\n",
       "    </tr>\n",
       "  </tbody>\n",
       "</table>\n",
       "<p>5 rows × 25 columns</p>\n",
       "</div>"
      ],
      "text/plain": [
       "     0    1    2    3    4    5    6    7    8    9  ...   15   16   17   18  \\\n",
       "0  317  259   92  307  183   30   31  250  275  295  ...  361   23  247  103   \n",
       "1  284  108  271  321   11  201  294   67   88  281  ...   45   38  231  305   \n",
       "2  176  262  284  210  182  134  102  208  109  238  ...  162   53  352  361   \n",
       "3  122  205  139   36  334  104  179  104  246   49  ...  354  298  129  356   \n",
       "4  197  241  111   63   33  364  341   62  114  361  ...  266  283  264  130   \n",
       "\n",
       "    19   20   21   22  at_least_two_matching_birthdays  \\\n",
       "0  141  271  259  248                             True   \n",
       "1  251  210  359  242                            False   \n",
       "2  190   90   94    0                            False   \n",
       "3  324  352  323  362                             True   \n",
       "4  169  283   81  187                             True   \n",
       "\n",
       "   exactly_two_matching_birthdays  \n",
       "0                           False  \n",
       "1                           False  \n",
       "2                           False  \n",
       "3                           False  \n",
       "4                            True  \n",
       "\n",
       "[5 rows x 25 columns]"
      ]
     },
     "execution_count": 104,
     "metadata": {},
     "output_type": "execute_result"
    }
   ],
   "source": [
    "df['at_least_two_matching_birthdays'] = df.nunique(axis=1) < ncols\n",
    "df['exactly_two_matching_birthdays'] = df.nunique(axis=1) == ncols-1\n",
    "df.head()"
   ]
  },
  {
   "cell_type": "code",
   "execution_count": 105,
   "id": "7c23bb4a",
   "metadata": {},
   "outputs": [
    {
     "name": "stdout",
     "output_type": "stream",
     "text": [
      "The odds of a room of 23 people having at least two people that share a birthday are 51%\n",
      "The odds of a room of 23 people having exactly two people that share a birthday are 13%\n"
     ]
    }
   ],
   "source": [
    "at_least_two_matching_birthdays = int(round(df['at_least_two_matching_birthdays'].mean(),2) * 100)\n",
    "exactly_two_matching_birthdays = int(round(df['exactly_two_matching_birthdays'].mean(),2) * 100)\n",
    "\n",
    "print(f'The odds of a room of {ncols} people having at least two people that share a birthday are {at_least_two_matching_birthdays}%')\n",
    "print(f'The odds of a room of {ncols} people having exactly two people that share a birthday are {exactly_two_matching_birthdays}%')"
   ]
  },
  {
   "cell_type": "code",
   "execution_count": 106,
   "id": "60b9727e",
   "metadata": {},
   "outputs": [
    {
     "name": "stdout",
     "output_type": "stream",
     "text": [
      "The odds of a room of 20 people having at least two people that share a birthday are 41%\n",
      "The odds of a room of 20 people having exactly least two people that share a birthday are 9%\n"
     ]
    }
   ],
   "source": [
    "nrows = 100_000 # set rows to number of simulations\n",
    "ncols = 20       # set columns to number of students in each simulation\n",
    "\n",
    "# create array with each row representing a simulation and each column representing a student in the simulation\n",
    "sightings = np.random.choice([r for r in range(366)], nrows * ncols).reshape(nrows, ncols)\n",
    "\n",
    "# convert to data frame\n",
    "df = pd.DataFrame(sightings)\n",
    "\n",
    "# add calculation columnns\n",
    "df['at_least_two_matching_birthdays'] = df.nunique(axis=1) < ncols\n",
    "df['exactly_two_matching_birthdays'] = df.nunique(axis=1) == ncols-1\n",
    "\n",
    "# get mean of calculation True/False columns\n",
    "# format and print results\n",
    "at_least_two_matching_birthdays = int(round(df['at_least_two_matching_birthdays'].mean(),2) * 100)\n",
    "exactly_two_matching_birthdays = int(round(df['exactly_two_matching_birthdays'].mean(),2) * 100)\n",
    "\n",
    "print(f'The odds of a room of {ncols} people having at least two people that share a birthday are {at_least_two_matching_birthdays}%')\n",
    "print(f'The odds of a room of {ncols} people having exactly least two people that share a birthday are {exactly_two_matching_birthdays}%')"
   ]
  },
  {
   "cell_type": "code",
   "execution_count": 107,
   "id": "be34bbfb",
   "metadata": {},
   "outputs": [
    {
     "name": "stdout",
     "output_type": "stream",
     "text": [
      "The odds of a room of 40 people having at least two people that share a birthday are 89%\n",
      "The odds of a room of 40 people having exactly two people that share a birthday are 28%\n"
     ]
    }
   ],
   "source": [
    "nrows = 100_000 # set rows to number of simulations\n",
    "ncols = 40       # set columns to number of students in each simulation\n",
    "\n",
    "# create array with each row representing a simulation and each column representing a student in the simulation\n",
    "sightings = np.random.choice([r for r in range(366)], nrows * ncols).reshape(nrows, ncols)\n",
    "\n",
    "# convert to data frame\n",
    "df = pd.DataFrame(sightings)\n",
    "\n",
    "# add calculation columnns\n",
    "df['at_least_two_matching_birthdays'] = df.nunique(axis=1) < ncols\n",
    "df['exactly_two_matching_birthdays'] = df.nunique(axis=1) == ncols-1\n",
    "\n",
    "# get mean of calculation True/False columns\n",
    "# format and print results\n",
    "at_least_two_matching_birthdays = int(round(df['at_least_two_matching_birthdays'].mean(),2) * 100)\n",
    "exactly_two_matching_birthdays = int(round(df['exactly_two_matching_birthdays'].mean(),2) * 100)\n",
    "\n",
    "print(f'The odds of a room of {ncols} people having at least two people that share a birthday are {at_least_two_matching_birthdays}%')\n",
    "print(f'The odds of a room of {ncols} people having exactly two people that share a birthday are {exactly_two_matching_birthdays}%')"
   ]
  },
  {
   "cell_type": "code",
   "execution_count": null,
   "id": "662c0e83",
   "metadata": {},
   "outputs": [],
   "source": []
  }
 ],
 "metadata": {
  "kernelspec": {
   "display_name": "Python 3 (ipykernel)",
   "language": "python",
   "name": "python3"
  },
  "language_info": {
   "codemirror_mode": {
    "name": "ipython",
    "version": 3
   },
   "file_extension": ".py",
   "mimetype": "text/x-python",
   "name": "python",
   "nbconvert_exporter": "python",
   "pygments_lexer": "ipython3",
   "version": "3.9.7"
  }
 },
 "nbformat": 4,
 "nbformat_minor": 5
}
